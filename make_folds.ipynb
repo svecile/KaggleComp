{
 "cells": [
  {
   "cell_type": "code",
   "execution_count": null,
   "metadata": {
    "collapsed": true
   },
   "outputs": [],
   "source": [
    "import os\n",
    "import pandas as pd\n",
    "import numpy as np\n",
    "from sklearn.preprocessing import LabelEncoder\n",
    "from collections import Counter, defaultdict\n",
    "from sklearn.utils import check_random_state"
   ]
  },
  {
   "cell_type": "markdown",
   "source": [
    "#### Stratified k-fold splitting function"
   ],
   "metadata": {
    "collapsed": false,
    "pycharm": {
     "name": "#%% md\n"
    }
   }
  },
  {
   "cell_type": "code",
   "execution_count": null,
   "outputs": [],
   "source": [
    "#Slightly modified splitting function but not my code. Can be found here https://www.kaggle.com/underwearfitting/how-to-split-folds-given-new-drug-id\n",
    "def split(X, y, groups, numSplits = 5, random_state=None):\n",
    "\n",
    "    def eval_y_counts_per_fold(y_counts, fold):\n",
    "        y_counts_per_fold[fold] += y_counts\n",
    "        std_per_label = []\n",
    "        for label in range(labels_num):\n",
    "            label_std = np.std(\n",
    "                [y_counts_per_fold[i][label] / y_distr[label] for i in range(numSplits)]\n",
    "            )\n",
    "            std_per_label.append(label_std)\n",
    "        y_counts_per_fold[fold] -= y_counts\n",
    "        return np.mean(std_per_label)\n",
    "\n",
    "    rnd = check_random_state(random_state)\n",
    "\n",
    "    labels_num = np.max(y) + 1\n",
    "    y_counts_per_group = defaultdict(lambda: np.zeros(labels_num))\n",
    "    y_distr = Counter()\n",
    "    for label, g in zip(y, groups):\n",
    "        y_counts_per_group[g][label] += 1\n",
    "        y_distr[label] += 1\n",
    "\n",
    "        y_counts_per_fold = defaultdict(lambda: np.zeros(labels_num))\n",
    "        groups_per_fold = defaultdict(set)\n",
    "\n",
    "        groups_and_y_counts = list(y_counts_per_group.items())\n",
    "        rnd.shuffle(groups_and_y_counts)\n",
    "\n",
    "        for g, y_counts in sorted(groups_and_y_counts, key=lambda x: -np.std(x[1])):\n",
    "            best_fold = None\n",
    "            min_eval = None\n",
    "            for i in range(numSplits):\n",
    "                fold_eval = eval_y_counts_per_fold(y_counts, i)\n",
    "                if min_eval is None or fold_eval < min_eval:\n",
    "                    min_eval = fold_eval\n",
    "                    best_fold = i\n",
    "            y_counts_per_fold[best_fold] += y_counts\n",
    "            groups_per_fold[best_fold].add(g)\n",
    "\n",
    "        all_groups = set(groups)\n",
    "        for i in range(numSplits):\n",
    "            train_groups = all_groups - groups_per_fold[i]\n",
    "            test_groups = groups_per_fold[i]\n",
    "\n",
    "            train_indices = [i for i, g in enumerate(groups) if g in train_groups]\n",
    "            test_indices = [i for i, g in enumerate(groups) if g in test_groups]\n",
    "\n",
    "            yield train_indices, test_indices"
   ],
   "metadata": {
    "collapsed": false,
    "pycharm": {
     "name": "#%%\n"
    }
   }
  },
  {
   "cell_type": "code",
   "execution_count": null,
   "outputs": [],
   "source": [
    "base_dir = \"./ranzcr_clip_catheter_line_classification/\"\n",
    "train_df = pd.read_csv(os.path.join(base_dir, \"train.csv\"))\n",
    "\n",
    "#concat all the labels into a single number\n",
    "target_cols = train_df.drop(['StudyInstanceUID', 'PatientID'],axis=1).columns.values.tolist()\n",
    "targets = train_df[target_cols].astype(str)\n",
    "# create a new col to store the label\n",
    "train_df['combined_label'] = ''\n",
    "for i in range(targets.shape[1]):\n",
    "    train_df['combined_label'] += targets.iloc[:,i]\n",
    "# how many of each label there are\n",
    "print(train_df.combined_label.value_counts())\n",
    "#encode training labels\n",
    "train_df['combined_label'] = LabelEncoder().fit_transform(train_df['combined_label'])\n",
    "\n",
    "\n",
    "train_df['fold'] = -1\n",
    "for i, (train_idx, valid_idx) in enumerate(split(X=train_df, y=train_df.combined_label, groups=train_df.PatientID, random_state=0)):\n",
    "    train_df.loc[valid_idx, 'fold'] = int(i)\n",
    "\n",
    "#save training folds csv\n",
    "train_df.to_csv('train_folds.csv', index=True)"
   ],
   "metadata": {
    "collapsed": false,
    "pycharm": {
     "name": "#%%\n"
    }
   }
  }
 ],
 "metadata": {
  "kernelspec": {
   "display_name": "Python 3",
   "language": "python",
   "name": "python3"
  },
  "language_info": {
   "codemirror_mode": {
    "name": "ipython",
    "version": 2
   },
   "file_extension": ".py",
   "mimetype": "text/x-python",
   "name": "python",
   "nbconvert_exporter": "python",
   "pygments_lexer": "ipython2",
   "version": "2.7.6"
  }
 },
 "nbformat": 4,
 "nbformat_minor": 0
}