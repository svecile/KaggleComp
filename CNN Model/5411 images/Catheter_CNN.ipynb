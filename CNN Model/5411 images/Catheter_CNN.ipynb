{
 "cells": [
  {
   "cell_type": "markdown",
   "metadata": {
    "id": "l_ZPt3wHYkys"
   },
   "source": [
    "## Importing the Libraries:"
   ]
  },
  {
   "cell_type": "code",
   "execution_count": null,
   "metadata": {
    "id": "MxFLHwuxYky1"
   },
   "outputs": [],
   "source": [
    "import os\n",
    "from keras.models import Sequential\n",
    "from keras.layers import Conv2D, MaxPool2D, Flatten, Dense, InputLayer, BatchNormalization, Dropout\n",
    "import tensorflow as tf\n",
    "import pandas as pd\n",
    "import numpy as np\n",
    "import cv2\n",
    "from matplotlib import pyplot as plt\n",
    "from sklearn.preprocessing import LabelEncoder\n",
    "from sklearn.model_selection import train_test_split\n",
    "import random\n",
    "import pickle\n",
    "from tensorflow.python.framework.ops import disable_eager_execution\n",
    "disable_eager_execution()\n",
    "os.environ['TF_XLA_FLAGS'] = '--tf_xla_enable_xla_devices'\n",
    "from tqdm import tqdm\n",
    "from tensorflow.keras import mixed_precision"
   ]
  },
  {
   "cell_type": "code",
   "execution_count": null,
   "metadata": {
    "colab": {
     "base_uri": "https://localhost:8080/",
     "height": 35
    },
    "id": "RY9vnA6TZG_L",
    "outputId": "b5a62ecb-0b96-493c-a701-58c87958d667"
   },
   "outputs": [
    {
     "data": {
      "application/vnd.google.colaboratory.intrinsic+json": {
       "type": "string"
      },
      "text/plain": [
       "'/device:GPU:0'"
      ]
     },
     "execution_count": 3,
     "metadata": {
      "tags": []
     },
     "output_type": "execute_result"
    }
   ],
   "source": [
    "import tensorflow as tf\n",
    "tf.test.gpu_device_name()"
   ]
  },
  {
   "cell_type": "markdown",
   "metadata": {
    "id": "NCNAgLWYYky3"
   },
   "source": [
    "## Data Analysis:"
   ]
  },
  {
   "cell_type": "code",
   "execution_count": null,
   "metadata": {
    "colab": {
     "base_uri": "https://localhost:8080/"
    },
    "id": "-Iwny_4OY-cT",
    "outputId": "95736774-580a-4497-dda1-0005a6f3b826"
   },
   "outputs": [
    {
     "name": "stdout",
     "output_type": "stream",
     "text": [
      "Drive already mounted at /content/drive; to attempt to forcibly remount, call drive.mount(\"/content/drive\", force_remount=True).\n"
     ]
    }
   ],
   "source": [
    "from google.colab import drive\n",
    "drive.mount('/content/drive')"
   ]
  },
  {
   "cell_type": "code",
   "execution_count": null,
   "metadata": {
    "colab": {
     "base_uri": "https://localhost:8080/",
     "height": 487
    },
    "id": "kAKf7ij2ZguZ",
    "outputId": "0a24762b-0d37-4320-e124-a00d7e1c9296"
   },
   "outputs": [
    {
     "data": {
      "text/html": [
       "<div>\n",
       "<style scoped>\n",
       "    .dataframe tbody tr th:only-of-type {\n",
       "        vertical-align: middle;\n",
       "    }\n",
       "\n",
       "    .dataframe tbody tr th {\n",
       "        vertical-align: top;\n",
       "    }\n",
       "\n",
       "    .dataframe thead th {\n",
       "        text-align: right;\n",
       "    }\n",
       "</style>\n",
       "<table border=\"1\" class=\"dataframe\">\n",
       "  <thead>\n",
       "    <tr style=\"text-align: right;\">\n",
       "      <th></th>\n",
       "      <th>StudyInstanceUID</th>\n",
       "      <th>ETT - Abnormal</th>\n",
       "      <th>ETT - Borderline</th>\n",
       "      <th>ETT - Normal</th>\n",
       "      <th>NGT - Abnormal</th>\n",
       "      <th>NGT - Borderline</th>\n",
       "      <th>NGT - Incompletely Imaged</th>\n",
       "      <th>NGT - Normal</th>\n",
       "      <th>CVC - Abnormal</th>\n",
       "      <th>CVC - Borderline</th>\n",
       "      <th>CVC - Normal</th>\n",
       "      <th>Swan Ganz Catheter Present</th>\n",
       "      <th>PatientID</th>\n",
       "    </tr>\n",
       "  </thead>\n",
       "  <tbody>\n",
       "    <tr>\n",
       "      <th>0</th>\n",
       "      <td>1.2.826.0.1.3680043.8.498.26697628953273228189...</td>\n",
       "      <td>0</td>\n",
       "      <td>0</td>\n",
       "      <td>0</td>\n",
       "      <td>0</td>\n",
       "      <td>0</td>\n",
       "      <td>0</td>\n",
       "      <td>1</td>\n",
       "      <td>0</td>\n",
       "      <td>0</td>\n",
       "      <td>0</td>\n",
       "      <td>0</td>\n",
       "      <td>ec89415d1</td>\n",
       "    </tr>\n",
       "    <tr>\n",
       "      <th>1</th>\n",
       "      <td>1.2.826.0.1.3680043.8.498.46302891597398758759...</td>\n",
       "      <td>0</td>\n",
       "      <td>0</td>\n",
       "      <td>1</td>\n",
       "      <td>0</td>\n",
       "      <td>0</td>\n",
       "      <td>1</td>\n",
       "      <td>0</td>\n",
       "      <td>0</td>\n",
       "      <td>0</td>\n",
       "      <td>1</td>\n",
       "      <td>0</td>\n",
       "      <td>bf4c6da3c</td>\n",
       "    </tr>\n",
       "    <tr>\n",
       "      <th>2</th>\n",
       "      <td>1.2.826.0.1.3680043.8.498.23819260719748494858...</td>\n",
       "      <td>0</td>\n",
       "      <td>0</td>\n",
       "      <td>0</td>\n",
       "      <td>0</td>\n",
       "      <td>0</td>\n",
       "      <td>0</td>\n",
       "      <td>0</td>\n",
       "      <td>0</td>\n",
       "      <td>1</td>\n",
       "      <td>0</td>\n",
       "      <td>0</td>\n",
       "      <td>3fc1c97e5</td>\n",
       "    </tr>\n",
       "    <tr>\n",
       "      <th>3</th>\n",
       "      <td>1.2.826.0.1.3680043.8.498.68286643202323212801...</td>\n",
       "      <td>0</td>\n",
       "      <td>0</td>\n",
       "      <td>0</td>\n",
       "      <td>0</td>\n",
       "      <td>0</td>\n",
       "      <td>0</td>\n",
       "      <td>0</td>\n",
       "      <td>1</td>\n",
       "      <td>0</td>\n",
       "      <td>0</td>\n",
       "      <td>0</td>\n",
       "      <td>c31019814</td>\n",
       "    </tr>\n",
       "    <tr>\n",
       "      <th>4</th>\n",
       "      <td>1.2.826.0.1.3680043.8.498.10050203009225938259...</td>\n",
       "      <td>0</td>\n",
       "      <td>0</td>\n",
       "      <td>0</td>\n",
       "      <td>0</td>\n",
       "      <td>0</td>\n",
       "      <td>0</td>\n",
       "      <td>0</td>\n",
       "      <td>0</td>\n",
       "      <td>0</td>\n",
       "      <td>1</td>\n",
       "      <td>0</td>\n",
       "      <td>207685cd1</td>\n",
       "    </tr>\n",
       "    <tr>\n",
       "      <th>...</th>\n",
       "      <td>...</td>\n",
       "      <td>...</td>\n",
       "      <td>...</td>\n",
       "      <td>...</td>\n",
       "      <td>...</td>\n",
       "      <td>...</td>\n",
       "      <td>...</td>\n",
       "      <td>...</td>\n",
       "      <td>...</td>\n",
       "      <td>...</td>\n",
       "      <td>...</td>\n",
       "      <td>...</td>\n",
       "      <td>...</td>\n",
       "    </tr>\n",
       "    <tr>\n",
       "      <th>30078</th>\n",
       "      <td>1.2.826.0.1.3680043.8.498.74257566841157531124...</td>\n",
       "      <td>0</td>\n",
       "      <td>0</td>\n",
       "      <td>1</td>\n",
       "      <td>0</td>\n",
       "      <td>0</td>\n",
       "      <td>0</td>\n",
       "      <td>0</td>\n",
       "      <td>0</td>\n",
       "      <td>1</td>\n",
       "      <td>1</td>\n",
       "      <td>0</td>\n",
       "      <td>5b5b9ac30</td>\n",
       "    </tr>\n",
       "    <tr>\n",
       "      <th>30079</th>\n",
       "      <td>1.2.826.0.1.3680043.8.498.46510939987173529969...</td>\n",
       "      <td>0</td>\n",
       "      <td>0</td>\n",
       "      <td>0</td>\n",
       "      <td>0</td>\n",
       "      <td>0</td>\n",
       "      <td>0</td>\n",
       "      <td>0</td>\n",
       "      <td>0</td>\n",
       "      <td>0</td>\n",
       "      <td>1</td>\n",
       "      <td>0</td>\n",
       "      <td>7192404d8</td>\n",
       "    </tr>\n",
       "    <tr>\n",
       "      <th>30080</th>\n",
       "      <td>1.2.826.0.1.3680043.8.498.43173270582850645437...</td>\n",
       "      <td>0</td>\n",
       "      <td>0</td>\n",
       "      <td>1</td>\n",
       "      <td>0</td>\n",
       "      <td>0</td>\n",
       "      <td>1</td>\n",
       "      <td>0</td>\n",
       "      <td>1</td>\n",
       "      <td>0</td>\n",
       "      <td>1</td>\n",
       "      <td>0</td>\n",
       "      <td>d4d1b066d</td>\n",
       "    </tr>\n",
       "    <tr>\n",
       "      <th>30081</th>\n",
       "      <td>1.2.826.0.1.3680043.8.498.95092491950130838685...</td>\n",
       "      <td>0</td>\n",
       "      <td>0</td>\n",
       "      <td>0</td>\n",
       "      <td>0</td>\n",
       "      <td>0</td>\n",
       "      <td>0</td>\n",
       "      <td>0</td>\n",
       "      <td>0</td>\n",
       "      <td>1</td>\n",
       "      <td>0</td>\n",
       "      <td>0</td>\n",
       "      <td>01a6602b8</td>\n",
       "    </tr>\n",
       "    <tr>\n",
       "      <th>30082</th>\n",
       "      <td>1.2.826.0.1.3680043.8.498.99518162226171269731...</td>\n",
       "      <td>0</td>\n",
       "      <td>0</td>\n",
       "      <td>1</td>\n",
       "      <td>0</td>\n",
       "      <td>0</td>\n",
       "      <td>0</td>\n",
       "      <td>0</td>\n",
       "      <td>0</td>\n",
       "      <td>0</td>\n",
       "      <td>1</td>\n",
       "      <td>0</td>\n",
       "      <td>e692d316c</td>\n",
       "    </tr>\n",
       "  </tbody>\n",
       "</table>\n",
       "<p>30083 rows × 13 columns</p>\n",
       "</div>"
      ],
      "text/plain": [
       "                                        StudyInstanceUID  ...  PatientID\n",
       "0      1.2.826.0.1.3680043.8.498.26697628953273228189...  ...  ec89415d1\n",
       "1      1.2.826.0.1.3680043.8.498.46302891597398758759...  ...  bf4c6da3c\n",
       "2      1.2.826.0.1.3680043.8.498.23819260719748494858...  ...  3fc1c97e5\n",
       "3      1.2.826.0.1.3680043.8.498.68286643202323212801...  ...  c31019814\n",
       "4      1.2.826.0.1.3680043.8.498.10050203009225938259...  ...  207685cd1\n",
       "...                                                  ...  ...        ...\n",
       "30078  1.2.826.0.1.3680043.8.498.74257566841157531124...  ...  5b5b9ac30\n",
       "30079  1.2.826.0.1.3680043.8.498.46510939987173529969...  ...  7192404d8\n",
       "30080  1.2.826.0.1.3680043.8.498.43173270582850645437...  ...  d4d1b066d\n",
       "30081  1.2.826.0.1.3680043.8.498.95092491950130838685...  ...  01a6602b8\n",
       "30082  1.2.826.0.1.3680043.8.498.99518162226171269731...  ...  e692d316c\n",
       "\n",
       "[30083 rows x 13 columns]"
      ]
     },
     "execution_count": 5,
     "metadata": {
      "tags": []
     },
     "output_type": "execute_result"
    }
   ],
   "source": [
    "with open('/content/drive/My Drive/train.csv', 'r') as f:\n",
    "    train_df = pd.read_csv(f)\n",
    "train_df\n",
    "#3255 unique patients, We want to make sure that each patient's images do not appear in multiple folds to avoid data leakage"
   ]
  },
  {
   "cell_type": "code",
   "execution_count": null,
   "metadata": {
    "colab": {
     "base_uri": "https://localhost:8080/"
    },
    "id": "YntPwNCOYky5",
    "outputId": "2454a886-f9b4-4d6a-f844-2a6eeb18c379"
   },
   "outputs": [
    {
     "data": {
      "text/plain": [
       "StudyInstanceUID              30083\n",
       "ETT - Abnormal                    2\n",
       "ETT - Borderline                  2\n",
       "ETT - Normal                      2\n",
       "NGT - Abnormal                    2\n",
       "NGT - Borderline                  2\n",
       "NGT - Incompletely Imaged         2\n",
       "NGT - Normal                      2\n",
       "CVC - Abnormal                    2\n",
       "CVC - Borderline                  2\n",
       "CVC - Normal                      2\n",
       "Swan Ganz Catheter Present        2\n",
       "PatientID                      3255\n",
       "dtype: int64"
      ]
     },
     "execution_count": 6,
     "metadata": {
      "tags": []
     },
     "output_type": "execute_result"
    }
   ],
   "source": [
    "train_df.nunique()"
   ]
  },
  {
   "cell_type": "code",
   "execution_count": null,
   "metadata": {
    "colab": {
     "base_uri": "https://localhost:8080/"
    },
    "id": "kwa84WX0Yky8",
    "outputId": "21ca8a0d-0be4-4cf8-c78d-4f6703b6b2f6"
   },
   "outputs": [
    {
     "data": {
      "text/plain": [
       "(30083, 13)"
      ]
     },
     "execution_count": 7,
     "metadata": {
      "tags": []
     },
     "output_type": "execute_result"
    }
   ],
   "source": [
    "train_df.shape\n",
    "#13 - 2 = 11 labels which was also mentioned in the dataset description.\n",
    "#That being said, there are two columns \"StudyInstanceUID\" and \"PatientID\" which do not hold valuable information. So, they can be dropped."
   ]
  },
  {
   "cell_type": "code",
   "execution_count": null,
   "metadata": {
    "colab": {
     "base_uri": "https://localhost:8080/"
    },
    "id": "rkrkNrl_Yky9",
    "outputId": "87fb03e9-f15b-481d-af3e-62fa33c3cc1c",
    "pycharm": {
     "name": "#%%\n"
    }
   },
   "outputs": [
    {
     "data": {
      "text/plain": [
       "05029c63a    172\n",
       "55073fece    167\n",
       "26da0d5ad    148\n",
       "8849382d0    130\n",
       "34242119f    110\n",
       "            ... \n",
       "c589e5318      1\n",
       "1951dc11c      1\n",
       "5f920ccb4      1\n",
       "c0b57c3d9      1\n",
       "a5f255504      1\n",
       "Name: PatientID, Length: 3255, dtype: int64"
      ]
     },
     "execution_count": 8,
     "metadata": {
      "tags": []
     },
     "output_type": "execute_result"
    }
   ],
   "source": [
    "#some patients have over 100 images and some have only 1\n",
    "train_df.PatientID.value_counts()"
   ]
  },
  {
   "cell_type": "code",
   "execution_count": null,
   "metadata": {
    "colab": {
     "base_uri": "https://localhost:8080/",
     "height": 491
    },
    "id": "vg0q9PqvYky-",
    "outputId": "0f4909cf-b178-46bb-c6e7-a92c49fb3ea4",
    "pycharm": {
     "name": "#%%\n"
    },
    "scrolled": true
   },
   "outputs": [
    {
     "name": "stdout",
     "output_type": "stream",
     "text": [
      "                  Malpositions  Number of Observations\n",
      "0               ETT - Abnormal                      79\n",
      "1             ETT - Borderline                    1138\n",
      "2                 ETT - Normal                    7240\n",
      "3               NGT - Abnormal                     279\n",
      "4             NGT - Borderline                     529\n",
      "5    NGT - Incompletely Imaged                    2748\n",
      "6                 NGT - Normal                    4797\n",
      "7               CVC - Abnormal                    3195\n",
      "8             CVC - Borderline                    8460\n",
      "9                 CVC - Normal                   21324\n",
      "10  Swan Ganz Catheter Present                     830\n"
     ]
    },
    {
     "data": {
      "text/plain": [
       "<BarContainer object of 11 artists>"
      ]
     },
     "execution_count": 9,
     "metadata": {
      "tags": []
     },
     "output_type": "execute_result"
    },
    {
     "data": {
      "image/png": "[encoded data removed]",
      "text/plain": [
       "<Figure size 432x288 with 1 Axes>"
      ]
     },
     "metadata": {
      "needs_background": "light",
      "tags": []
     },
     "output_type": "display_data"
    }
   ],
   "source": [
    "#plot label distrobution\n",
    "categories = ['ETT - Abnormal', 'ETT - Borderline',\n",
    "       'ETT - Normal', 'NGT - Abnormal', 'NGT - Borderline',\n",
    "       'NGT - Incompletely Imaged', 'NGT - Normal', 'CVC - Abnormal',\n",
    "       'CVC - Borderline', 'CVC - Normal','Swan Ganz Catheter Present']\n",
    "categoryCounts = train_df[categories].sum(axis = 0).reset_index()\n",
    "categoryCounts.columns = ['Malpositions', 'Number of Observations']\n",
    "print(categoryCounts)\n",
    "plt.barh(categoryCounts['Malpositions'], categoryCounts['Number of Observations'])\n",
    "\n",
    "#So according to the graph, most of the people had Normal condition in all three criteria \"CVC\", \"NGT\", and \"ETT\"."
   ]
  },
  {
   "cell_type": "markdown",
   "metadata": {
    "id": "B-exaCdOYky-"
   },
   "source": [
    "## Load the data:"
   ]
  },
  {
   "cell_type": "code",
   "execution_count": null,
   "metadata": {
    "id": "al85aVSvaNIy"
   },
   "outputs": [],
   "source": [
    "# !pwd\n",
    "os.chdir(\"./drive/My Drive/train/dataset\")"
   ]
  },
  {
   "cell_type": "code",
   "execution_count": null,
   "metadata": {
    "id": "oLPY9OwWYky_",
    "pycharm": {
     "name": "#%%\n"
    }
   },
   "outputs": [],
   "source": [
    "#load x and y data\n",
    "Xtrain = pickle.load(open(\"train.pickle\", \"rb\"))\n",
    "ytrain = pickle.load(open(\"target.pickle\", \"rb\"))\n",
    "pid = pickle.load(open(\"id.pickle\", \"rb\"))"
   ]
  },
  {
   "cell_type": "code",
   "execution_count": null,
   "metadata": {
    "colab": {
     "base_uri": "https://localhost:8080/"
    },
    "id": "3SRuoISBYky_",
    "outputId": "1292b0eb-063d-40af-fb64-5d63ddaf9119"
   },
   "outputs": [
    {
     "data": {
      "text/plain": [
       "(5411, 224, 224)"
      ]
     },
     "execution_count": 12,
     "metadata": {
      "tags": []
     },
     "output_type": "execute_result"
    }
   ],
   "source": [
    "# Xtrain\n",
    "Xtrain.shape #verified!"
   ]
  },
  {
   "cell_type": "code",
   "execution_count": null,
   "metadata": {
    "colab": {
     "base_uri": "https://localhost:8080/"
    },
    "id": "lz9iIKzKYky_",
    "outputId": "3907edf9-0c8b-4e83-8dbc-4923b1cd5d7a"
   },
   "outputs": [
    {
     "data": {
      "text/plain": [
       "(5411, 11)"
      ]
     },
     "execution_count": 13,
     "metadata": {
      "tags": []
     },
     "output_type": "execute_result"
    }
   ],
   "source": [
    "# ytrain\n",
    "ytrain.shape"
   ]
  },
  {
   "cell_type": "code",
   "execution_count": null,
   "metadata": {
    "colab": {
     "base_uri": "https://localhost:8080/"
    },
    "id": "8HMAzNptYkzA",
    "outputId": "5953a992-f5de-4bde-f07f-316567093f00"
   },
   "outputs": [
    {
     "data": {
      "text/plain": [
       "(3375,)"
      ]
     },
     "execution_count": 14,
     "metadata": {
      "tags": []
     },
     "output_type": "execute_result"
    }
   ],
   "source": [
    "# pid #is an array of arrays\n",
    "pid.shape"
   ]
  },
  {
   "cell_type": "code",
   "execution_count": null,
   "metadata": {
    "id": "iiegk9ZCYkzB"
   },
   "outputs": [],
   "source": [
    "# train_df.iloc[[14, 29330], :] #verified!"
   ]
  },
  {
   "cell_type": "markdown",
   "metadata": {
    "id": "kiakf0fgYkzB"
   },
   "source": [
    "## Scaling the data"
   ]
  },
  {
   "cell_type": "code",
   "execution_count": 1,
   "metadata": {
    "id": "QOtGzIGEYkzB",
    "pycharm": {
     "name": "#%%\n"
    }
   },
   "outputs": [],
   "source": [
    "#scale to 0-1\n",
    "\n",
    "Xtrain_scaled = []\n",
    "for pic in Xtrain:\n",
    "    Xtrain_scaled.append(np.array(pic/255).astype(np.float32))\n",
    "# Xtrain_scaled"
   ]
  },
  {
   "cell_type": "code",
   "execution_count": null,
   "metadata": {
    "colab": {
     "base_uri": "https://localhost:8080/"
    },
    "id": "23FjkGA5YkzC",
    "outputId": "38128bc3-067e-4bbf-a28c-a7bae84253cc"
   },
   "outputs": [
    {
     "data": {
      "text/plain": [
       "5411"
      ]
     },
     "execution_count": 17,
     "metadata": {
      "tags": []
     },
     "output_type": "execute_result"
    }
   ],
   "source": [
    "len(Xtrain_scaled) #verified!"
   ]
  },
  {
   "cell_type": "markdown",
   "metadata": {
    "id": "a9A6dLpaYkzD"
   },
   "source": [
    "## Solving data leakage issue in features:"
   ]
  },
  {
   "cell_type": "code",
   "execution_count": null,
   "metadata": {
    "id": "uIi02Zy7YkzD"
   },
   "outputs": [],
   "source": [
    "#since \"pid\" has repetitive elemetns, we should faltten it into variable \"lst\":\n",
    "# All the pid items in a single list:\n",
    "\n",
    "lst = []\n",
    "\n",
    "for i in range(0, len(pid)):\n",
    "    for j in range(0, len(pid[i])):\n",
    "        lst.append(pid[i][j])\n",
    "lst.sort()\n",
    "lst = np.unique(lst)\n",
    "# lst.shape"
   ]
  },
  {
   "cell_type": "code",
   "execution_count": null,
   "metadata": {
    "colab": {
     "base_uri": "https://localhost:8080/"
    },
    "id": "zNHQwKE1YkzE",
    "outputId": "883b67b9-a86d-4d51-9e62-f05da36337e6"
   },
   "outputs": [
    {
     "data": {
      "text/plain": [
       "array([   1,    3,    5, ..., 5408, 5409, 5410])"
      ]
     },
     "execution_count": 19,
     "metadata": {
      "tags": []
     },
     "output_type": "execute_result"
    }
   ],
   "source": [
    "lst"
   ]
  },
  {
   "cell_type": "code",
   "execution_count": null,
   "metadata": {
    "id": "feGC5TVnYkzE"
   },
   "outputs": [],
   "source": [
    "#repeteted list:\n",
    "\n",
    "Xtrain_arr = np.array(Xtrain_scaled)\n",
    "repeted_lst = []\n",
    "\n",
    "for i in range(0, len(lst)):\n",
    "    repeted_lst.append(Xtrain_arr[lst[i]])\n",
    "\n",
    "repeted_lst = np.array(repeted_lst)\n",
    "# repeted_lst.shape"
   ]
  },
  {
   "cell_type": "code",
   "execution_count": null,
   "metadata": {
    "id": "CoyxxIFRYkzF"
   },
   "outputs": [],
   "source": [
    "#polished list:\n",
    "\n",
    "Xtrain_polished = []\n",
    "\n",
    "for i in range(0, len(Xtrain_arr)):\n",
    "    if i in lst:\n",
    "        pass\n",
    "    else:\n",
    "        Xtrain_polished.append(Xtrain_arr[i])\n",
    "\n",
    "Xtrain_polished = np.array(Xtrain_polished)\n",
    "# Xtrain_polished.shape"
   ]
  },
  {
   "cell_type": "markdown",
   "metadata": {
    "id": "sH6QwR_2YkzF"
   },
   "source": [
    "## Scaling the images:"
   ]
  },
  {
   "cell_type": "code",
   "execution_count": null,
   "metadata": {
    "id": "Z6sV9bQkYkzF"
   },
   "outputs": [],
   "source": [
    "#reshapeing the train images \"Xtrain_scaled\":\n",
    "\n",
    "repeted_lst_scaled = repeted_lst.reshape((-1, 224, 224, 1))\n",
    "Xtrain_polished_scaled = Xtrain_polished.reshape((-1, 224, 224, 1))\n",
    "\n",
    "# repeted_lst_scaled.max() #verified\n",
    "# Xtrain_polished_scaled.max() #verified"
   ]
  },
  {
   "cell_type": "code",
   "execution_count": null,
   "metadata": {
    "colab": {
     "base_uri": "https://localhost:8080/"
    },
    "id": "dxi5MSwHYkzG",
    "outputId": "fe9a284a-a587-485b-fa2a-ebbafd3dda2c"
   },
   "outputs": [
    {
     "name": "stdout",
     "output_type": "stream",
     "text": [
      "(4503, 224, 224, 1)\n",
      "(908, 224, 224, 1)\n"
     ]
    }
   ],
   "source": [
    "print(repeted_lst_scaled.shape) #verified\n",
    "print(Xtrain_polished_scaled.shape) #verified"
   ]
  },
  {
   "cell_type": "markdown",
   "metadata": {
    "id": "vgU8CzUtYkzG"
   },
   "source": [
    "## Solving data leakage issue in labels:"
   ]
  },
  {
   "cell_type": "code",
   "execution_count": null,
   "metadata": {
    "id": "eYvRr-yUYkzG"
   },
   "outputs": [],
   "source": [
    "#repeteted list:\n",
    "\n",
    "repeted_y = ytrain[lst, :]\n",
    "# repeted_y.shape\n",
    "\n",
    "#..............#\n",
    "#the four categories ETT, NGT, CVC, SG: \n",
    "repeted_ytrain_ETT = repeted_y[:, 0:3] #0, 1, 2\n",
    "repeted_ytrain_NGT = repeted_y[:, 3:7] #3, 4, 5, 6\n",
    "repeted_ytrain_CVC = repeted_y[:, 7:10]  #7, 8, 9\n",
    "repeted_ytrain_sg = repeted_y[:, 10:11]  #10"
   ]
  },
  {
   "cell_type": "code",
   "execution_count": null,
   "metadata": {
    "id": "slDw5UV7YkzH"
   },
   "outputs": [],
   "source": [
    "#polished list:\n",
    "\n",
    "polished_y = []\n",
    "\n",
    "for i in range(0, len(ytrain)):\n",
    "    if i in lst:\n",
    "        pass\n",
    "    else:\n",
    "        polished_y.append(ytrain[i])\n",
    "        \n",
    "polished_y = np.array(polished_y)\n",
    "# polished_y.shape\n",
    "\n",
    "#..............#\n",
    "#the four categories ETT, NGT, CVC, SG:\n",
    "polished_ytrain_ETT = polished_y[:, 0:3] #0, 1, 2\n",
    "polished_ytrain_NGT = polished_y[:, 3:7] #3, 4, 5, 6\n",
    "polished_ytrain_CVC = polished_y[:, 7:10]  #7, 8, 9\n",
    "polished_ytrain_sg = polished_y[:, 10:11]  #10"
   ]
  },
  {
   "cell_type": "markdown",
   "metadata": {
    "id": "VFdFMT4nYkzH"
   },
   "source": [
    "## Train-test split ETT: (requires a class of 3 in the output layer)"
   ]
  },
  {
   "cell_type": "code",
   "execution_count": null,
   "metadata": {
    "id": "FTNS_nM0YkzH"
   },
   "outputs": [],
   "source": [
    "#split the data:\n",
    "#Split using the scaled polished non-repetitive data \"Xtrain_polished_scaled\" + \"polished_y\" (-> \"polished_ytrain_ETT\", \"polished_ytrain_NGT\", \"polished_ytrain_CVC\", \"polished_ytrain_sg\")\n",
    "#Then laster, add the scaled repetitive data \"repeted_lst_scaled\" + \"repeted_y\" (-> \"repeted_ytrain_ETT\", \"repeted_ytrain_NGT\", \"repeted_ytrain_CVC\", \"repeted_ytrain_sg\") to the train set (in order to tackle the leackage) \n",
    "\n",
    "x_train_ETT, x_test_ETT, y_train_ETT, y_test_ETT = train_test_split(Xtrain_polished_scaled, polished_ytrain_ETT, test_size = 0.15, random_state = 0) #, shuffle = True"
   ]
  },
  {
   "cell_type": "code",
   "execution_count": null,
   "metadata": {
    "colab": {
     "base_uri": "https://localhost:8080/"
    },
    "id": "m2DTv-UBYkzI",
    "outputId": "850f6b04-d17d-41c3-879f-a017129016f8"
   },
   "outputs": [
    {
     "name": "stdout",
     "output_type": "stream",
     "text": [
      "(771, 224, 224, 1)\n",
      "(771, 3)\n",
      "(137, 224, 224, 1)\n",
      "(137, 3)\n"
     ]
    }
   ],
   "source": [
    "print(x_train_ETT.shape)\n",
    "print(y_train_ETT.shape)\n",
    "print(x_test_ETT.shape)\n",
    "print(y_test_ETT.shape)"
   ]
  },
  {
   "cell_type": "code",
   "execution_count": null,
   "metadata": {
    "id": "Cy_VQkfmYkzI"
   },
   "outputs": [],
   "source": [
    "#Adding the repeted data to x_train:\n",
    "x_train_added_ETT = np.array([])\n",
    "x_train_added_ETT = np.append(x_train_ETT, repeted_lst_scaled, axis = 0)\n",
    "\n",
    "\n",
    "#Adding the repeted data to y_train:\n",
    "y_train_added_ETT = np.array([])\n",
    "y_train_added_ETT = np.append(y_train_ETT, repeted_ytrain_ETT, axis = 0)"
   ]
  },
  {
   "cell_type": "code",
   "execution_count": null,
   "metadata": {
    "colab": {
     "base_uri": "https://localhost:8080/"
    },
    "id": "VLi5GaYfYkzI",
    "outputId": "ef3a84e5-f6fe-4da4-b40f-c7d2d56a1ee1"
   },
   "outputs": [
    {
     "name": "stdout",
     "output_type": "stream",
     "text": [
      "(5274, 224, 224, 1)\n",
      "(5274, 3)\n"
     ]
    }
   ],
   "source": [
    "print(x_train_added_ETT.shape) #verified!\n",
    "print(y_train_added_ETT.shape) #verified!"
   ]
  },
  {
   "cell_type": "markdown",
   "metadata": {
    "id": "ljynkPP0YkzI"
   },
   "source": [
    "## Train-test split NGT: (requires a class of 4 in the output layer)"
   ]
  },
  {
   "cell_type": "code",
   "execution_count": null,
   "metadata": {
    "id": "8j7hv7OOYkzJ"
   },
   "outputs": [],
   "source": [
    "#split the data:\n",
    "#Split using the scaled polished non-repetitive data \"Xtrain_polished_scaled\" + \"polished_y\" (-> \"polished_ytrain_ETT\", \"polished_ytrain_NGT\", \"polished_ytrain_CVC\", \"polished_ytrain_sg\")\n",
    "#Then laster, add the scaled repetitive data \"repeted_lst_scaled\" + \"repeted_y\" (-> \"repeted_ytrain_ETT\", \"repeted_ytrain_NGT\", \"repeted_ytrain_CVC\", \"repeted_ytrain_sg\") to the train set (in order to tackle the leackage) \n",
    "\n",
    "x_train_NGT, x_test_NGT, y_train_NGT, y_test_NGT = train_test_split(Xtrain_polished_scaled, polished_ytrain_NGT, test_size = 0.15, random_state = 0) #, shuffle = True"
   ]
  },
  {
   "cell_type": "code",
   "execution_count": null,
   "metadata": {
    "colab": {
     "base_uri": "https://localhost:8080/"
    },
    "id": "bCqLUipWYkzK",
    "outputId": "a0583660-ec34-40b4-ae9f-0465df4da76a"
   },
   "outputs": [
    {
     "name": "stdout",
     "output_type": "stream",
     "text": [
      "(771, 224, 224, 1)\n",
      "(771, 4)\n",
      "(137, 224, 224, 1)\n",
      "(137, 4)\n"
     ]
    }
   ],
   "source": [
    "print(x_train_NGT.shape)\n",
    "print(y_train_NGT.shape)\n",
    "print(x_test_NGT.shape)\n",
    "print(y_test_NGT.shape)"
   ]
  },
  {
   "cell_type": "code",
   "execution_count": null,
   "metadata": {
    "id": "Bj-QvNqPYkzL"
   },
   "outputs": [],
   "source": [
    "#Adding the repeted data to x_train:\n",
    "x_train_added_NGT = np.array([])\n",
    "x_train_added_NGT = np.append(x_train_NGT, repeted_lst_scaled, axis = 0)\n",
    "\n",
    "\n",
    "#Adding the repeted data to y_train:\n",
    "y_train_added_NGT = np.array([])\n",
    "y_train_added_NGT = np.append(y_train_NGT, repeted_ytrain_NGT, axis = 0)"
   ]
  },
  {
   "cell_type": "code",
   "execution_count": null,
   "metadata": {
    "colab": {
     "base_uri": "https://localhost:8080/"
    },
    "id": "PmWtzubDYkzM",
    "outputId": "9e1de7f0-68c2-4fdc-cd4c-d79e8a25cada"
   },
   "outputs": [
    {
     "name": "stdout",
     "output_type": "stream",
     "text": [
      "(5274, 224, 224, 1)\n",
      "(5274, 4)\n"
     ]
    }
   ],
   "source": [
    "print(x_train_added_NGT.shape) #verified!\n",
    "print(y_train_added_NGT.shape) #verified!"
   ]
  },
  {
   "cell_type": "markdown",
   "metadata": {
    "id": "NXAJChEkYkzN"
   },
   "source": [
    "## Train-test split CVC: (requires a class of 3 in the output layer)"
   ]
  },
  {
   "cell_type": "code",
   "execution_count": null,
   "metadata": {
    "id": "3bHC9Bm4YkzO"
   },
   "outputs": [],
   "source": [
    "#split the data:\n",
    "#Split using the scaled polished non-repetitive data \"Xtrain_polished_scaled\" + \"polished_y\" (-> \"polished_ytrain_ETT\", \"polished_ytrain_NGT\", \"polished_ytrain_CVC\", \"polished_ytrain_sg\")\n",
    "#Then laster, add the scaled repetitive data \"repeted_lst_scaled\" + \"repeted_y\" (-> \"repeted_ytrain_ETT\", \"repeted_ytrain_NGT\", \"repeted_ytrain_CVC\", \"repeted_ytrain_sg\") to the train set (in order to tackle the leackage) \n",
    "\n",
    "x_train_CVC, x_test_CVC, y_train_CVC, y_test_CVC = train_test_split(Xtrain_polished_scaled, polished_ytrain_CVC, test_size = 0.15, random_state = 0) #, shuffle = True"
   ]
  },
  {
   "cell_type": "code",
   "execution_count": null,
   "metadata": {
    "colab": {
     "base_uri": "https://localhost:8080/"
    },
    "id": "c2mmT9D-YkzO",
    "outputId": "9793cb78-da84-4515-c0f5-2e71f2a1d1a8"
   },
   "outputs": [
    {
     "name": "stdout",
     "output_type": "stream",
     "text": [
      "(771, 224, 224, 1)\n",
      "(771, 3)\n",
      "(137, 224, 224, 1)\n",
      "(137, 3)\n"
     ]
    }
   ],
   "source": [
    "print(x_train_CVC.shape)\n",
    "print(y_train_CVC.shape)\n",
    "print(x_test_CVC.shape)\n",
    "print(y_test_CVC.shape)"
   ]
  },
  {
   "cell_type": "code",
   "execution_count": null,
   "metadata": {
    "id": "hLIaseTzYkzP"
   },
   "outputs": [],
   "source": [
    "#Adding the repeted data to x_train:\n",
    "x_train_added_CVC = np.array([])\n",
    "x_train_added_CVC = np.append(x_train_CVC, repeted_lst_scaled, axis = 0)\n",
    "\n",
    "\n",
    "#Adding the repeted data to y_train:\n",
    "y_train_added_CVC = np.array([])\n",
    "y_train_added_CVC = np.append(y_train_CVC, repeted_ytrain_CVC, axis = 0)"
   ]
  },
  {
   "cell_type": "code",
   "execution_count": null,
   "metadata": {
    "colab": {
     "base_uri": "https://localhost:8080/"
    },
    "id": "MhNrBLSLYkzQ",
    "outputId": "94cdc117-7624-4cff-b36a-7127a7fe8b63"
   },
   "outputs": [
    {
     "name": "stdout",
     "output_type": "stream",
     "text": [
      "(5274, 224, 224, 1)\n",
      "(5274, 3)\n"
     ]
    }
   ],
   "source": [
    "print(x_train_added_CVC.shape) #verified!\n",
    "print(y_train_added_CVC.shape) #verified!"
   ]
  },
  {
   "cell_type": "markdown",
   "metadata": {
    "id": "fnH5APTwYkzR"
   },
   "source": [
    "## Train-test split SG: (requires a class of 1 in the output layer)"
   ]
  },
  {
   "cell_type": "code",
   "execution_count": null,
   "metadata": {
    "id": "WAIyx8jlYkzR"
   },
   "outputs": [],
   "source": [
    "#split the data:\n",
    "#Split using the scaled polished non-repetitive data \"Xtrain_polished_scaled\" + \"polished_y\" (-> \"polished_ytrain_ETT\", \"polished_ytrain_NGT\", \"polished_ytrain_CVC\", \"polished_ytrain_sg\")\n",
    "#Then laster, add the scaled repetitive data \"repeted_lst_scaled\" + \"repeted_y\" (-> \"repeted_ytrain_ETT\", \"repeted_ytrain_NGT\", \"repeted_ytrain_CVC\", \"repeted_ytrain_sg\") to the train set (in order to tackle the leackage) \n",
    "\n",
    "x_train_SG, x_test_SG, y_train_SG, y_test_SG = train_test_split(Xtrain_polished_scaled, polished_ytrain_sg, test_size = 0.15, random_state = 0) #, shuffle = True"
   ]
  },
  {
   "cell_type": "code",
   "execution_count": null,
   "metadata": {
    "colab": {
     "base_uri": "https://localhost:8080/"
    },
    "id": "iKBgkXlZYkzS",
    "outputId": "5be6bb81-8c86-4747-da94-cd9f92f16d0e"
   },
   "outputs": [
    {
     "name": "stdout",
     "output_type": "stream",
     "text": [
      "(771, 224, 224, 1)\n",
      "(771, 1)\n",
      "(137, 224, 224, 1)\n",
      "(137, 1)\n"
     ]
    }
   ],
   "source": [
    "print(x_train_SG.shape)\n",
    "print(y_train_SG.shape)\n",
    "print(x_test_SG.shape)\n",
    "print(y_test_SG.shape)"
   ]
  },
  {
   "cell_type": "code",
   "execution_count": null,
   "metadata": {
    "id": "lMi5bBSrYkzS"
   },
   "outputs": [],
   "source": [
    "#Adding the repeted data to x_train:\n",
    "x_train_added_SG = np.array([])\n",
    "x_train_added_SG = np.append(x_train_SG, repeted_lst_scaled, axis = 0)\n",
    "\n",
    "\n",
    "#Adding the repeted data to y_train:\n",
    "y_train_added_SG = np.array([])\n",
    "y_train_added_SG = np.append(y_train_SG, repeted_ytrain_sg, axis = 0)"
   ]
  },
  {
   "cell_type": "code",
   "execution_count": null,
   "metadata": {
    "colab": {
     "base_uri": "https://localhost:8080/"
    },
    "id": "nrQoGjTtYkzT",
    "outputId": "45c328ac-a6e6-426f-8865-1dff4ee9a7a0"
   },
   "outputs": [
    {
     "name": "stdout",
     "output_type": "stream",
     "text": [
      "(5274, 224, 224, 1)\n",
      "(5274, 1)\n"
     ]
    }
   ],
   "source": [
    "print(x_train_added_SG.shape) #verified!\n",
    "print(y_train_added_SG.shape) #verified!"
   ]
  },
  {
   "cell_type": "markdown",
   "metadata": {
    "id": "yRLp28yfYkzU"
   },
   "source": [
    "## Model ETT: CNN "
   ]
  },
  {
   "cell_type": "code",
   "execution_count": null,
   "metadata": {
    "colab": {
     "base_uri": "https://localhost:8080/"
    },
    "id": "d8BGkWghYkzU",
    "outputId": "9437f8c3-6f8b-4754-ab12-685510ec5ddf",
    "pycharm": {
     "name": "#%%\n"
    }
   },
   "outputs": [
    {
     "name": "stdout",
     "output_type": "stream",
     "text": [
      "Model: \"sequential\"\n",
      "_________________________________________________________________\n",
      "Layer (type)                 Output Shape              Param #   \n",
      "=================================================================\n",
      "conv2d (Conv2D)              (None, 222, 222, 32)      320       \n",
      "_________________________________________________________________\n",
      "max_pooling2d (MaxPooling2D) (None, 111, 111, 32)      0         \n",
      "_________________________________________________________________\n",
      "conv2d_1 (Conv2D)            (None, 109, 109, 64)      18496     \n",
      "_________________________________________________________________\n",
      "max_pooling2d_1 (MaxPooling2 (None, 54, 54, 64)        0         \n",
      "_________________________________________________________________\n",
      "conv2d_2 (Conv2D)            (None, 52, 52, 64)        36928     \n",
      "_________________________________________________________________\n",
      "max_pooling2d_2 (MaxPooling2 (None, 26, 26, 64)        0         \n",
      "_________________________________________________________________\n",
      "batch_normalization (BatchNo (None, 26, 26, 64)        256       \n",
      "_________________________________________________________________\n",
      "flatten (Flatten)            (None, 43264)             0         \n",
      "_________________________________________________________________\n",
      "dense (Dense)                (None, 128)               5537920   \n",
      "_________________________________________________________________\n",
      "dense_1 (Dense)              (None, 128)               16512     \n",
      "_________________________________________________________________\n",
      "dropout (Dropout)            (None, 128)               0         \n",
      "_________________________________________________________________\n",
      "dense_2 (Dense)              (None, 3)                 387       \n",
      "=================================================================\n",
      "Total params: 5,610,819\n",
      "Trainable params: 5,610,691\n",
      "Non-trainable params: 128\n",
      "_________________________________________________________________\n",
      "Train on 5274 samples, validate on 137 samples\n",
      "Epoch 1/1000\n",
      "5274/5274 [==============================] - 35s 7ms/sample - loss: 3970.2994 - accuracy: 0.2838 - val_loss: 581.5438 - val_accuracy: 0.0949\n",
      "Epoch 2/1000\n",
      "  32/5274 [..............................] - ETA: 4s - loss: 5057.0703 - accuracy: 0.0938"
     ]
    },
    {
     "name": "stderr",
     "output_type": "stream",
     "text": [
      "/usr/local/lib/python3.7/dist-packages/tensorflow/python/keras/engine/training.py:2325: UserWarning: `Model.state_updates` will be removed in a future version. This property should not be used in TensorFlow 2.0, as `updates` are applied automatically.\n",
      "  warnings.warn('`Model.state_updates` will be removed in a future version. '\n"
     ]
    },
    {
     "name": "stdout",
     "output_type": "stream",
     "text": [
      "5274/5274 [==============================] - 5s 862us/sample - loss: 87025.3522 - accuracy: 0.2873 - val_loss: 4616.2044 - val_accuracy: 0.0949\n"
     ]
    },
    {
     "data": {
      "text/plain": [
       "<tensorflow.python.keras.callbacks.History at 0x7f2d250ce390>"
      ]
     },
     "execution_count": 41,
     "metadata": {
      "tags": []
     },
     "output_type": "execute_result"
    }
   ],
   "source": [
    "# build a sequential model\n",
    "\n",
    "model_ETT = Sequential()\n",
    "# model.add(InputLayer(input_shape = (650, 650, 1), batch_size = 32))\n",
    "\n",
    "# 1st conv block\n",
    "model_ETT.add(Conv2D(32, (3, 3), activation = 'relu', input_shape = (224, 224, 1))) #padding = 'same'     #or adding \"input_shape\" instead of defining a seperate \"InputLayer\" \n",
    "model_ETT.add(MaxPool2D(pool_size = (2, 2)))\n",
    "# 2nd conv block\n",
    "model_ETT.add(Conv2D(64, (3, 3), activation = 'relu'))\n",
    "model_ETT.add(MaxPool2D(pool_size = (2, 2)))\n",
    "# 3rd conv block\n",
    "model_ETT.add(Conv2D(64, (3, 3), activation = 'relu'))\n",
    "model_ETT.add(MaxPool2D(pool_size = (2, 2)))\n",
    "model_ETT.add(BatchNormalization())\n",
    "# ANN block\n",
    "model_ETT.add(Flatten())\n",
    "model_ETT.add(Dense(units = 128, activation = 'relu'))\n",
    "model_ETT.add(Dense(units = 128, activation = 'relu'))\n",
    "model_ETT.add(Dropout(0.5))\n",
    "# output layer\n",
    "model_ETT.add(Dense(units = 3, activation = 'softmax'))\n",
    " \n",
    "# compile model\n",
    "model_ETT.compile(loss = 'categorical_crossentropy', optimizer = \"adam\", metrics = ['accuracy']) #categorical_crossentropy\n",
    "\n",
    "model_ETT.summary()\n",
    "\n",
    "#Early Stopping\n",
    "from tensorflow.keras.callbacks import EarlyStopping\n",
    "early_stop = EarlyStopping(monitor = 'val_loss', patience = 1)\n",
    "\n",
    "\n",
    "# model.fit(x = Xtrain_scaled, y = ytrain, epochs = 1000, batch_size = 32, validation_split = 0.2) #callbacks = [early_stop])\n",
    "model_ETT.fit(x = x_train_added_ETT, y = y_train_added_ETT, epochs = 1000, batch_size = 32, validation_data = [x_test_ETT, y_test_ETT], callbacks = [early_stop]) #callbacks = [early_stop])"
   ]
  },
  {
   "cell_type": "code",
   "execution_count": null,
   "metadata": {
    "colab": {
     "base_uri": "https://localhost:8080/"
    },
    "id": "OdK3aVYMYkzU",
    "outputId": "a214af0f-356d-48c0-f5b8-f846b9a9a365",
    "scrolled": true
   },
   "outputs": [
    {
     "data": {
      "text/plain": [
       "['loss', 'accuracy']"
      ]
     },
     "execution_count": 42,
     "metadata": {
      "tags": []
     },
     "output_type": "execute_result"
    }
   ],
   "source": [
    "model_ETT.metrics_names"
   ]
  },
  {
   "cell_type": "code",
   "execution_count": null,
   "metadata": {
    "colab": {
     "base_uri": "https://localhost:8080/",
     "height": 110
    },
    "id": "4vw0XIYrYkzV",
    "outputId": "e2b7f332-1ad3-469e-aa8e-fc5711e7d112"
   },
   "outputs": [
    {
     "data": {
      "text/html": [
       "<div>\n",
       "<style scoped>\n",
       "    .dataframe tbody tr th:only-of-type {\n",
       "        vertical-align: middle;\n",
       "    }\n",
       "\n",
       "    .dataframe tbody tr th {\n",
       "        vertical-align: top;\n",
       "    }\n",
       "\n",
       "    .dataframe thead th {\n",
       "        text-align: right;\n",
       "    }\n",
       "</style>\n",
       "<table border=\"1\" class=\"dataframe\">\n",
       "  <thead>\n",
       "    <tr style=\"text-align: right;\">\n",
       "      <th></th>\n",
       "      <th>loss</th>\n",
       "      <th>accuracy</th>\n",
       "      <th>val_loss</th>\n",
       "      <th>val_accuracy</th>\n",
       "    </tr>\n",
       "  </thead>\n",
       "  <tbody>\n",
       "    <tr>\n",
       "      <th>0</th>\n",
       "      <td>3970.299396</td>\n",
       "      <td>0.283845</td>\n",
       "      <td>581.543796</td>\n",
       "      <td>0.094891</td>\n",
       "    </tr>\n",
       "    <tr>\n",
       "      <th>1</th>\n",
       "      <td>87025.352235</td>\n",
       "      <td>0.287258</td>\n",
       "      <td>4616.204380</td>\n",
       "      <td>0.094891</td>\n",
       "    </tr>\n",
       "  </tbody>\n",
       "</table>\n",
       "</div>"
      ],
      "text/plain": [
       "           loss  accuracy     val_loss  val_accuracy\n",
       "0   3970.299396  0.283845   581.543796      0.094891\n",
       "1  87025.352235  0.287258  4616.204380      0.094891"
      ]
     },
     "execution_count": 43,
     "metadata": {
      "tags": []
     },
     "output_type": "execute_result"
    }
   ],
   "source": [
    "metrics = pd.DataFrame(model_ETT.history.history)\n",
    "metrics"
   ]
  },
  {
   "cell_type": "code",
   "execution_count": null,
   "metadata": {
    "colab": {
     "base_uri": "https://localhost:8080/",
     "height": 283
    },
    "id": "PPllshbFYkzV",
    "outputId": "684d10bf-484b-4230-de54-5f50f5f53eb6"
   },
   "outputs": [
    {
     "data": {
      "text/plain": [
       "<matplotlib.axes._subplots.AxesSubplot at 0x7f2d227c7e50>"
      ]
     },
     "execution_count": 44,
     "metadata": {
      "tags": []
     },
     "output_type": "execute_result"
    },
    {
     "data": {
      "image/png": "[encoded data removed]",
      "text/plain": [
       "<Figure size 432x288 with 1 Axes>"
      ]
     },
     "metadata": {
      "needs_background": "light",
      "tags": []
     },
     "output_type": "display_data"
    }
   ],
   "source": [
    "metrics[['loss', 'val_loss']].plot()"
   ]
  },
  {
   "cell_type": "code",
   "execution_count": null,
   "metadata": {
    "colab": {
     "base_uri": "https://localhost:8080/",
     "height": 283
    },
    "id": "ObO9JG5WYkzV",
    "outputId": "fac1bb1d-4494-46d5-83fb-1b4890f0e0e1"
   },
   "outputs": [
    {
     "data": {
      "text/plain": [
       "<matplotlib.axes._subplots.AxesSubplot at 0x7f2d22762110>"
      ]
     },
     "execution_count": 45,
     "metadata": {
      "tags": []
     },
     "output_type": "execute_result"
    },
    {
     "data": {
      "image/png": "[encoded data removed]",
      "text/plain": [
       "<Figure size 432x288 with 1 Axes>"
      ]
     },
     "metadata": {
      "needs_background": "light",
      "tags": []
     },
     "output_type": "display_data"
    }
   ],
   "source": [
    "metrics[['accuracy', 'val_accuracy']].plot()"
   ]
  },
  {
   "cell_type": "code",
   "execution_count": null,
   "metadata": {
    "colab": {
     "base_uri": "https://localhost:8080/"
    },
    "id": "L8j_vuuoYkzW",
    "outputId": "8646aa99-7ad0-4506-b471-6e15ce20815a"
   },
   "outputs": [
    {
     "name": "stderr",
     "output_type": "stream",
     "text": [
      "/usr/local/lib/python3.7/dist-packages/tensorflow/python/keras/engine/training.py:2325: UserWarning: `Model.state_updates` will be removed in a future version. This property should not be used in TensorFlow 2.0, as `updates` are applied automatically.\n",
      "  warnings.warn('`Model.state_updates` will be removed in a future version. '\n"
     ]
    }
   ],
   "source": [
    "from sklearn.metrics import accuracy_score, confusion_matrix\n",
    "\n",
    "# predictions = model.predict_classes(x_test)\n",
    "# print(classification_report(y_true = y_test, y_pred = predictions))\n",
    "y_pred = model_ETT.predict(x_test_ETT)\n",
    "# confusion_matrix(y_test_ETT, y_pred)\n",
    "# accuracy_score(y_test_ETT, y_pred)"
   ]
  },
  {
   "cell_type": "code",
   "execution_count": null,
   "metadata": {
    "colab": {
     "base_uri": "https://localhost:8080/"
    },
    "id": "RsEAo7YeYkzW",
    "outputId": "cfb31fa1-e71b-421d-a2d6-b914f1346e45"
   },
   "outputs": [
    {
     "data": {
      "text/plain": [
       "(137, 224, 224, 1)"
      ]
     },
     "execution_count": 47,
     "metadata": {
      "tags": []
     },
     "output_type": "execute_result"
    }
   ],
   "source": [
    "x_test_ETT.shape"
   ]
  },
  {
   "cell_type": "code",
   "execution_count": null,
   "metadata": {
    "id": "7_9gQ_2EYkzW"
   },
   "outputs": [],
   "source": [
    "img_ex = x_test_ETT[0].reshape(224, 224)"
   ]
  },
  {
   "cell_type": "code",
   "execution_count": null,
   "metadata": {
    "colab": {
     "base_uri": "https://localhost:8080/",
     "height": 287
    },
    "id": "HvEj3xIfYkzW",
    "outputId": "49c36b77-23c1-4a95-ab57-887b5de5558d"
   },
   "outputs": [
    {
     "data": {
      "text/plain": [
       "<matplotlib.image.AxesImage at 0x7f2d226a0690>"
      ]
     },
     "execution_count": 49,
     "metadata": {
      "tags": []
     },
     "output_type": "execute_result"
    },
    {
     "data": {
      "image/png": "[encoded data removed]",
      "text/plain": [
       "<Figure size 432x288 with 1 Axes>"
      ]
     },
     "metadata": {
      "needs_background": "light",
      "tags": []
     },
     "output_type": "display_data"
    }
   ],
   "source": [
    "plt.imshow(img_ex, cmap=\"gray\")"
   ]
  },
  {
   "cell_type": "code",
   "execution_count": null,
   "metadata": {
    "colab": {
     "base_uri": "https://localhost:8080/"
    },
    "id": "2CuOVtKuYkzX",
    "outputId": "e369cfa5-572f-4466-9f54-86bfd50fb79a"
   },
   "outputs": [
    {
     "data": {
      "text/plain": [
       "array([[0, 0, 1]], dtype=int32)"
      ]
     },
     "execution_count": 50,
     "metadata": {
      "tags": []
     },
     "output_type": "execute_result"
    }
   ],
   "source": [
    "y_pred_ETT = model_ETT.predict(img_ex.reshape(1, 224, 224, 1))\n",
    "y_pred_ETT.astype(np.int32)"
   ]
  },
  {
   "cell_type": "code",
   "execution_count": null,
   "metadata": {
    "colab": {
     "base_uri": "https://localhost:8080/"
    },
    "id": "XjJl4F-sYkzX",
    "outputId": "86adbe77-2485-437c-86aa-ae0655271f57"
   },
   "outputs": [
    {
     "data": {
      "text/plain": [
       "(1, 3)"
      ]
     },
     "execution_count": 51,
     "metadata": {
      "tags": []
     },
     "output_type": "execute_result"
    }
   ],
   "source": [
    "y_pred_ETT.shape"
   ]
  },
  {
   "cell_type": "markdown",
   "metadata": {
    "id": "4h1TyufBYkzY"
   },
   "source": [
    "## Model NGT: CNN "
   ]
  },
  {
   "cell_type": "code",
   "execution_count": null,
   "metadata": {
    "colab": {
     "base_uri": "https://localhost:8080/"
    },
    "id": "KmbCag64YkzY",
    "outputId": "390e1398-6606-4a41-ddae-a8bf869b533a"
   },
   "outputs": [
    {
     "name": "stdout",
     "output_type": "stream",
     "text": [
      "Model: \"sequential_1\"\n",
      "_________________________________________________________________\n",
      "Layer (type)                 Output Shape              Param #   \n",
      "=================================================================\n",
      "conv2d_3 (Conv2D)            (None, 222, 222, 32)      320       \n",
      "_________________________________________________________________\n",
      "max_pooling2d_3 (MaxPooling2 (None, 111, 111, 32)      0         \n",
      "_________________________________________________________________\n",
      "conv2d_4 (Conv2D)            (None, 109, 109, 64)      18496     \n",
      "_________________________________________________________________\n",
      "max_pooling2d_4 (MaxPooling2 (None, 54, 54, 64)        0         \n",
      "_________________________________________________________________\n",
      "conv2d_5 (Conv2D)            (None, 52, 52, 64)        36928     \n",
      "_________________________________________________________________\n",
      "max_pooling2d_5 (MaxPooling2 (None, 26, 26, 64)        0         \n",
      "_________________________________________________________________\n",
      "batch_normalization_1 (Batch (None, 26, 26, 64)        256       \n",
      "_________________________________________________________________\n",
      "flatten_1 (Flatten)          (None, 43264)             0         \n",
      "_________________________________________________________________\n",
      "dense_3 (Dense)              (None, 128)               5537920   \n",
      "_________________________________________________________________\n",
      "dense_4 (Dense)              (None, 128)               16512     \n",
      "_________________________________________________________________\n",
      "dropout_1 (Dropout)          (None, 128)               0         \n",
      "_________________________________________________________________\n",
      "dense_5 (Dense)              (None, 4)                 516       \n",
      "=================================================================\n",
      "Total params: 5,610,948\n",
      "Trainable params: 5,610,820\n",
      "Non-trainable params: 128\n",
      "_________________________________________________________________\n",
      "Train on 5274 samples, validate on 137 samples\n",
      "Epoch 1/1000\n",
      "5274/5274 [==============================] - 8s 1ms/sample - loss: 3903.9856 - accuracy: 0.2146 - val_loss: 1070.1902 - val_accuracy: 0.0803\n"
     ]
    },
    {
     "name": "stderr",
     "output_type": "stream",
     "text": [
      "/usr/local/lib/python3.7/dist-packages/tensorflow/python/keras/engine/training.py:2325: UserWarning: `Model.state_updates` will be removed in a future version. This property should not be used in TensorFlow 2.0, as `updates` are applied automatically.\n",
      "  warnings.warn('`Model.state_updates` will be removed in a future version. '\n"
     ]
    },
    {
     "name": "stdout",
     "output_type": "stream",
     "text": [
      "Epoch 2/1000\n",
      "5274/5274 [==============================] - 8s 1ms/sample - loss: 73463.1492 - accuracy: 0.2114 - val_loss: 11488.2847 - val_accuracy: 0.0803\n"
     ]
    },
    {
     "data": {
      "text/plain": [
       "<tensorflow.python.keras.callbacks.History at 0x7f50485a59d0>"
      ]
     },
     "execution_count": 53,
     "metadata": {
      "tags": []
     },
     "output_type": "execute_result"
    }
   ],
   "source": [
    "# build a sequential model\n",
    "\n",
    "model_NGT = Sequential()\n",
    "# model.add(InputLayer(input_shape = (650, 650, 1), batch_size = 32))\n",
    "\n",
    "# 1st conv block\n",
    "model_NGT.add(Conv2D(32, (3, 3), activation = 'relu', input_shape = (224, 224, 1))) #padding = 'same'     #or adding \"input_shape\" instead of defining a seperate \"InputLayer\" \n",
    "model_NGT.add(MaxPool2D(pool_size = (2, 2)))\n",
    "# 2nd conv block\n",
    "model_NGT.add(Conv2D(64, (3, 3), activation = 'relu'))\n",
    "model_NGT.add(MaxPool2D(pool_size = (2, 2)))\n",
    "# 3rd conv block\n",
    "model_NGT.add(Conv2D(64, (3, 3), activation = 'relu'))\n",
    "model_NGT.add(MaxPool2D(pool_size = (2, 2)))\n",
    "model_NGT.add(BatchNormalization())\n",
    "# ANN block\n",
    "model_NGT.add(Flatten())\n",
    "model_NGT.add(Dense(units = 128, activation = 'relu'))\n",
    "model_NGT.add(Dense(units = 128, activation = 'relu'))\n",
    "model_NGT.add(Dropout(0.5))\n",
    "# output layer\n",
    "model_NGT.add(Dense(units = 4, activation = 'softmax'))\n",
    " \n",
    "# compile model\n",
    "model_NGT.compile(loss = 'categorical_crossentropy', optimizer = \"adam\", metrics = ['accuracy']) #categorical_crossentropy\n",
    "\n",
    "model_NGT.summary()\n",
    "\n",
    "#Early Stopping\n",
    "from tensorflow.keras.callbacks import EarlyStopping\n",
    "early_stop = EarlyStopping(monitor = 'val_loss', patience = 1)\n",
    "\n",
    "\n",
    "# model.fit(x = Xtrain_scaled, y = ytrain, epochs = 1000, batch_size = 32, validation_split = 0.2) #callbacks = [early_stop])\n",
    "model_NGT.fit(x = x_train_added_NGT, y = y_train_added_NGT, epochs = 1000, batch_size = 32, validation_data = [x_test_NGT, y_test_NGT], callbacks = [early_stop]) #callbacks = [early_stop])"
   ]
  },
  {
   "cell_type": "code",
   "execution_count": null,
   "metadata": {
    "colab": {
     "base_uri": "https://localhost:8080/"
    },
    "id": "wjgrIDagYkzZ",
    "outputId": "eab7c340-554c-4615-bef0-9eac10c42481"
   },
   "outputs": [
    {
     "data": {
      "text/plain": [
       "['loss', 'accuracy']"
      ]
     },
     "execution_count": 54,
     "metadata": {
      "tags": []
     },
     "output_type": "execute_result"
    }
   ],
   "source": [
    "model_NGT.metrics_names"
   ]
  },
  {
   "cell_type": "code",
   "execution_count": null,
   "metadata": {
    "colab": {
     "base_uri": "https://localhost:8080/",
     "height": 110
    },
    "id": "1HFLOVuTYkzZ",
    "outputId": "17d844c4-9f19-4ee3-867a-ae9152fc5039"
   },
   "outputs": [
    {
     "data": {
      "text/html": [
       "<div>\n",
       "<style scoped>\n",
       "    .dataframe tbody tr th:only-of-type {\n",
       "        vertical-align: middle;\n",
       "    }\n",
       "\n",
       "    .dataframe tbody tr th {\n",
       "        vertical-align: top;\n",
       "    }\n",
       "\n",
       "    .dataframe thead th {\n",
       "        text-align: right;\n",
       "    }\n",
       "</style>\n",
       "<table border=\"1\" class=\"dataframe\">\n",
       "  <thead>\n",
       "    <tr style=\"text-align: right;\">\n",
       "      <th></th>\n",
       "      <th>loss</th>\n",
       "      <th>accuracy</th>\n",
       "      <th>val_loss</th>\n",
       "      <th>val_accuracy</th>\n",
       "    </tr>\n",
       "  </thead>\n",
       "  <tbody>\n",
       "    <tr>\n",
       "      <th>0</th>\n",
       "      <td>3903.985608</td>\n",
       "      <td>0.214638</td>\n",
       "      <td>1070.190237</td>\n",
       "      <td>0.080292</td>\n",
       "    </tr>\n",
       "    <tr>\n",
       "      <th>1</th>\n",
       "      <td>73463.149249</td>\n",
       "      <td>0.211414</td>\n",
       "      <td>11488.284686</td>\n",
       "      <td>0.080292</td>\n",
       "    </tr>\n",
       "  </tbody>\n",
       "</table>\n",
       "</div>"
      ],
      "text/plain": [
       "           loss  accuracy      val_loss  val_accuracy\n",
       "0   3903.985608  0.214638   1070.190237      0.080292\n",
       "1  73463.149249  0.211414  11488.284686      0.080292"
      ]
     },
     "execution_count": 55,
     "metadata": {
      "tags": []
     },
     "output_type": "execute_result"
    }
   ],
   "source": [
    "metrics = pd.DataFrame(model_NGT.history.history)\n",
    "metrics"
   ]
  },
  {
   "cell_type": "code",
   "execution_count": null,
   "metadata": {
    "colab": {
     "base_uri": "https://localhost:8080/",
     "height": 283
    },
    "id": "w5iYUN_UYkzb",
    "outputId": "b3d287fb-c1a0-44ad-da4d-f282d686f24a"
   },
   "outputs": [
    {
     "data": {
      "text/plain": [
       "<matplotlib.axes._subplots.AxesSubplot at 0x7f50486180d0>"
      ]
     },
     "execution_count": 56,
     "metadata": {
      "tags": []
     },
     "output_type": "execute_result"
    },
    {
     "data": {
      "image/png": "[encoded data removed]",
      "text/plain": [
       "<Figure size 432x288 with 1 Axes>"
      ]
     },
     "metadata": {
      "needs_background": "light",
      "tags": []
     },
     "output_type": "display_data"
    }
   ],
   "source": [
    "metrics[['loss', 'val_loss']].plot()"
   ]
  },
  {
   "cell_type": "code",
   "execution_count": null,
   "metadata": {
    "colab": {
     "base_uri": "https://localhost:8080/",
     "height": 285
    },
    "id": "ra8_ESKBYkzc",
    "outputId": "5b6d1572-2d9f-4e53-bebd-7ed50cf13c8c"
   },
   "outputs": [
    {
     "data": {
      "text/plain": [
       "<matplotlib.axes._subplots.AxesSubplot at 0x7f506009a550>"
      ]
     },
     "execution_count": 57,
     "metadata": {
      "tags": []
     },
     "output_type": "execute_result"
    },
    {
     "data": {
      "image/png": "[encoded data removed]",
      "text/plain": [
       "<Figure size 432x288 with 1 Axes>"
      ]
     },
     "metadata": {
      "needs_background": "light",
      "tags": []
     },
     "output_type": "display_data"
    }
   ],
   "source": [
    "metrics[['accuracy', 'val_accuracy']].plot()"
   ]
  },
  {
   "cell_type": "code",
   "execution_count": null,
   "metadata": {
    "colab": {
     "base_uri": "https://localhost:8080/"
    },
    "id": "xOT-x-NlYkzd",
    "outputId": "add229ef-6c48-4e63-f969-8ecb5f55431d"
   },
   "outputs": [
    {
     "name": "stderr",
     "output_type": "stream",
     "text": [
      "/usr/local/lib/python3.7/dist-packages/tensorflow/python/keras/engine/training.py:2325: UserWarning: `Model.state_updates` will be removed in a future version. This property should not be used in TensorFlow 2.0, as `updates` are applied automatically.\n",
      "  warnings.warn('`Model.state_updates` will be removed in a future version. '\n"
     ]
    }
   ],
   "source": [
    "from sklearn.metrics import accuracy_score, confusion_matrix\n",
    "\n",
    "# predictions = model.predict_classes(x_test)\n",
    "# print(classification_report(y_true = y_test, y_pred = predictions))\n",
    "y_pred = model_NGT.predict(x_test_NGT)\n",
    "# confusion_matrix(y_test, y_pred)\n",
    "# accuracy_score(y_test, y_pred)"
   ]
  },
  {
   "cell_type": "code",
   "execution_count": null,
   "metadata": {
    "colab": {
     "base_uri": "https://localhost:8080/"
    },
    "id": "zgCoV8lxYkzd",
    "outputId": "4576c19c-5ce6-4ed7-d6b6-e490d23ff82d"
   },
   "outputs": [
    {
     "data": {
      "text/plain": [
       "(137, 224, 224, 1)"
      ]
     },
     "execution_count": 59,
     "metadata": {
      "tags": []
     },
     "output_type": "execute_result"
    }
   ],
   "source": [
    "x_test_NGT.shape"
   ]
  },
  {
   "cell_type": "code",
   "execution_count": null,
   "metadata": {
    "id": "4yTklhOBYkze"
   },
   "outputs": [],
   "source": [
    "img_ex = x_test_NGT[0].reshape(224, 224)"
   ]
  },
  {
   "cell_type": "code",
   "execution_count": null,
   "metadata": {
    "colab": {
     "base_uri": "https://localhost:8080/",
     "height": 287
    },
    "id": "aoxPt7YGYkze",
    "outputId": "83804f15-b330-44e1-ac83-18f5875820a6"
   },
   "outputs": [
    {
     "data": {
      "text/plain": [
       "<matplotlib.image.AxesImage at 0x7f5048330750>"
      ]
     },
     "execution_count": 61,
     "metadata": {
      "tags": []
     },
     "output_type": "execute_result"
    },
    {
     "data": {
      "image/png": "[encoded data removed]",
      "text/plain": [
       "<Figure size 432x288 with 1 Axes>"
      ]
     },
     "metadata": {
      "needs_background": "light",
      "tags": []
     },
     "output_type": "display_data"
    }
   ],
   "source": [
    "plt.imshow(img_ex, cmap=\"gray\")"
   ]
  },
  {
   "cell_type": "code",
   "execution_count": null,
   "metadata": {
    "colab": {
     "base_uri": "https://localhost:8080/"
    },
    "id": "OPBADyyrYkzf",
    "outputId": "2575562d-bcf6-4e7e-edf6-b08efc5f7bd8"
   },
   "outputs": [
    {
     "data": {
      "text/plain": [
       "array([[0, 0, 0, 1]], dtype=int32)"
      ]
     },
     "execution_count": 62,
     "metadata": {
      "tags": []
     },
     "output_type": "execute_result"
    }
   ],
   "source": [
    "y_pred_NGT = model_NGT.predict(img_ex.reshape(1, 224, 224, 1))\n",
    "y_pred_NGT.astype(np.int32)"
   ]
  },
  {
   "cell_type": "code",
   "execution_count": null,
   "metadata": {
    "colab": {
     "base_uri": "https://localhost:8080/"
    },
    "id": "yZ1JvWIWYkzf",
    "outputId": "fbaca21a-e0c9-46bb-f65e-9db79f32932e"
   },
   "outputs": [
    {
     "data": {
      "text/plain": [
       "(1, 4)"
      ]
     },
     "execution_count": 63,
     "metadata": {
      "tags": []
     },
     "output_type": "execute_result"
    }
   ],
   "source": [
    "y_pred_NGT.shape"
   ]
  },
  {
   "cell_type": "markdown",
   "metadata": {
    "id": "9k4SxfEZYkzf"
   },
   "source": [
    "## Model CVC: CNN "
   ]
  },
  {
   "cell_type": "code",
   "execution_count": null,
   "metadata": {
    "colab": {
     "base_uri": "https://localhost:8080/"
    },
    "id": "itHBMQjoYkzg",
    "outputId": "30c03206-42f4-4ee3-b015-23c073fded61"
   },
   "outputs": [
    {
     "name": "stdout",
     "output_type": "stream",
     "text": [
      "Model: \"sequential_2\"\n",
      "_________________________________________________________________\n",
      "Layer (type)                 Output Shape              Param #   \n",
      "=================================================================\n",
      "conv2d_6 (Conv2D)            (None, 222, 222, 32)      320       \n",
      "_________________________________________________________________\n",
      "max_pooling2d_6 (MaxPooling2 (None, 111, 111, 32)      0         \n",
      "_________________________________________________________________\n",
      "conv2d_7 (Conv2D)            (None, 109, 109, 64)      18496     \n",
      "_________________________________________________________________\n",
      "max_pooling2d_7 (MaxPooling2 (None, 54, 54, 64)        0         \n",
      "_________________________________________________________________\n",
      "conv2d_8 (Conv2D)            (None, 52, 52, 64)        36928     \n",
      "_________________________________________________________________\n",
      "max_pooling2d_8 (MaxPooling2 (None, 26, 26, 64)        0         \n",
      "_________________________________________________________________\n",
      "batch_normalization_2 (Batch (None, 26, 26, 64)        256       \n",
      "_________________________________________________________________\n",
      "flatten_2 (Flatten)          (None, 43264)             0         \n",
      "_________________________________________________________________\n",
      "dense_6 (Dense)              (None, 128)               5537920   \n",
      "_________________________________________________________________\n",
      "dense_7 (Dense)              (None, 128)               16512     \n",
      "_________________________________________________________________\n",
      "dropout_2 (Dropout)          (None, 128)               0         \n",
      "_________________________________________________________________\n",
      "dense_8 (Dense)              (None, 3)                 387       \n",
      "=================================================================\n",
      "Total params: 5,610,819\n",
      "Trainable params: 5,610,691\n",
      "Non-trainable params: 128\n",
      "_________________________________________________________________\n",
      "Train on 5274 samples, validate on 137 samples\n",
      "Epoch 1/1000\n",
      "5248/5274 [============================>.] - ETA: 0s - loss: 19.5008 - accuracy: 0.5183"
     ]
    },
    {
     "name": "stderr",
     "output_type": "stream",
     "text": [
      "/usr/local/lib/python3.7/dist-packages/tensorflow/python/keras/engine/training.py:2325: UserWarning: `Model.state_updates` will be removed in a future version. This property should not be used in TensorFlow 2.0, as `updates` are applied automatically.\n",
      "  warnings.warn('`Model.state_updates` will be removed in a future version. '\n"
     ]
    },
    {
     "name": "stdout",
     "output_type": "stream",
     "text": [
      "5274/5274 [==============================] - 8s 1ms/sample - loss: 20.4918 - accuracy: 0.5184 - val_loss: 117.0284 - val_accuracy: 0.5693\n",
      "Epoch 2/1000\n",
      "5274/5274 [==============================] - 8s 1ms/sample - loss: 1206.7003 - accuracy: 0.4729 - val_loss: 1745.2897 - val_accuracy: 0.5693\n"
     ]
    },
    {
     "data": {
      "text/plain": [
       "<tensorflow.python.keras.callbacks.History at 0x7f5048137b50>"
      ]
     },
     "execution_count": 64,
     "metadata": {
      "tags": []
     },
     "output_type": "execute_result"
    }
   ],
   "source": [
    "# build a sequential model\n",
    "\n",
    "model_CVC = Sequential()\n",
    "# model.add(InputLayer(input_shape = (650, 650, 1), batch_size = 32))\n",
    "\n",
    "# 1st conv block\n",
    "model_CVC.add(Conv2D(32, (3, 3), activation = 'relu', input_shape = (224, 224, 1))) #padding = 'same'     #or adding \"input_shape\" instead of defining a seperate \"InputLayer\" \n",
    "model_CVC.add(MaxPool2D(pool_size = (2, 2)))\n",
    "# 2nd conv block\n",
    "model_CVC.add(Conv2D(64, (3, 3), activation = 'relu'))\n",
    "model_CVC.add(MaxPool2D(pool_size = (2, 2)))\n",
    "# 3rd conv block\n",
    "model_CVC.add(Conv2D(64, (3, 3), activation = 'relu'))\n",
    "model_CVC.add(MaxPool2D(pool_size = (2, 2)))\n",
    "model_CVC.add(BatchNormalization())\n",
    "# ANN block\n",
    "model_CVC.add(Flatten())\n",
    "model_CVC.add(Dense(units = 128, activation = 'relu'))\n",
    "model_CVC.add(Dense(units = 128, activation = 'relu'))\n",
    "model_CVC.add(Dropout(0.5))\n",
    "# output layer\n",
    "model_CVC.add(Dense(units = 3, activation = 'softmax'))\n",
    " \n",
    "# compile model\n",
    "model_CVC.compile(loss = 'categorical_crossentropy', optimizer = \"adam\", metrics = ['accuracy']) #categorical_crossentropy\n",
    "\n",
    "model_CVC.summary()\n",
    "\n",
    "#Early Stopping\n",
    "from tensorflow.keras.callbacks import EarlyStopping\n",
    "early_stop = EarlyStopping(monitor = 'val_loss', patience = 1)\n",
    "\n",
    "\n",
    "# model.fit(x = Xtrain_scaled, y = ytrain, epochs = 1000, batch_size = 32, validation_split = 0.2) #callbacks = [early_stop])\n",
    "model_CVC.fit(x = x_train_added_CVC, y = y_train_added_CVC, epochs = 1000, batch_size = 32, validation_data = [x_test_CVC, y_test_CVC], callbacks = [early_stop]) #callbacks = [early_stop])"
   ]
  },
  {
   "cell_type": "code",
   "execution_count": null,
   "metadata": {
    "colab": {
     "base_uri": "https://localhost:8080/"
    },
    "id": "HvkKFEmYYkzg",
    "outputId": "bde83f94-7f37-43fb-ea3c-1f26ddaa8c59"
   },
   "outputs": [
    {
     "data": {
      "text/plain": [
       "['loss', 'accuracy']"
      ]
     },
     "execution_count": 65,
     "metadata": {
      "tags": []
     },
     "output_type": "execute_result"
    }
   ],
   "source": [
    "model_CVC.metrics_names"
   ]
  },
  {
   "cell_type": "code",
   "execution_count": null,
   "metadata": {
    "colab": {
     "base_uri": "https://localhost:8080/",
     "height": 110
    },
    "id": "iIWjDdZiYkzg",
    "outputId": "dbb451f9-fcd7-497a-ae68-e65513934cc8"
   },
   "outputs": [
    {
     "data": {
      "text/html": [
       "<div>\n",
       "<style scoped>\n",
       "    .dataframe tbody tr th:only-of-type {\n",
       "        vertical-align: middle;\n",
       "    }\n",
       "\n",
       "    .dataframe tbody tr th {\n",
       "        vertical-align: top;\n",
       "    }\n",
       "\n",
       "    .dataframe thead th {\n",
       "        text-align: right;\n",
       "    }\n",
       "</style>\n",
       "<table border=\"1\" class=\"dataframe\">\n",
       "  <thead>\n",
       "    <tr style=\"text-align: right;\">\n",
       "      <th></th>\n",
       "      <th>loss</th>\n",
       "      <th>accuracy</th>\n",
       "      <th>val_loss</th>\n",
       "      <th>val_accuracy</th>\n",
       "    </tr>\n",
       "  </thead>\n",
       "  <tbody>\n",
       "    <tr>\n",
       "      <th>0</th>\n",
       "      <td>20.491757</td>\n",
       "      <td>0.518392</td>\n",
       "      <td>117.028420</td>\n",
       "      <td>0.569343</td>\n",
       "    </tr>\n",
       "    <tr>\n",
       "      <th>1</th>\n",
       "      <td>1206.700313</td>\n",
       "      <td>0.472886</td>\n",
       "      <td>1745.289688</td>\n",
       "      <td>0.569343</td>\n",
       "    </tr>\n",
       "  </tbody>\n",
       "</table>\n",
       "</div>"
      ],
      "text/plain": [
       "          loss  accuracy     val_loss  val_accuracy\n",
       "0    20.491757  0.518392   117.028420      0.569343\n",
       "1  1206.700313  0.472886  1745.289688      0.569343"
      ]
     },
     "execution_count": 66,
     "metadata": {
      "tags": []
     },
     "output_type": "execute_result"
    }
   ],
   "source": [
    "metrics = pd.DataFrame(model_CVC.history.history)\n",
    "metrics"
   ]
  },
  {
   "cell_type": "code",
   "execution_count": null,
   "metadata": {
    "colab": {
     "base_uri": "https://localhost:8080/",
     "height": 283
    },
    "id": "jIzGYF95Ykzg",
    "outputId": "7f9792a7-f4c4-4ad0-fa16-710e97875d5e"
   },
   "outputs": [
    {
     "data": {
      "text/plain": [
       "<matplotlib.axes._subplots.AxesSubplot at 0x7f5048292b10>"
      ]
     },
     "execution_count": 67,
     "metadata": {
      "tags": []
     },
     "output_type": "execute_result"
    },
    {
     "data": {
      "image/png": "[encoded data removed]",
      "text/plain": [
       "<Figure size 432x288 with 1 Axes>"
      ]
     },
     "metadata": {
      "needs_background": "light",
      "tags": []
     },
     "output_type": "display_data"
    }
   ],
   "source": [
    "metrics[['loss', 'val_loss']].plot()"
   ]
  },
  {
   "cell_type": "code",
   "execution_count": null,
   "metadata": {
    "colab": {
     "base_uri": "https://localhost:8080/",
     "height": 283
    },
    "id": "D7SeJfGjYkzh",
    "outputId": "d36ad220-04e1-44db-f105-fa3a7fc53182"
   },
   "outputs": [
    {
     "data": {
      "text/plain": [
       "<matplotlib.axes._subplots.AxesSubplot at 0x7f50162fa690>"
      ]
     },
     "execution_count": 68,
     "metadata": {
      "tags": []
     },
     "output_type": "execute_result"
    },
    {
     "data": {
      "image/png": "[encoded data removed]",
      "text/plain": [
       "<Figure size 432x288 with 1 Axes>"
      ]
     },
     "metadata": {
      "needs_background": "light",
      "tags": []
     },
     "output_type": "display_data"
    }
   ],
   "source": [
    "metrics[['accuracy', 'val_accuracy']].plot()"
   ]
  },
  {
   "cell_type": "code",
   "execution_count": null,
   "metadata": {
    "colab": {
     "base_uri": "https://localhost:8080/"
    },
    "id": "AwNbJvwlYkzh",
    "outputId": "b04b93ab-1449-4fd9-b007-44dd81b569d6"
   },
   "outputs": [
    {
     "name": "stderr",
     "output_type": "stream",
     "text": [
      "/usr/local/lib/python3.7/dist-packages/tensorflow/python/keras/engine/training.py:2325: UserWarning: `Model.state_updates` will be removed in a future version. This property should not be used in TensorFlow 2.0, as `updates` are applied automatically.\n",
      "  warnings.warn('`Model.state_updates` will be removed in a future version. '\n"
     ]
    }
   ],
   "source": [
    "from sklearn.metrics import accuracy_score, confusion_matrix\n",
    "\n",
    "# predictions = model.predict_classes(x_test)\n",
    "# print(classification_report(y_true = y_test, y_pred = predictions))\n",
    "y_pred = model_CVC.predict(x_test_CVC)\n",
    "# confusion_matrix(y_test, y_pred)\n",
    "# accuracy_score(y_test, y_pred)"
   ]
  },
  {
   "cell_type": "code",
   "execution_count": null,
   "metadata": {
    "colab": {
     "base_uri": "https://localhost:8080/"
    },
    "id": "ZFe11ae5Ykzh",
    "outputId": "730818d8-014e-4c4e-a275-0a37ad3f412e"
   },
   "outputs": [
    {
     "data": {
      "text/plain": [
       "(137, 224, 224, 1)"
      ]
     },
     "execution_count": 70,
     "metadata": {
      "tags": []
     },
     "output_type": "execute_result"
    }
   ],
   "source": [
    "x_test_CVC.shape"
   ]
  },
  {
   "cell_type": "code",
   "execution_count": null,
   "metadata": {
    "id": "2CTJWe25Ykzh"
   },
   "outputs": [],
   "source": [
    "img_ex = x_test_CVC[0].reshape(224, 224)"
   ]
  },
  {
   "cell_type": "code",
   "execution_count": null,
   "metadata": {
    "colab": {
     "base_uri": "https://localhost:8080/",
     "height": 287
    },
    "id": "6v-rdfcwYkzi",
    "outputId": "a47c76d1-6bc2-4eda-aff8-23adb211aa15"
   },
   "outputs": [
    {
     "data": {
      "text/plain": [
       "<matplotlib.image.AxesImage at 0x7f5016293950>"
      ]
     },
     "execution_count": 72,
     "metadata": {
      "tags": []
     },
     "output_type": "execute_result"
    },
    {
     "data": {
      "image/png": "[encoded data removed]",
      "text/plain": [
       "<Figure size 432x288 with 1 Axes>"
      ]
     },
     "metadata": {
      "needs_background": "light",
      "tags": []
     },
     "output_type": "display_data"
    }
   ],
   "source": [
    "plt.imshow(img_ex, cmap=\"gray\")"
   ]
  },
  {
   "cell_type": "code",
   "execution_count": null,
   "metadata": {
    "colab": {
     "base_uri": "https://localhost:8080/"
    },
    "id": "RxjGe55WYkzi",
    "outputId": "f4988b24-0f62-4c7c-ae58-73ffb20ceca1"
   },
   "outputs": [
    {
     "data": {
      "text/plain": [
       "array([[0, 0, 1]], dtype=int32)"
      ]
     },
     "execution_count": 73,
     "metadata": {
      "tags": []
     },
     "output_type": "execute_result"
    }
   ],
   "source": [
    "y_pred_CVC = model_CVC.predict(img_ex.reshape(1, 224, 224, 1))\n",
    "y_pred_CVC.astype(np.int32)"
   ]
  },
  {
   "cell_type": "code",
   "execution_count": null,
   "metadata": {
    "colab": {
     "base_uri": "https://localhost:8080/"
    },
    "id": "5Au4JNpHYkzi",
    "outputId": "d30b124e-c5b4-466d-8e45-32bbca751a93"
   },
   "outputs": [
    {
     "data": {
      "text/plain": [
       "(1, 3)"
      ]
     },
     "execution_count": 74,
     "metadata": {
      "tags": []
     },
     "output_type": "execute_result"
    }
   ],
   "source": [
    "y_pred_CVC.shape"
   ]
  },
  {
   "cell_type": "markdown",
   "metadata": {
    "id": "wkAL0Ia0Ykzj"
   },
   "source": [
    "## Model SG: CNN "
   ]
  },
  {
   "cell_type": "code",
   "execution_count": null,
   "metadata": {
    "colab": {
     "base_uri": "https://localhost:8080/"
    },
    "id": "OablJ5mjYkzj",
    "outputId": "a68f28cb-36cc-4c16-c415-4fbbcdd7f65d"
   },
   "outputs": [
    {
     "name": "stdout",
     "output_type": "stream",
     "text": [
      "Model: \"sequential_3\"\n",
      "_________________________________________________________________\n",
      "Layer (type)                 Output Shape              Param #   \n",
      "=================================================================\n",
      "conv2d_9 (Conv2D)            (None, 222, 222, 32)      320       \n",
      "_________________________________________________________________\n",
      "max_pooling2d_9 (MaxPooling2 (None, 111, 111, 32)      0         \n",
      "_________________________________________________________________\n",
      "conv2d_10 (Conv2D)           (None, 109, 109, 64)      18496     \n",
      "_________________________________________________________________\n",
      "max_pooling2d_10 (MaxPooling (None, 54, 54, 64)        0         \n",
      "_________________________________________________________________\n",
      "conv2d_11 (Conv2D)           (None, 52, 52, 64)        36928     \n",
      "_________________________________________________________________\n",
      "max_pooling2d_11 (MaxPooling (None, 26, 26, 64)        0         \n",
      "_________________________________________________________________\n",
      "batch_normalization_3 (Batch (None, 26, 26, 64)        256       \n",
      "_________________________________________________________________\n",
      "flatten_3 (Flatten)          (None, 43264)             0         \n",
      "_________________________________________________________________\n",
      "dense_9 (Dense)              (None, 128)               5537920   \n",
      "_________________________________________________________________\n",
      "dense_10 (Dense)             (None, 128)               16512     \n",
      "_________________________________________________________________\n",
      "dropout_3 (Dropout)          (None, 128)               0         \n",
      "_________________________________________________________________\n",
      "dense_11 (Dense)             (None, 1)                 129       \n",
      "=================================================================\n",
      "Total params: 5,610,561\n",
      "Trainable params: 5,610,433\n",
      "Non-trainable params: 128\n",
      "_________________________________________________________________\n",
      "Train on 5274 samples, validate on 137 samples\n",
      "Epoch 1/1000\n",
      "5274/5274 [==============================] - ETA: 0s - loss: 0.1819 - accuracy: 0.9680"
     ]
    },
    {
     "name": "stderr",
     "output_type": "stream",
     "text": [
      "/usr/local/lib/python3.7/dist-packages/tensorflow/python/keras/engine/training.py:2325: UserWarning: `Model.state_updates` will be removed in a future version. This property should not be used in TensorFlow 2.0, as `updates` are applied automatically.\n",
      "  warnings.warn('`Model.state_updates` will be removed in a future version. '\n"
     ]
    },
    {
     "name": "stdout",
     "output_type": "stream",
     "text": [
      "5274/5274 [==============================] - 8s 2ms/sample - loss: 0.1819 - accuracy: 0.9680 - val_loss: 0.1179 - val_accuracy: 0.9854\n",
      "Epoch 2/1000\n",
      "5274/5274 [==============================] - 7s 1ms/sample - loss: 0.1483 - accuracy: 0.9697 - val_loss: 0.0779 - val_accuracy: 0.9854\n",
      "Epoch 3/1000\n",
      "5274/5274 [==============================] - 7s 1ms/sample - loss: 0.1451 - accuracy: 0.9697 - val_loss: 0.1431 - val_accuracy: 0.9854\n"
     ]
    },
    {
     "data": {
      "text/plain": [
       "<tensorflow.python.keras.callbacks.History at 0x7f50161f33d0>"
      ]
     },
     "execution_count": 75,
     "metadata": {
      "tags": []
     },
     "output_type": "execute_result"
    }
   ],
   "source": [
    "# build a sequential model\n",
    "\n",
    "model_SG = Sequential()\n",
    "# model.add(InputLayer(input_shape = (650, 650, 1), batch_size = 32))\n",
    "\n",
    "# 1st conv block\n",
    "model_SG.add(Conv2D(32, (3, 3), activation = 'relu', input_shape = (224, 224, 1))) #padding = 'same'     #or adding \"input_shape\" instead of defining a seperate \"InputLayer\" \n",
    "model_SG.add(MaxPool2D(pool_size = (2, 2)))\n",
    "# 2nd conv block\n",
    "model_SG.add(Conv2D(64, (3, 3), activation = 'relu'))\n",
    "model_SG.add(MaxPool2D(pool_size = (2, 2)))\n",
    "# 3rd conv block\n",
    "model_SG.add(Conv2D(64, (3, 3), activation = 'relu'))\n",
    "model_SG.add(MaxPool2D(pool_size = (2, 2)))\n",
    "model_SG.add(BatchNormalization())\n",
    "# ANN block\n",
    "model_SG.add(Flatten())\n",
    "model_SG.add(Dense(units = 128, activation = 'relu'))\n",
    "model_SG.add(Dense(units = 128, activation = 'relu'))\n",
    "model_SG.add(Dropout(0.5))\n",
    "# output layer\n",
    "model_SG.add(Dense(units = 1, activation = 'sigmoid'))\n",
    " \n",
    "# compile model\n",
    "model_SG.compile(loss = 'binary_crossentropy', optimizer = \"adam\", metrics = ['accuracy']) #categorical_crossentropy\n",
    "\n",
    "model_SG.summary()\n",
    "\n",
    "#Early Stopping\n",
    "from tensorflow.keras.callbacks import EarlyStopping\n",
    "early_stop = EarlyStopping(monitor = 'val_loss', patience = 1)\n",
    "\n",
    "\n",
    "# model.fit(x = Xtrain_scaled, y = ytrain, epochs = 1000, batch_size = 32, validation_split = 0.2) #callbacks = [early_stop])\n",
    "model_SG.fit(x = x_train_added_SG, y = y_train_added_SG, epochs = 1000, batch_size = 32, validation_data = [x_test_SG, y_test_SG], callbacks = [early_stop]) #callbacks = [early_stop])"
   ]
  },
  {
   "cell_type": "code",
   "execution_count": null,
   "metadata": {
    "colab": {
     "base_uri": "https://localhost:8080/"
    },
    "id": "wRRq7doeYkzk",
    "outputId": "717433b3-9661-4473-f62c-c9f7d05e5af3"
   },
   "outputs": [
    {
     "data": {
      "text/plain": [
       "['loss', 'accuracy']"
      ]
     },
     "execution_count": 76,
     "metadata": {
      "tags": []
     },
     "output_type": "execute_result"
    }
   ],
   "source": [
    "model_SG.metrics_names"
   ]
  },
  {
   "cell_type": "code",
   "execution_count": null,
   "metadata": {
    "colab": {
     "base_uri": "https://localhost:8080/",
     "height": 141
    },
    "id": "OPuTEMaPYkzk",
    "outputId": "21209ab5-9640-40c7-a6f7-b4ad8abf7dd0"
   },
   "outputs": [
    {
     "data": {
      "text/html": [
       "<div>\n",
       "<style scoped>\n",
       "    .dataframe tbody tr th:only-of-type {\n",
       "        vertical-align: middle;\n",
       "    }\n",
       "\n",
       "    .dataframe tbody tr th {\n",
       "        vertical-align: top;\n",
       "    }\n",
       "\n",
       "    .dataframe thead th {\n",
       "        text-align: right;\n",
       "    }\n",
       "</style>\n",
       "<table border=\"1\" class=\"dataframe\">\n",
       "  <thead>\n",
       "    <tr style=\"text-align: right;\">\n",
       "      <th></th>\n",
       "      <th>loss</th>\n",
       "      <th>accuracy</th>\n",
       "      <th>val_loss</th>\n",
       "      <th>val_accuracy</th>\n",
       "    </tr>\n",
       "  </thead>\n",
       "  <tbody>\n",
       "    <tr>\n",
       "      <th>0</th>\n",
       "      <td>0.181864</td>\n",
       "      <td>0.967956</td>\n",
       "      <td>0.117947</td>\n",
       "      <td>0.985401</td>\n",
       "    </tr>\n",
       "    <tr>\n",
       "      <th>1</th>\n",
       "      <td>0.148303</td>\n",
       "      <td>0.969662</td>\n",
       "      <td>0.077859</td>\n",
       "      <td>0.985401</td>\n",
       "    </tr>\n",
       "    <tr>\n",
       "      <th>2</th>\n",
       "      <td>0.145081</td>\n",
       "      <td>0.969662</td>\n",
       "      <td>0.143082</td>\n",
       "      <td>0.985401</td>\n",
       "    </tr>\n",
       "  </tbody>\n",
       "</table>\n",
       "</div>"
      ],
      "text/plain": [
       "       loss  accuracy  val_loss  val_accuracy\n",
       "0  0.181864  0.967956  0.117947      0.985401\n",
       "1  0.148303  0.969662  0.077859      0.985401\n",
       "2  0.145081  0.969662  0.143082      0.985401"
      ]
     },
     "execution_count": 77,
     "metadata": {
      "tags": []
     },
     "output_type": "execute_result"
    }
   ],
   "source": [
    "metrics = pd.DataFrame(model_SG.history.history)\n",
    "metrics"
   ]
  },
  {
   "cell_type": "code",
   "execution_count": null,
   "metadata": {
    "colab": {
     "base_uri": "https://localhost:8080/",
     "height": 283
    },
    "id": "mnT2DD4KYkzk",
    "outputId": "c6ba7c9e-9713-43a4-a7dd-29ae15a89a4e"
   },
   "outputs": [
    {
     "data": {
      "text/plain": [
       "<matplotlib.axes._subplots.AxesSubplot at 0x7f500c7e63d0>"
      ]
     },
     "execution_count": 78,
     "metadata": {
      "tags": []
     },
     "output_type": "execute_result"
    },
    {
     "data": {
      "image/png": "[encoded data removed]",
      "text/plain": [
       "<Figure size 432x288 with 1 Axes>"
      ]
     },
     "metadata": {
      "needs_background": "light",
      "tags": []
     },
     "output_type": "display_data"
    }
   ],
   "source": [
    "metrics[['loss', 'val_loss']].plot()"
   ]
  },
  {
   "cell_type": "code",
   "execution_count": null,
   "metadata": {
    "colab": {
     "base_uri": "https://localhost:8080/",
     "height": 283
    },
    "id": "qt3qtrNOYkzl",
    "outputId": "16cafb1f-13d7-4e26-e653-a15089567b24"
   },
   "outputs": [
    {
     "data": {
      "text/plain": [
       "<matplotlib.axes._subplots.AxesSubplot at 0x7f500c75a590>"
      ]
     },
     "execution_count": 79,
     "metadata": {
      "tags": []
     },
     "output_type": "execute_result"
    },
    {
     "data": {
      "image/png": "[encoded data removed]",
      "text/plain": [
       "<Figure size 432x288 with 1 Axes>"
      ]
     },
     "metadata": {
      "needs_background": "light",
      "tags": []
     },
     "output_type": "display_data"
    }
   ],
   "source": [
    "metrics[['accuracy', 'val_accuracy']].plot()"
   ]
  },
  {
   "cell_type": "code",
   "execution_count": null,
   "metadata": {
    "colab": {
     "base_uri": "https://localhost:8080/"
    },
    "id": "xy52x4tpYkzl",
    "outputId": "6c057c08-81b9-40f7-a261-62e72ed0698d"
   },
   "outputs": [
    {
     "name": "stderr",
     "output_type": "stream",
     "text": [
      "/usr/local/lib/python3.7/dist-packages/tensorflow/python/keras/engine/training.py:2325: UserWarning: `Model.state_updates` will be removed in a future version. This property should not be used in TensorFlow 2.0, as `updates` are applied automatically.\n",
      "  warnings.warn('`Model.state_updates` will be removed in a future version. '\n"
     ]
    }
   ],
   "source": [
    "from sklearn.metrics import accuracy_score, confusion_matrix\n",
    "\n",
    "# predictions = model.predict_classes(x_test)\n",
    "# print(classification_report(y_true = y_test, y_pred = predictions))\n",
    "y_pred = model_SG.predict(x_test_SG)\n",
    "# confusion_matrix(y_test, y_pred)\n",
    "# accuracy_score(y_test, y_pred)"
   ]
  },
  {
   "cell_type": "code",
   "execution_count": null,
   "metadata": {
    "colab": {
     "base_uri": "https://localhost:8080/"
    },
    "id": "dFHNUcD0Ykzl",
    "outputId": "fa56754e-43c0-4090-c5ea-413b9e7d8b74"
   },
   "outputs": [
    {
     "data": {
      "text/plain": [
       "(137, 224, 224, 1)"
      ]
     },
     "execution_count": 81,
     "metadata": {
      "tags": []
     },
     "output_type": "execute_result"
    }
   ],
   "source": [
    "x_test_SG.shape"
   ]
  },
  {
   "cell_type": "code",
   "execution_count": null,
   "metadata": {
    "id": "v-q03Rh_Ykzl"
   },
   "outputs": [],
   "source": [
    "img_ex = x_test_SG[0].reshape(224, 224)"
   ]
  },
  {
   "cell_type": "code",
   "execution_count": null,
   "metadata": {
    "colab": {
     "base_uri": "https://localhost:8080/",
     "height": 287
    },
    "id": "BFw502r6Ykzm",
    "outputId": "ac863f1a-2402-4d41-acca-9c9d0a1c4c2f"
   },
   "outputs": [
    {
     "data": {
      "text/plain": [
       "<matplotlib.image.AxesImage at 0x7f500c691710>"
      ]
     },
     "execution_count": 83,
     "metadata": {
      "tags": []
     },
     "output_type": "execute_result"
    },
    {
     "data": {
      "image/png": "[encoded data removed]",
      "text/plain": [
       "<Figure size 432x288 with 1 Axes>"
      ]
     },
     "metadata": {
      "needs_background": "light",
      "tags": []
     },
     "output_type": "display_data"
    }
   ],
   "source": [
    "plt.imshow(img_ex, cmap=\"gray\")"
   ]
  },
  {
   "cell_type": "code",
   "execution_count": null,
   "metadata": {
    "colab": {
     "base_uri": "https://localhost:8080/"
    },
    "id": "MK_r9t_WYkzm",
    "outputId": "ee3e0734-e624-4d9d-9e39-ae0ff8945f7d"
   },
   "outputs": [
    {
     "data": {
      "text/plain": [
       "array([[0]], dtype=int32)"
      ]
     },
     "execution_count": 84,
     "metadata": {
      "tags": []
     },
     "output_type": "execute_result"
    }
   ],
   "source": [
    "y_pred_SG = model_SG.predict(img_ex.reshape(1, 224, 224, 1))\n",
    "y_pred_SG.astype(np.int32)"
   ]
  },
  {
   "cell_type": "code",
   "execution_count": null,
   "metadata": {
    "colab": {
     "base_uri": "https://localhost:8080/"
    },
    "id": "wkCjeRSWYkzm",
    "outputId": "354377f6-93a2-4215-fb78-079bc2f6783d"
   },
   "outputs": [
    {
     "data": {
      "text/plain": [
       "(1, 1)"
      ]
     },
     "execution_count": 85,
     "metadata": {
      "tags": []
     },
     "output_type": "execute_result"
    }
   ],
   "source": [
    "y_pred_SG.shape"
   ]
  },
  {
   "cell_type": "markdown",
   "metadata": {
    "id": "xjtXSwjlYkzm"
   },
   "source": [
    "## Results:"
   ]
  },
  {
   "cell_type": "code",
   "execution_count": null,
   "metadata": {
    "id": "1eymvjbaYkzn"
   },
   "outputs": [],
   "source": [
    "#Among all the diffrenet four catgories ETT, NGT, CVC, and SG the SG had the higheset accuracy.\n",
    "#The reason could be that it is a binary classification; hence, demands less computations from the CNN model side.\n",
    "#Another reason could be that the SG metric is quite clear and doesn't actually have particular hidden relationships to be discovered. "
   ]
  },
  {
   "cell_type": "markdown",
   "metadata": {
    "id": "QPPbJ6FywRGN"
   },
   "source": [
    "## Train Model CVC-Abnormal:"
   ]
  },
  {
   "cell_type": "code",
   "execution_count": null,
   "metadata": {
    "colab": {
     "base_uri": "https://localhost:8080/",
     "height": 305
    },
    "id": "bBWA5Y_1wQT6",
    "outputId": "5646de67-913b-4dae-9a72-7382c45ce110"
   },
   "outputs": [
    {
     "data": {
      "text/plain": [
       "<matplotlib.axes._subplots.AxesSubplot at 0x7f9172adc9d0>"
      ]
     },
     "execution_count": 42,
     "metadata": {
      "tags": []
     },
     "output_type": "execute_result"
    },
    {
     "data": {
      "image/png": "[encoded data removed]",
      "text/plain": [
       "<Figure size 432x288 with 1 Axes>"
      ]
     },
     "metadata": {
      "needs_background": "light",
      "tags": []
     },
     "output_type": "display_data"
    }
   ],
   "source": [
    "#So, CVC-Abnormal is highly imbalanced! -> Therefore, the \"CVC-Abnormal\" model will overfit quickly! \n",
    "\n",
    "pd.DataFrame(y_train_added_CVC[:, 0]).value_counts().plot(kind = 'bar') #imbalanced"
   ]
  },
  {
   "cell_type": "markdown",
   "metadata": {
    "id": "E5s5OK6WoNJ-"
   },
   "source": [
    "##### The data:"
   ]
  },
  {
   "cell_type": "code",
   "execution_count": null,
   "metadata": {
    "colab": {
     "base_uri": "https://localhost:8080/"
    },
    "id": "HvMGXsf-oEKn",
    "outputId": "33fb56fe-454e-40dd-f828-02f8e38b7fb6"
   },
   "outputs": [
    {
     "name": "stdout",
     "output_type": "stream",
     "text": [
      "(5274, 224, 224, 1)\n",
      "(5274, 3)\n",
      "(137, 224, 224, 1)\n",
      "(137, 3)\n"
     ]
    }
   ],
   "source": [
    "#so far we had:\n",
    "\n",
    "print(x_train_added_CVC.shape) #verified!\n",
    "print(y_train_added_CVC.shape) #verified!\n",
    "print(x_test_CVC.shape)\n",
    "print(y_test_CVC.shape)"
   ]
  },
  {
   "cell_type": "code",
   "execution_count": null,
   "metadata": {
    "id": "J0YGMMSOoRB6"
   },
   "outputs": [],
   "source": [
    "#We only need to change \"y\"s:\n",
    "\n",
    "y_train_added_CVC_abnormal = y_train_added_CVC[:, 0]\n",
    "y_test_CVC_abnormal = y_test_CVC[:, 0]"
   ]
  },
  {
   "cell_type": "markdown",
   "metadata": {
    "id": "glqC02h0oVUN"
   },
   "source": [
    "#### Model:"
   ]
  },
  {
   "cell_type": "code",
   "execution_count": null,
   "metadata": {
    "colab": {
     "base_uri": "https://localhost:8080/"
    },
    "id": "X-ElhJtCoTnF",
    "outputId": "b5bf2a78-f329-42eb-a20d-664707fa3aed"
   },
   "outputs": [
    {
     "name": "stdout",
     "output_type": "stream",
     "text": [
      "Model: \"sequential_11\"\n",
      "_________________________________________________________________\n",
      "Layer (type)                 Output Shape              Param #   \n",
      "=================================================================\n",
      "conv2d_29 (Conv2D)           (None, 222, 222, 32)      320       \n",
      "_________________________________________________________________\n",
      "max_pooling2d_29 (MaxPooling (None, 111, 111, 32)      0         \n",
      "_________________________________________________________________\n",
      "conv2d_30 (Conv2D)           (None, 109, 109, 64)      18496     \n",
      "_________________________________________________________________\n",
      "max_pooling2d_30 (MaxPooling (None, 54, 54, 64)        0         \n",
      "_________________________________________________________________\n",
      "conv2d_31 (Conv2D)           (None, 52, 52, 64)        36928     \n",
      "_________________________________________________________________\n",
      "max_pooling2d_31 (MaxPooling (None, 26, 26, 64)        0         \n",
      "_________________________________________________________________\n",
      "batch_normalization_20 (Batc (None, 26, 26, 64)        256       \n",
      "_________________________________________________________________\n",
      "flatten_11 (Flatten)         (None, 43264)             0         \n",
      "_________________________________________________________________\n",
      "dense_33 (Dense)             (None, 128)               5537920   \n",
      "_________________________________________________________________\n",
      "dense_34 (Dense)             (None, 128)               16512     \n",
      "_________________________________________________________________\n",
      "dropout_17 (Dropout)         (None, 128)               0         \n",
      "_________________________________________________________________\n",
      "dense_35 (Dense)             (None, 1)                 129       \n",
      "=================================================================\n",
      "Total params: 5,610,561\n",
      "Trainable params: 5,610,433\n",
      "Non-trainable params: 128\n",
      "_________________________________________________________________\n",
      "Train on 5274 samples, validate on 137 samples\n",
      "Epoch 1/1000\n",
      "5274/5274 [==============================] - ETA: 0s - loss: 0.3774 - accuracy: 0.8887"
     ]
    },
    {
     "name": "stderr",
     "output_type": "stream",
     "text": [
      "/usr/local/lib/python3.7/dist-packages/tensorflow/python/keras/engine/training.py:2325: UserWarning: `Model.state_updates` will be removed in a future version. This property should not be used in TensorFlow 2.0, as `updates` are applied automatically.\n",
      "  warnings.warn('`Model.state_updates` will be removed in a future version. '\n"
     ]
    },
    {
     "name": "stdout",
     "output_type": "stream",
     "text": [
      "5274/5274 [==============================] - 6s 1ms/sample - loss: 0.3774 - accuracy: 0.8887 - val_loss: 0.4742 - val_accuracy: 0.8394\n",
      "Epoch 2/1000\n",
      "5274/5274 [==============================] - 5s 887us/sample - loss: 0.3500 - accuracy: 0.8940 - val_loss: 0.4557 - val_accuracy: 0.8394\n",
      "Epoch 3/1000\n",
      "5274/5274 [==============================] - 5s 887us/sample - loss: 0.3532 - accuracy: 0.8940 - val_loss: 0.4429 - val_accuracy: 0.8394\n",
      "Epoch 4/1000\n",
      "5274/5274 [==============================] - 5s 886us/sample - loss: 0.3477 - accuracy: 0.8942 - val_loss: 0.4956 - val_accuracy: 0.8394\n"
     ]
    },
    {
     "data": {
      "text/plain": [
       "<tensorflow.python.keras.callbacks.History at 0x7f2b9b4a9ad0>"
      ]
     },
     "execution_count": 113,
     "metadata": {
      "tags": []
     },
     "output_type": "execute_result"
    }
   ],
   "source": [
    "# build a sequential model\n",
    "\n",
    "model_CVC_abnormal = Sequential()\n",
    "# model.add(InputLayer(input_shape = (650, 650, 1), batch_size = 32))\n",
    "\n",
    "# 1st conv block\n",
    "model_CVC_abnormal.add(Conv2D(32, (3, 3), activation = 'relu', input_shape = (224, 224, 1))) #padding = 'same'     #or adding \"input_shape\" instead of defining a seperate \"InputLayer\" \n",
    "model_CVC_abnormal.add(MaxPool2D(pool_size = (2, 2)))\n",
    "# 2nd conv block\n",
    "model_CVC_abnormal.add(Conv2D(64, (3, 3), activation = 'relu'))\n",
    "model_CVC_abnormal.add(MaxPool2D(pool_size = (2, 2)))\n",
    "# 3rd conv block\n",
    "model_CVC_abnormal.add(Conv2D(64, (3, 3), activation = 'relu'))\n",
    "model_CVC_abnormal.add(MaxPool2D(pool_size = (2, 2)))\n",
    "model_CVC_abnormal.add(BatchNormalization())\n",
    "# ANN block\n",
    "model_CVC_abnormal.add(Flatten())\n",
    "model_CVC_abnormal.add(Dense(units = 128, activation = 'relu'))\n",
    "model_CVC_abnormal.add(Dense(units = 128, activation = 'relu'))\n",
    "model_CVC_abnormal.add(Dropout(0.5))\n",
    "# output layer\n",
    "model_CVC_abnormal.add(Dense(units = 1, activation = 'sigmoid'))\n",
    " \n",
    "# compile model\n",
    "model_CVC_abnormal.compile(loss = 'binary_crossentropy', optimizer = \"adam\", metrics = ['accuracy']) #categorical_crossentropy\n",
    "\n",
    "model_CVC_abnormal.summary()\n",
    "\n",
    "#Early Stopping\n",
    "from tensorflow.keras.callbacks import EarlyStopping\n",
    "early_stop = EarlyStopping(monitor = 'val_loss', patience = 1)\n",
    "\n",
    "\n",
    "# model.fit(x = Xtrain_scaled, y = ytrain, epochs = 1000, batch_size = 32, validation_split = 0.2) #callbacks = [early_stop])\n",
    "model_CVC_abnormal.fit(x = x_train_added_CVC, y = y_train_added_CVC_abnormal, epochs = 1000, batch_size = 32, validation_data = [x_test_CVC, y_test_CVC_abnormal], callbacks = [early_stop]) #callbacks = [early_stop])"
   ]
  },
  {
   "cell_type": "code",
   "execution_count": null,
   "metadata": {
    "colab": {
     "base_uri": "https://localhost:8080/"
    },
    "id": "gx7MBZzsogb3",
    "outputId": "bce6e175-8a70-4de5-b84a-d63373baeee2"
   },
   "outputs": [
    {
     "data": {
      "text/plain": [
       "['loss', 'accuracy']"
      ]
     },
     "execution_count": 114,
     "metadata": {
      "tags": []
     },
     "output_type": "execute_result"
    }
   ],
   "source": [
    "model_CVC_abnormal.metrics_names"
   ]
  },
  {
   "cell_type": "code",
   "execution_count": null,
   "metadata": {
    "colab": {
     "base_uri": "https://localhost:8080/",
     "height": 171
    },
    "id": "0796qduUokRt",
    "outputId": "ef17054b-7243-4b2c-ca1d-70bd871aea0f"
   },
   "outputs": [
    {
     "data": {
      "text/html": [
       "<div>\n",
       "<style scoped>\n",
       "    .dataframe tbody tr th:only-of-type {\n",
       "        vertical-align: middle;\n",
       "    }\n",
       "\n",
       "    .dataframe tbody tr th {\n",
       "        vertical-align: top;\n",
       "    }\n",
       "\n",
       "    .dataframe thead th {\n",
       "        text-align: right;\n",
       "    }\n",
       "</style>\n",
       "<table border=\"1\" class=\"dataframe\">\n",
       "  <thead>\n",
       "    <tr style=\"text-align: right;\">\n",
       "      <th></th>\n",
       "      <th>loss</th>\n",
       "      <th>accuracy</th>\n",
       "      <th>val_loss</th>\n",
       "      <th>val_accuracy</th>\n",
       "    </tr>\n",
       "  </thead>\n",
       "  <tbody>\n",
       "    <tr>\n",
       "      <th>0</th>\n",
       "      <td>0.377444</td>\n",
       "      <td>0.888699</td>\n",
       "      <td>0.474184</td>\n",
       "      <td>0.839416</td>\n",
       "    </tr>\n",
       "    <tr>\n",
       "      <th>1</th>\n",
       "      <td>0.350020</td>\n",
       "      <td>0.894008</td>\n",
       "      <td>0.455701</td>\n",
       "      <td>0.839416</td>\n",
       "    </tr>\n",
       "    <tr>\n",
       "      <th>2</th>\n",
       "      <td>0.353163</td>\n",
       "      <td>0.894008</td>\n",
       "      <td>0.442922</td>\n",
       "      <td>0.839416</td>\n",
       "    </tr>\n",
       "    <tr>\n",
       "      <th>3</th>\n",
       "      <td>0.347672</td>\n",
       "      <td>0.894198</td>\n",
       "      <td>0.495567</td>\n",
       "      <td>0.839416</td>\n",
       "    </tr>\n",
       "  </tbody>\n",
       "</table>\n",
       "</div>"
      ],
      "text/plain": [
       "       loss  accuracy  val_loss  val_accuracy\n",
       "0  0.377444  0.888699  0.474184      0.839416\n",
       "1  0.350020  0.894008  0.455701      0.839416\n",
       "2  0.353163  0.894008  0.442922      0.839416\n",
       "3  0.347672  0.894198  0.495567      0.839416"
      ]
     },
     "execution_count": 115,
     "metadata": {
      "tags": []
     },
     "output_type": "execute_result"
    }
   ],
   "source": [
    "metrics = pd.DataFrame(model_CVC_abnormal.history.history)\n",
    "metrics"
   ]
  },
  {
   "cell_type": "code",
   "execution_count": null,
   "metadata": {
    "colab": {
     "base_uri": "https://localhost:8080/",
     "height": 283
    },
    "id": "ZgfRzptSokWD",
    "outputId": "07a03829-c962-4789-ea0b-e3136c035a59"
   },
   "outputs": [
    {
     "data": {
      "text/plain": [
       "<matplotlib.axes._subplots.AxesSubplot at 0x7f2b9b66a0d0>"
      ]
     },
     "execution_count": 116,
     "metadata": {
      "tags": []
     },
     "output_type": "execute_result"
    },
    {
     "data": {
      "image/png": "[encoded data removed]",
      "text/plain": [
       "<Figure size 432x288 with 1 Axes>"
      ]
     },
     "metadata": {
      "needs_background": "light",
      "tags": []
     },
     "output_type": "display_data"
    }
   ],
   "source": [
    "metrics[['loss', 'val_loss']].plot()"
   ]
  },
  {
   "cell_type": "code",
   "execution_count": null,
   "metadata": {
    "colab": {
     "base_uri": "https://localhost:8080/",
     "height": 283
    },
    "id": "AVtq7I1hoka5",
    "outputId": "379bc8f7-9399-488d-d348-8cb5d4e7e957"
   },
   "outputs": [
    {
     "data": {
      "text/plain": [
       "<matplotlib.axes._subplots.AxesSubplot at 0x7f2b9b404190>"
      ]
     },
     "execution_count": 117,
     "metadata": {
      "tags": []
     },
     "output_type": "execute_result"
    },
    {
     "data": {
      "image/png": "[encoded data removed]",
      "text/plain": [
       "<Figure size 432x288 with 1 Axes>"
      ]
     },
     "metadata": {
      "needs_background": "light",
      "tags": []
     },
     "output_type": "display_data"
    }
   ],
   "source": [
    "metrics[['accuracy', 'val_accuracy']].plot()"
   ]
  },
  {
   "cell_type": "code",
   "execution_count": null,
   "metadata": {
    "colab": {
     "base_uri": "https://localhost:8080/"
    },
    "id": "QSnDTrH1okfT",
    "outputId": "d868fff7-1a16-4cb0-ba43-841d3b708e71"
   },
   "outputs": [
    {
     "name": "stderr",
     "output_type": "stream",
     "text": [
      "/usr/local/lib/python3.7/dist-packages/tensorflow/python/keras/engine/training.py:2325: UserWarning: `Model.state_updates` will be removed in a future version. This property should not be used in TensorFlow 2.0, as `updates` are applied automatically.\n",
      "  warnings.warn('`Model.state_updates` will be removed in a future version. '\n"
     ]
    }
   ],
   "source": [
    "from sklearn.metrics import accuracy_score, confusion_matrix\n",
    "\n",
    "# predictions = model.predict_classes(x_test)\n",
    "# print(classification_report(y_true = y_test, y_pred = predictions))\n",
    "y_pred = model_CVC_abnormal.predict(x_test_CVC)\n",
    "# confusion_matrix(y_test, y_pred)\n",
    "# accuracy_score(y_test, y_pred)"
   ]
  },
  {
   "cell_type": "code",
   "execution_count": null,
   "metadata": {
    "colab": {
     "base_uri": "https://localhost:8080/"
    },
    "id": "3fdkh8kKoklO",
    "outputId": "b45070f4-5e08-495f-ae77-8d6f0bc485ac"
   },
   "outputs": [
    {
     "data": {
      "text/plain": [
       "(137, 224, 224, 1)"
      ]
     },
     "execution_count": 119,
     "metadata": {
      "tags": []
     },
     "output_type": "execute_result"
    }
   ],
   "source": [
    "x_test_CVC.shape"
   ]
  },
  {
   "cell_type": "code",
   "execution_count": null,
   "metadata": {
    "colab": {
     "base_uri": "https://localhost:8080/"
    },
    "id": "N5BkE4ZYokpf",
    "outputId": "1e02e974-8d26-4470-f762-75b6255ca0f2"
   },
   "outputs": [
    {
     "data": {
      "text/plain": [
       "array([[0]], dtype=int32)"
      ]
     },
     "execution_count": 120,
     "metadata": {
      "tags": []
     },
     "output_type": "execute_result"
    }
   ],
   "source": [
    "img_ex = x_test_CVC[0].reshape(224, 224) #img_ex -> x_test_CVC[0] -> y_test_CVC_abnormal[0]\n",
    "y_pred_CVC = model_CVC_abnormal.predict(img_ex.reshape(1, 224, 224, 1))\n",
    "y_pred_CVC.astype(np.int32)"
   ]
  },
  {
   "cell_type": "code",
   "execution_count": null,
   "metadata": {
    "colab": {
     "base_uri": "https://localhost:8080/"
    },
    "id": "FMKr-9vqozuO",
    "outputId": "e086b5b5-7405-4c57-92c7-a27d00946215"
   },
   "outputs": [
    {
     "data": {
      "text/plain": [
       "0"
      ]
     },
     "execution_count": 121,
     "metadata": {
      "tags": []
     },
     "output_type": "execute_result"
    }
   ],
   "source": [
    "y_test_CVC_abnormal[0] #Same results!"
   ]
  },
  {
   "cell_type": "code",
   "execution_count": null,
   "metadata": {
    "colab": {
     "base_uri": "https://localhost:8080/",
     "height": 287
    },
    "id": "Uj4UidZ9ozyg",
    "outputId": "08c72978-1081-485c-88f8-719dc1700652"
   },
   "outputs": [
    {
     "data": {
      "text/plain": [
       "<matplotlib.image.AxesImage at 0x7f2b9b328b50>"
      ]
     },
     "execution_count": 122,
     "metadata": {
      "tags": []
     },
     "output_type": "execute_result"
    },
    {
     "data": {
      "image/png": "[encoded data removed]",
      "text/plain": [
       "<Figure size 432x288 with 1 Axes>"
      ]
     },
     "metadata": {
      "needs_background": "light",
      "tags": []
     },
     "output_type": "display_data"
    }
   ],
   "source": [
    "plt.imshow(img_ex, cmap=\"gray\")"
   ]
  },
  {
   "cell_type": "markdown",
   "metadata": {
    "id": "RZ_Vn4eppUan"
   },
   "source": [
    "## Train Model CVC-Borderline:"
   ]
  },
  {
   "cell_type": "code",
   "execution_count": null,
   "metadata": {
    "colab": {
     "base_uri": "https://localhost:8080/",
     "height": 305
    },
    "id": "6t5rTjP31esQ",
    "outputId": "cf3ba243-5d07-4c3d-dfe4-202af369782f"
   },
   "outputs": [
    {
     "data": {
      "text/plain": [
       "<matplotlib.axes._subplots.AxesSubplot at 0x7f9172a54810>"
      ]
     },
     "execution_count": 45,
     "metadata": {
      "tags": []
     },
     "output_type": "execute_result"
    },
    {
     "data": {
      "image/png": "[encoded data removed]",
      "text/plain": [
       "<Figure size 432x288 with 1 Axes>"
      ]
     },
     "metadata": {
      "needs_background": "light",
      "tags": []
     },
     "output_type": "display_data"
    }
   ],
   "source": [
    "#So, CVC-Borderline is highly imbalanced! -> Therefore, the \"CVC-Borderline\" model will overfit quickly! \n",
    "\n",
    "pd.DataFrame(y_train_added_CVC[:, 1]).value_counts().plot(kind = 'bar') #imbalanced"
   ]
  },
  {
   "cell_type": "markdown",
   "metadata": {
    "id": "ZbxBqJcJpYmB"
   },
   "source": [
    "##### The data:"
   ]
  },
  {
   "cell_type": "code",
   "execution_count": null,
   "metadata": {
    "colab": {
     "base_uri": "https://localhost:8080/"
    },
    "id": "1kQDijppoz3Q",
    "outputId": "3417d63d-329b-4c87-ba0b-b1942d8e33d9"
   },
   "outputs": [
    {
     "name": "stdout",
     "output_type": "stream",
     "text": [
      "(5274, 224, 224, 1)\n",
      "(5274, 3)\n",
      "(137, 224, 224, 1)\n",
      "(137, 3)\n"
     ]
    }
   ],
   "source": [
    "#so far we had:\n",
    "\n",
    "print(x_train_added_CVC.shape) #verified!\n",
    "print(y_train_added_CVC.shape) #verified!\n",
    "print(x_test_CVC.shape)\n",
    "print(y_test_CVC.shape)"
   ]
  },
  {
   "cell_type": "code",
   "execution_count": null,
   "metadata": {
    "id": "0EwrgMWuo0EM"
   },
   "outputs": [],
   "source": [
    "#We only need to change \"y\"s:\n",
    "\n",
    "y_train_added_CVC_borderline = y_train_added_CVC[:, 1]\n",
    "y_test_CVC_borderline = y_test_CVC[:, 1]"
   ]
  },
  {
   "cell_type": "markdown",
   "metadata": {
    "id": "a0nUS5xIpgLm"
   },
   "source": [
    "##### Model:"
   ]
  },
  {
   "cell_type": "code",
   "execution_count": null,
   "metadata": {
    "colab": {
     "base_uri": "https://localhost:8080/"
    },
    "id": "I7bumF70o0X2",
    "outputId": "4385077d-2b54-4ba1-b51a-c0ea73cb4ff2"
   },
   "outputs": [
    {
     "name": "stdout",
     "output_type": "stream",
     "text": [
      "Model: \"sequential_12\"\n",
      "_________________________________________________________________\n",
      "Layer (type)                 Output Shape              Param #   \n",
      "=================================================================\n",
      "conv2d_32 (Conv2D)           (None, 222, 222, 32)      320       \n",
      "_________________________________________________________________\n",
      "max_pooling2d_32 (MaxPooling (None, 111, 111, 32)      0         \n",
      "_________________________________________________________________\n",
      "conv2d_33 (Conv2D)           (None, 109, 109, 64)      18496     \n",
      "_________________________________________________________________\n",
      "max_pooling2d_33 (MaxPooling (None, 54, 54, 64)        0         \n",
      "_________________________________________________________________\n",
      "conv2d_34 (Conv2D)           (None, 52, 52, 64)        36928     \n",
      "_________________________________________________________________\n",
      "max_pooling2d_34 (MaxPooling (None, 26, 26, 64)        0         \n",
      "_________________________________________________________________\n",
      "batch_normalization_21 (Batc (None, 26, 26, 64)        256       \n",
      "_________________________________________________________________\n",
      "flatten_12 (Flatten)         (None, 43264)             0         \n",
      "_________________________________________________________________\n",
      "dense_36 (Dense)             (None, 128)               5537920   \n",
      "_________________________________________________________________\n",
      "dense_37 (Dense)             (None, 128)               16512     \n",
      "_________________________________________________________________\n",
      "dropout_18 (Dropout)         (None, 128)               0         \n",
      "_________________________________________________________________\n",
      "dense_38 (Dense)             (None, 1)                 129       \n",
      "=================================================================\n",
      "Total params: 5,610,561\n",
      "Trainable params: 5,610,433\n",
      "Non-trainable params: 128\n",
      "_________________________________________________________________\n",
      "Train on 5274 samples, validate on 137 samples\n",
      "Epoch 1/1000\n",
      "5274/5274 [==============================] - ETA: 0s - loss: 0.6451 - accuracy: 0.6961"
     ]
    },
    {
     "name": "stderr",
     "output_type": "stream",
     "text": [
      "/usr/local/lib/python3.7/dist-packages/tensorflow/python/keras/engine/training.py:2325: UserWarning: `Model.state_updates` will be removed in a future version. This property should not be used in TensorFlow 2.0, as `updates` are applied automatically.\n",
      "  warnings.warn('`Model.state_updates` will be removed in a future version. '\n"
     ]
    },
    {
     "name": "stdout",
     "output_type": "stream",
     "text": [
      "5274/5274 [==============================] - 6s 1ms/sample - loss: 0.6451 - accuracy: 0.6961 - val_loss: 0.5683 - val_accuracy: 0.7445\n",
      "Epoch 2/1000\n",
      "5274/5274 [==============================] - 5s 900us/sample - loss: 0.6156 - accuracy: 0.7097 - val_loss: 0.5716 - val_accuracy: 0.7445\n"
     ]
    },
    {
     "data": {
      "text/plain": [
       "<tensorflow.python.keras.callbacks.History at 0x7f2b9b0b5890>"
      ]
     },
     "execution_count": 126,
     "metadata": {
      "tags": []
     },
     "output_type": "execute_result"
    }
   ],
   "source": [
    "# build a sequential model\n",
    "\n",
    "model_CVC_borderline = Sequential()\n",
    "# model.add(InputLayer(input_shape = (650, 650, 1), batch_size = 32))\n",
    "\n",
    "# 1st conv block\n",
    "model_CVC_borderline.add(Conv2D(32, (3, 3), activation = 'relu', input_shape = (224, 224, 1))) #padding = 'same'     #or adding \"input_shape\" instead of defining a seperate \"InputLayer\" \n",
    "model_CVC_borderline.add(MaxPool2D(pool_size = (2, 2)))\n",
    "# 2nd conv block\n",
    "model_CVC_borderline.add(Conv2D(64, (3, 3), activation = 'relu'))\n",
    "model_CVC_borderline.add(MaxPool2D(pool_size = (2, 2)))\n",
    "# 3rd conv block\n",
    "model_CVC_borderline.add(Conv2D(64, (3, 3), activation = 'relu'))\n",
    "model_CVC_borderline.add(MaxPool2D(pool_size = (2, 2)))\n",
    "model_CVC_borderline.add(BatchNormalization())\n",
    "# ANN block\n",
    "model_CVC_borderline.add(Flatten())\n",
    "model_CVC_borderline.add(Dense(units = 128, activation = 'relu'))\n",
    "model_CVC_borderline.add(Dense(units = 128, activation = 'relu'))\n",
    "model_CVC_borderline.add(Dropout(0.5))\n",
    "# output layer\n",
    "model_CVC_borderline.add(Dense(units = 1, activation = 'sigmoid'))\n",
    " \n",
    "# compile model\n",
    "model_CVC_borderline.compile(loss = 'binary_crossentropy', optimizer = \"adam\", metrics = ['accuracy']) #categorical_crossentropy\n",
    "\n",
    "model_CVC_borderline.summary()\n",
    "\n",
    "#Early Stopping\n",
    "from tensorflow.keras.callbacks import EarlyStopping\n",
    "early_stop = EarlyStopping(monitor = 'val_loss', patience = 1)\n",
    "\n",
    "\n",
    "# model.fit(x = Xtrain_scaled, y = ytrain, epochs = 1000, batch_size = 32, validation_split = 0.2) #callbacks = [early_stop])\n",
    "model_CVC_borderline.fit(x = x_train_added_CVC, y = y_train_added_CVC_borderline, epochs = 1000, batch_size = 32, validation_data = [x_test_CVC, y_test_CVC_borderline], callbacks = [early_stop]) #callbacks = [early_stop])"
   ]
  },
  {
   "cell_type": "code",
   "execution_count": null,
   "metadata": {
    "colab": {
     "base_uri": "https://localhost:8080/"
    },
    "id": "SawBX74Qoktb",
    "outputId": "62451f70-b3ed-45ec-88c5-4dc45557fe21"
   },
   "outputs": [
    {
     "data": {
      "text/plain": [
       "['loss', 'accuracy']"
      ]
     },
     "execution_count": 127,
     "metadata": {
      "tags": []
     },
     "output_type": "execute_result"
    }
   ],
   "source": [
    "model_CVC_borderline.metrics_names"
   ]
  },
  {
   "cell_type": "code",
   "execution_count": null,
   "metadata": {
    "colab": {
     "base_uri": "https://localhost:8080/",
     "height": 110
    },
    "id": "NuZGxJ-5okxV",
    "outputId": "aa7ed532-44aa-4a50-8151-1b547f0917cc"
   },
   "outputs": [
    {
     "data": {
      "text/html": [
       "<div>\n",
       "<style scoped>\n",
       "    .dataframe tbody tr th:only-of-type {\n",
       "        vertical-align: middle;\n",
       "    }\n",
       "\n",
       "    .dataframe tbody tr th {\n",
       "        vertical-align: top;\n",
       "    }\n",
       "\n",
       "    .dataframe thead th {\n",
       "        text-align: right;\n",
       "    }\n",
       "</style>\n",
       "<table border=\"1\" class=\"dataframe\">\n",
       "  <thead>\n",
       "    <tr style=\"text-align: right;\">\n",
       "      <th></th>\n",
       "      <th>loss</th>\n",
       "      <th>accuracy</th>\n",
       "      <th>val_loss</th>\n",
       "      <th>val_accuracy</th>\n",
       "    </tr>\n",
       "  </thead>\n",
       "  <tbody>\n",
       "    <tr>\n",
       "      <th>0</th>\n",
       "      <td>0.645144</td>\n",
       "      <td>0.696056</td>\n",
       "      <td>0.568281</td>\n",
       "      <td>0.744526</td>\n",
       "    </tr>\n",
       "    <tr>\n",
       "      <th>1</th>\n",
       "      <td>0.615603</td>\n",
       "      <td>0.709708</td>\n",
       "      <td>0.571573</td>\n",
       "      <td>0.744526</td>\n",
       "    </tr>\n",
       "  </tbody>\n",
       "</table>\n",
       "</div>"
      ],
      "text/plain": [
       "       loss  accuracy  val_loss  val_accuracy\n",
       "0  0.645144  0.696056  0.568281      0.744526\n",
       "1  0.615603  0.709708  0.571573      0.744526"
      ]
     },
     "execution_count": 128,
     "metadata": {
      "tags": []
     },
     "output_type": "execute_result"
    }
   ],
   "source": [
    "metrics = pd.DataFrame(model_CVC_borderline.history.history)\n",
    "metrics"
   ]
  },
  {
   "cell_type": "code",
   "execution_count": null,
   "metadata": {
    "colab": {
     "base_uri": "https://localhost:8080/",
     "height": 283
    },
    "id": "OS_0erJ-ppCU",
    "outputId": "07358d0b-04f6-448c-8caa-07a04656d2d2"
   },
   "outputs": [
    {
     "data": {
      "text/plain": [
       "<matplotlib.axes._subplots.AxesSubplot at 0x7f2b9b0542d0>"
      ]
     },
     "execution_count": 129,
     "metadata": {
      "tags": []
     },
     "output_type": "execute_result"
    },
    {
     "data": {
      "image/png": "[encoded data removed]",
      "text/plain": [
       "<Figure size 432x288 with 1 Axes>"
      ]
     },
     "metadata": {
      "needs_background": "light",
      "tags": []
     },
     "output_type": "display_data"
    }
   ],
   "source": [
    "metrics[['loss', 'val_loss']].plot()"
   ]
  },
  {
   "cell_type": "code",
   "execution_count": null,
   "metadata": {
    "colab": {
     "base_uri": "https://localhost:8080/",
     "height": 283
    },
    "id": "Yq6uyTqyppG_",
    "outputId": "181be0d7-d77a-4fb4-cf6f-422e78292c8c"
   },
   "outputs": [
    {
     "data": {
      "text/plain": [
       "<matplotlib.axes._subplots.AxesSubplot at 0x7f2b9afe9b90>"
      ]
     },
     "execution_count": 130,
     "metadata": {
      "tags": []
     },
     "output_type": "execute_result"
    },
    {
     "data": {
      "image/png": "[encoded data removed]",
      "text/plain": [
       "<Figure size 432x288 with 1 Axes>"
      ]
     },
     "metadata": {
      "needs_background": "light",
      "tags": []
     },
     "output_type": "display_data"
    }
   ],
   "source": [
    "metrics[['accuracy', 'val_accuracy']].plot()"
   ]
  },
  {
   "cell_type": "code",
   "execution_count": null,
   "metadata": {
    "colab": {
     "base_uri": "https://localhost:8080/"
    },
    "id": "d3TvcC0MppLd",
    "outputId": "37548b8e-2d6d-471c-9e48-b1fd068eff00"
   },
   "outputs": [
    {
     "name": "stderr",
     "output_type": "stream",
     "text": [
      "/usr/local/lib/python3.7/dist-packages/tensorflow/python/keras/engine/training.py:2325: UserWarning: `Model.state_updates` will be removed in a future version. This property should not be used in TensorFlow 2.0, as `updates` are applied automatically.\n",
      "  warnings.warn('`Model.state_updates` will be removed in a future version. '\n"
     ]
    }
   ],
   "source": [
    "from sklearn.metrics import accuracy_score, confusion_matrix\n",
    "\n",
    "# predictions = model.predict_classes(x_test)\n",
    "# print(classification_report(y_true = y_test, y_pred = predictions))\n",
    "y_pred = model_CVC_borderline.predict(x_test_CVC)\n",
    "# confusion_matrix(y_test, y_pred)\n",
    "# accuracy_score(y_test, y_pred)"
   ]
  },
  {
   "cell_type": "code",
   "execution_count": null,
   "metadata": {
    "colab": {
     "base_uri": "https://localhost:8080/"
    },
    "id": "9R7sRWOGppSx",
    "outputId": "01d8db7b-bbfb-4bfe-f200-ae8dfd7e010c"
   },
   "outputs": [
    {
     "data": {
      "text/plain": [
       "(137, 224, 224, 1)"
      ]
     },
     "execution_count": 132,
     "metadata": {
      "tags": []
     },
     "output_type": "execute_result"
    }
   ],
   "source": [
    "x_test_CVC.shape"
   ]
  },
  {
   "cell_type": "code",
   "execution_count": null,
   "metadata": {
    "colab": {
     "base_uri": "https://localhost:8080/"
    },
    "id": "Le6i3D2Gp1xG",
    "outputId": "2c85d00e-1a3f-49db-c10d-716c77a15d36"
   },
   "outputs": [
    {
     "data": {
      "text/plain": [
       "array([[0]], dtype=int32)"
      ]
     },
     "execution_count": 133,
     "metadata": {
      "tags": []
     },
     "output_type": "execute_result"
    }
   ],
   "source": [
    "img_ex = x_test_CVC[0].reshape(224, 224) #img_ex -> x_test_CVC[0] -> y_test_CVC_borderline[0]\n",
    "y_pred_CVC = model_CVC_borderline.predict(img_ex.reshape(1, 224, 224, 1))\n",
    "y_pred_CVC.astype(np.int32)"
   ]
  },
  {
   "cell_type": "code",
   "execution_count": null,
   "metadata": {
    "colab": {
     "base_uri": "https://localhost:8080/",
     "height": 287
    },
    "id": "_ofWOhUhp10v",
    "outputId": "6af49870-dccc-418b-df27-1079303afb0c"
   },
   "outputs": [
    {
     "data": {
      "text/plain": [
       "<matplotlib.image.AxesImage at 0x7f2b9af86090>"
      ]
     },
     "execution_count": 134,
     "metadata": {
      "tags": []
     },
     "output_type": "execute_result"
    },
    {
     "data": {
      "image/png": "[encoded data removed]",
      "text/plain": [
       "<Figure size 432x288 with 1 Axes>"
      ]
     },
     "metadata": {
      "needs_background": "light",
      "tags": []
     },
     "output_type": "display_data"
    }
   ],
   "source": [
    "plt.imshow(img_ex, cmap=\"gray\")"
   ]
  },
  {
   "cell_type": "code",
   "execution_count": null,
   "metadata": {
    "colab": {
     "base_uri": "https://localhost:8080/"
    },
    "id": "wYS90k5Jp139",
    "outputId": "e8070f8d-3367-4185-bdab-5e67a0d182b4"
   },
   "outputs": [
    {
     "data": {
      "text/plain": [
       "0"
      ]
     },
     "execution_count": 135,
     "metadata": {
      "tags": []
     },
     "output_type": "execute_result"
    }
   ],
   "source": [
    "y_test_CVC_abnormal[0] #Same results!"
   ]
  },
  {
   "cell_type": "markdown",
   "metadata": {
    "id": "Ec8dQeO_p9DG"
   },
   "source": [
    "## Train Model CVC-Normal:"
   ]
  },
  {
   "cell_type": "code",
   "execution_count": null,
   "metadata": {
    "colab": {
     "base_uri": "https://localhost:8080/",
     "height": 305
    },
    "id": "Y6yBqNh71t8t",
    "outputId": "dd732266-f005-4565-9e2a-fcc03a78912e"
   },
   "outputs": [
    {
     "data": {
      "text/plain": [
       "<matplotlib.axes._subplots.AxesSubplot at 0x7f9172195750>"
      ]
     },
     "execution_count": 48,
     "metadata": {
      "tags": []
     },
     "output_type": "execute_result"
    },
    {
     "data": {
      "image/png": "[encoded data removed]",
      "text/plain": [
       "<Figure size 432x288 with 1 Axes>"
      ]
     },
     "metadata": {
      "needs_background": "light",
      "tags": []
     },
     "output_type": "display_data"
    }
   ],
   "source": [
    "#So, CVC-Normal is highly imbalanced! -> Therefore, the \"CVC-Normal\" model will overfit quickly! \n",
    "#But compared to the CVC-Abnormal and CVC-Borderline, this is a bit better since it is less imbalanced.\n",
    "\n",
    "pd.DataFrame(y_train_added_CVC[:, 2]).value_counts().plot(kind = 'bar') #imbalanced"
   ]
  },
  {
   "cell_type": "code",
   "execution_count": null,
   "metadata": {
    "colab": {
     "base_uri": "https://localhost:8080/"
    },
    "id": "Xxrasg8ip170",
    "outputId": "f1d5e668-2d5d-4e40-8f52-a962a112e070"
   },
   "outputs": [
    {
     "name": "stdout",
     "output_type": "stream",
     "text": [
      "(5274, 224, 224, 1)\n",
      "(5274, 3)\n",
      "(137, 224, 224, 1)\n",
      "(137, 3)\n"
     ]
    }
   ],
   "source": [
    "#so far we had:\n",
    "\n",
    "print(x_train_added_CVC.shape) #verified!\n",
    "print(y_train_added_CVC.shape) #verified!\n",
    "print(x_test_CVC.shape)\n",
    "print(y_test_CVC.shape)"
   ]
  },
  {
   "cell_type": "code",
   "execution_count": null,
   "metadata": {
    "id": "7bPA5IqRqETb"
   },
   "outputs": [],
   "source": [
    "#We only need to change \"y\"s:\n",
    "\n",
    "y_train_added_CVC_normal = y_train_added_CVC[:, 2]\n",
    "y_test_CVC_normal = y_test_CVC[:, 2]"
   ]
  },
  {
   "cell_type": "markdown",
   "metadata": {
    "id": "HqZArTzf6rv_"
   },
   "source": [
    "##### Model:"
   ]
  },
  {
   "cell_type": "code",
   "execution_count": null,
   "metadata": {
    "colab": {
     "base_uri": "https://localhost:8080/"
    },
    "id": "PWG2oO-6qGKn",
    "outputId": "38b04254-d186-4fbb-c011-caf054f54366"
   },
   "outputs": [
    {
     "name": "stdout",
     "output_type": "stream",
     "text": [
      "Model: \"sequential_13\"\n",
      "_________________________________________________________________\n",
      "Layer (type)                 Output Shape              Param #   \n",
      "=================================================================\n",
      "conv2d_35 (Conv2D)           (None, 222, 222, 32)      320       \n",
      "_________________________________________________________________\n",
      "max_pooling2d_35 (MaxPooling (None, 111, 111, 32)      0         \n",
      "_________________________________________________________________\n",
      "conv2d_36 (Conv2D)           (None, 109, 109, 64)      18496     \n",
      "_________________________________________________________________\n",
      "max_pooling2d_36 (MaxPooling (None, 54, 54, 64)        0         \n",
      "_________________________________________________________________\n",
      "conv2d_37 (Conv2D)           (None, 52, 52, 64)        36928     \n",
      "_________________________________________________________________\n",
      "max_pooling2d_37 (MaxPooling (None, 26, 26, 64)        0         \n",
      "_________________________________________________________________\n",
      "batch_normalization_22 (Batc (None, 26, 26, 64)        256       \n",
      "_________________________________________________________________\n",
      "flatten_13 (Flatten)         (None, 43264)             0         \n",
      "_________________________________________________________________\n",
      "dense_39 (Dense)             (None, 128)               5537920   \n",
      "_________________________________________________________________\n",
      "dense_40 (Dense)             (None, 128)               16512     \n",
      "_________________________________________________________________\n",
      "dropout_19 (Dropout)         (None, 128)               0         \n",
      "_________________________________________________________________\n",
      "dense_41 (Dense)             (None, 1)                 129       \n",
      "=================================================================\n",
      "Total params: 5,610,561\n",
      "Trainable params: 5,610,433\n",
      "Non-trainable params: 128\n",
      "_________________________________________________________________\n",
      "Train on 5274 samples, validate on 137 samples\n",
      "Epoch 1/1000\n",
      "5274/5274 [==============================] - ETA: 0s - loss: 0.6363 - accuracy: 0.6962"
     ]
    },
    {
     "name": "stderr",
     "output_type": "stream",
     "text": [
      "/usr/local/lib/python3.7/dist-packages/tensorflow/python/keras/engine/training.py:2325: UserWarning: `Model.state_updates` will be removed in a future version. This property should not be used in TensorFlow 2.0, as `updates` are applied automatically.\n",
      "  warnings.warn('`Model.state_updates` will be removed in a future version. '\n"
     ]
    },
    {
     "name": "stdout",
     "output_type": "stream",
     "text": [
      "5274/5274 [==============================] - 6s 1ms/sample - loss: 0.6363 - accuracy: 0.6962 - val_loss: 0.6379 - val_accuracy: 0.6642\n",
      "Epoch 2/1000\n",
      "5274/5274 [==============================] - 5s 865us/sample - loss: 0.6121 - accuracy: 0.7061 - val_loss: 0.6417 - val_accuracy: 0.6642\n"
     ]
    },
    {
     "data": {
      "text/plain": [
       "<tensorflow.python.keras.callbacks.History at 0x7f2b9ae78110>"
      ]
     },
     "execution_count": 139,
     "metadata": {
      "tags": []
     },
     "output_type": "execute_result"
    }
   ],
   "source": [
    "# build a sequential model\n",
    "\n",
    "model_CVC_normal = Sequential()\n",
    "# model.add(InputLayer(input_shape = (650, 650, 1), batch_size = 32))\n",
    "\n",
    "# 1st conv block\n",
    "model_CVC_normal.add(Conv2D(32, (3, 3), activation = 'relu', input_shape = (224, 224, 1))) #padding = 'same'     #or adding \"input_shape\" instead of defining a seperate \"InputLayer\" \n",
    "model_CVC_normal.add(MaxPool2D(pool_size = (2, 2)))\n",
    "# 2nd conv block\n",
    "model_CVC_normal.add(Conv2D(64, (3, 3), activation = 'relu'))\n",
    "model_CVC_normal.add(MaxPool2D(pool_size = (2, 2)))\n",
    "# 3rd conv block\n",
    "model_CVC_normal.add(Conv2D(64, (3, 3), activation = 'relu'))\n",
    "model_CVC_normal.add(MaxPool2D(pool_size = (2, 2)))\n",
    "model_CVC_normal.add(BatchNormalization())\n",
    "# ANN block\n",
    "model_CVC_normal.add(Flatten())\n",
    "model_CVC_normal.add(Dense(units = 128, activation = 'relu'))\n",
    "model_CVC_normal.add(Dense(units = 128, activation = 'relu'))\n",
    "model_CVC_normal.add(Dropout(0.5))\n",
    "# output layer\n",
    "model_CVC_normal.add(Dense(units = 1, activation = 'sigmoid'))\n",
    " \n",
    "# compile model\n",
    "model_CVC_normal.compile(loss = 'binary_crossentropy', optimizer = \"adam\", metrics = ['accuracy']) #categorical_crossentropy\n",
    "\n",
    "model_CVC_normal.summary()\n",
    "\n",
    "#Early Stopping\n",
    "from tensorflow.keras.callbacks import EarlyStopping\n",
    "early_stop = EarlyStopping(monitor = 'val_loss', patience = 1)\n",
    "\n",
    "\n",
    "# model.fit(x = Xtrain_scaled, y = ytrain, epochs = 1000, batch_size = 32, validation_split = 0.2) #callbacks = [early_stop])\n",
    "model_CVC_normal.fit(x = x_train_added_CVC, y = y_train_added_CVC_normal, epochs = 1000, batch_size = 32, validation_data = [x_test_CVC, y_test_CVC_normal], callbacks = [early_stop]) #callbacks = [early_stop])"
   ]
  },
  {
   "cell_type": "code",
   "execution_count": null,
   "metadata": {
    "colab": {
     "base_uri": "https://localhost:8080/"
    },
    "id": "8IAhsA6aqJY2",
    "outputId": "ca305bd7-788b-4120-cb6d-eeb3efcbd91f"
   },
   "outputs": [
    {
     "data": {
      "text/plain": [
       "['loss', 'accuracy']"
      ]
     },
     "execution_count": 140,
     "metadata": {
      "tags": []
     },
     "output_type": "execute_result"
    }
   ],
   "source": [
    "model_CVC_normal.metrics_names"
   ]
  },
  {
   "cell_type": "code",
   "execution_count": null,
   "metadata": {
    "colab": {
     "base_uri": "https://localhost:8080/",
     "height": 110
    },
    "id": "PTFWiUTFqMik",
    "outputId": "bb4056cd-9e30-42c6-8176-cde1304c8de8"
   },
   "outputs": [
    {
     "data": {
      "text/html": [
       "<div>\n",
       "<style scoped>\n",
       "    .dataframe tbody tr th:only-of-type {\n",
       "        vertical-align: middle;\n",
       "    }\n",
       "\n",
       "    .dataframe tbody tr th {\n",
       "        vertical-align: top;\n",
       "    }\n",
       "\n",
       "    .dataframe thead th {\n",
       "        text-align: right;\n",
       "    }\n",
       "</style>\n",
       "<table border=\"1\" class=\"dataframe\">\n",
       "  <thead>\n",
       "    <tr style=\"text-align: right;\">\n",
       "      <th></th>\n",
       "      <th>loss</th>\n",
       "      <th>accuracy</th>\n",
       "      <th>val_loss</th>\n",
       "      <th>val_accuracy</th>\n",
       "    </tr>\n",
       "  </thead>\n",
       "  <tbody>\n",
       "    <tr>\n",
       "      <th>0</th>\n",
       "      <td>0.636288</td>\n",
       "      <td>0.696246</td>\n",
       "      <td>0.637887</td>\n",
       "      <td>0.664234</td>\n",
       "    </tr>\n",
       "    <tr>\n",
       "      <th>1</th>\n",
       "      <td>0.612126</td>\n",
       "      <td>0.706105</td>\n",
       "      <td>0.641691</td>\n",
       "      <td>0.664234</td>\n",
       "    </tr>\n",
       "  </tbody>\n",
       "</table>\n",
       "</div>"
      ],
      "text/plain": [
       "       loss  accuracy  val_loss  val_accuracy\n",
       "0  0.636288  0.696246  0.637887      0.664234\n",
       "1  0.612126  0.706105  0.641691      0.664234"
      ]
     },
     "execution_count": 141,
     "metadata": {
      "tags": []
     },
     "output_type": "execute_result"
    }
   ],
   "source": [
    "metrics = pd.DataFrame(model_CVC_normal.history.history)\n",
    "metrics"
   ]
  },
  {
   "cell_type": "code",
   "execution_count": null,
   "metadata": {
    "colab": {
     "base_uri": "https://localhost:8080/",
     "height": 283
    },
    "id": "A0K4OnOTqMnI",
    "outputId": "38003a3b-ab4a-40fc-f4eb-b01fbf67f2a8"
   },
   "outputs": [
    {
     "data": {
      "text/plain": [
       "<matplotlib.axes._subplots.AxesSubplot at 0x7f2b9af0f210>"
      ]
     },
     "execution_count": 142,
     "metadata": {
      "tags": []
     },
     "output_type": "execute_result"
    },
    {
     "data": {
      "image/png": "[encoded data removed]",
      "text/plain": [
       "<Figure size 432x288 with 1 Axes>"
      ]
     },
     "metadata": {
      "needs_background": "light",
      "tags": []
     },
     "output_type": "display_data"
    }
   ],
   "source": [
    "metrics[['loss', 'val_loss']].plot()"
   ]
  },
  {
   "cell_type": "code",
   "execution_count": null,
   "metadata": {
    "colab": {
     "base_uri": "https://localhost:8080/",
     "height": 283
    },
    "id": "GpKcxdZsqMq4",
    "outputId": "0f9b027e-ca96-4f7c-f815-4f30ade10bc4"
   },
   "outputs": [
    {
     "data": {
      "text/plain": [
       "<matplotlib.axes._subplots.AxesSubplot at 0x7f2b9ac91dd0>"
      ]
     },
     "execution_count": 143,
     "metadata": {
      "tags": []
     },
     "output_type": "execute_result"
    },
    {
     "data": {
      "image/png": "[encoded data removed]",
      "text/plain": [
       "<Figure size 432x288 with 1 Axes>"
      ]
     },
     "metadata": {
      "needs_background": "light",
      "tags": []
     },
     "output_type": "display_data"
    }
   ],
   "source": [
    "metrics[['accuracy', 'val_accuracy']].plot()"
   ]
  },
  {
   "cell_type": "code",
   "execution_count": null,
   "metadata": {
    "colab": {
     "base_uri": "https://localhost:8080/"
    },
    "id": "-lItRyaXqMvk",
    "outputId": "0c028fa2-4270-4dd9-b960-9b06de769cd4"
   },
   "outputs": [
    {
     "name": "stderr",
     "output_type": "stream",
     "text": [
      "/usr/local/lib/python3.7/dist-packages/tensorflow/python/keras/engine/training.py:2325: UserWarning: `Model.state_updates` will be removed in a future version. This property should not be used in TensorFlow 2.0, as `updates` are applied automatically.\n",
      "  warnings.warn('`Model.state_updates` will be removed in a future version. '\n"
     ]
    }
   ],
   "source": [
    "from sklearn.metrics import accuracy_score, confusion_matrix\n",
    "\n",
    "# predictions = model.predict_classes(x_test)\n",
    "# print(classification_report(y_true = y_test, y_pred = predictions))\n",
    "y_pred = model_CVC_normal.predict(x_test_CVC)\n",
    "# confusion_matrix(y_test, y_pred)\n",
    "# accuracy_score(y_test, y_pred)"
   ]
  },
  {
   "cell_type": "code",
   "execution_count": null,
   "metadata": {
    "colab": {
     "base_uri": "https://localhost:8080/"
    },
    "id": "geQMjgtoqWdD",
    "outputId": "48a17c43-e5d7-4399-8db5-2a165b052e70"
   },
   "outputs": [
    {
     "data": {
      "text/plain": [
       "array([[0]], dtype=int32)"
      ]
     },
     "execution_count": 145,
     "metadata": {
      "tags": []
     },
     "output_type": "execute_result"
    }
   ],
   "source": [
    "img_ex = x_test_CVC[0].reshape(224, 224) #img_ex -> x_test_CVC[0] -> y_test_CVC_normal[0]\n",
    "y_pred_CVC = model_CVC_borderline.predict(img_ex.reshape(1, 224, 224, 1))\n",
    "y_pred_CVC.astype(np.int32)"
   ]
  },
  {
   "cell_type": "code",
   "execution_count": null,
   "metadata": {
    "colab": {
     "base_uri": "https://localhost:8080/",
     "height": 287
    },
    "id": "TFXMPO2IqWgP",
    "outputId": "624b391c-6809-41fa-8bca-9e74e0114f09"
   },
   "outputs": [
    {
     "data": {
      "text/plain": [
       "<matplotlib.image.AxesImage at 0x7f2b9abc2610>"
      ]
     },
     "execution_count": 146,
     "metadata": {
      "tags": []
     },
     "output_type": "execute_result"
    },
    {
     "data": {
      "image/png": "[encoded data removed]",
      "text/plain": [
       "<Figure size 432x288 with 1 Axes>"
      ]
     },
     "metadata": {
      "needs_background": "light",
      "tags": []
     },
     "output_type": "display_data"
    }
   ],
   "source": [
    "plt.imshow(img_ex, cmap=\"gray\")"
   ]
  },
  {
   "cell_type": "code",
   "execution_count": null,
   "metadata": {
    "colab": {
     "base_uri": "https://localhost:8080/"
    },
    "id": "X7TQq6d2qWk8",
    "outputId": "6e4ac23a-5b01-4e69-99e9-d6c0068f0283"
   },
   "outputs": [
    {
     "data": {
      "text/plain": [
       "0"
      ]
     },
     "execution_count": 147,
     "metadata": {
      "tags": []
     },
     "output_type": "execute_result"
    }
   ],
   "source": [
    "y_test_CVC_abnormal[0] #Same results!"
   ]
  },
  {
   "cell_type": "markdown",
   "metadata": {
    "id": "q9yymvMjqhLi"
   },
   "source": [
    "## Results of the Three CVC Models:"
   ]
  },
  {
   "cell_type": "code",
   "execution_count": null,
   "metadata": {
    "id": "8NQLz5rcqWok"
   },
   "outputs": [],
   "source": [
    "#The model performance has significantly increased after using binary classification for each CVC label."
   ]
  },
  {
   "cell_type": "markdown",
   "metadata": {
    "id": "qmkVVj1wqrjQ"
   },
   "source": [
    "## Hyper-parameter Tunning:"
   ]
  },
  {
   "cell_type": "markdown",
   "metadata": {
    "id": "UvPVRaxXqybP"
   },
   "source": [
    "### 1. Typical Hyper Parameter Tunning:\n",
    "##### Learn more about at: <a href=\"https://towardsdatascience.com/simple-guide-to-hyperparameter-tuning-in-neural-networks-3fe03dad8594\" target=\"_blank\">Link</a>"
   ]
  },
  {
   "cell_type": "code",
   "execution_count": null,
   "metadata": {
    "colab": {
     "base_uri": "https://localhost:8080/"
    },
    "id": "WRto4M48qWtK",
    "outputId": "c0892f72-10d6-42e6-a0dd-7717afa99eca"
   },
   "outputs": [
    {
     "name": "stdout",
     "output_type": "stream",
     "text": [
      "Train on 5274 samples, validate on 137 samples\n",
      "Epoch 1/1000\n",
      "5274/5274 [==============================] - ETA: 0s - loss: 116.6602 - accuracy: 0.6985"
     ]
    },
    {
     "name": "stderr",
     "output_type": "stream",
     "text": [
      "/usr/local/lib/python3.7/dist-packages/tensorflow/python/keras/engine/training.py:2325: UserWarning: `Model.state_updates` will be removed in a future version. This property should not be used in TensorFlow 2.0, as `updates` are applied automatically.\n",
      "  warnings.warn('`Model.state_updates` will be removed in a future version. '\n"
     ]
    },
    {
     "name": "stdout",
     "output_type": "stream",
     "text": [
      "5274/5274 [==============================] - 6s 1ms/sample - loss: 116.6602 - accuracy: 0.6985 - val_loss: 0.6449 - val_accuracy: 0.6642\n",
      "Epoch 2/1000\n",
      "5274/5274 [==============================] - 5s 871us/sample - loss: 0.6068 - accuracy: 0.7065 - val_loss: 0.6442 - val_accuracy: 0.6642\n",
      "Epoch 3/1000\n",
      "5274/5274 [==============================] - 5s 866us/sample - loss: 0.6069 - accuracy: 0.7065 - val_loss: 0.6394 - val_accuracy: 0.6642\n",
      "Epoch 4/1000\n",
      "5274/5274 [==============================] - 5s 874us/sample - loss: 0.6065 - accuracy: 0.7065 - val_loss: 0.6525 - val_accuracy: 0.6642\n",
      "Train on 5274 samples, validate on 137 samples\n",
      "Epoch 1/1000\n",
      "5274/5274 [==============================] - 6s 1ms/sample - loss: 1.6366 - accuracy: 0.6530 - val_loss: 0.8537 - val_accuracy: 0.6277\n",
      "Epoch 2/1000\n",
      "5274/5274 [==============================] - 5s 868us/sample - loss: 0.6153 - accuracy: 0.7061 - val_loss: 0.6385 - val_accuracy: 0.6642\n",
      "Epoch 3/1000\n",
      "5274/5274 [==============================] - 5s 879us/sample - loss: 0.6152 - accuracy: 0.7050 - val_loss: 0.6421 - val_accuracy: 0.6642\n",
      "Train on 5274 samples, validate on 137 samples\n",
      "Epoch 1/1000\n",
      "5274/5274 [==============================] - 6s 1ms/sample - loss: 0.6394 - accuracy: 0.6936 - val_loss: 0.6385 - val_accuracy: 0.6642\n",
      "Epoch 2/1000\n",
      "5274/5274 [==============================] - 5s 874us/sample - loss: 0.6143 - accuracy: 0.7063 - val_loss: 0.6387 - val_accuracy: 0.6642\n",
      "Train on 5274 samples, validate on 137 samples\n",
      "Epoch 1/1000\n",
      "5274/5274 [==============================] - 6s 1ms/sample - loss: 0.6251 - accuracy: 0.6945 - val_loss: 0.6393 - val_accuracy: 0.6642\n",
      "Epoch 2/1000\n",
      "5274/5274 [==============================] - 5s 859us/sample - loss: 0.6062 - accuracy: 0.7065 - val_loss: 0.6380 - val_accuracy: 0.6642\n",
      "Epoch 3/1000\n",
      "5274/5274 [==============================] - 5s 861us/sample - loss: 0.6047 - accuracy: 0.7065 - val_loss: 0.6488 - val_accuracy: 0.6642\n",
      "Train on 5274 samples, validate on 137 samples\n",
      "Epoch 1/1000\n",
      "5274/5274 [==============================] - 6s 1ms/sample - loss: 0.6307 - accuracy: 0.6871 - val_loss: 0.6733 - val_accuracy: 0.6642\n",
      "Epoch 2/1000\n",
      "5274/5274 [==============================] - 5s 861us/sample - loss: 0.6152 - accuracy: 0.7055 - val_loss: 0.6575 - val_accuracy: 0.6642\n",
      "Epoch 3/1000\n",
      "5274/5274 [==============================] - 5s 864us/sample - loss: 0.6086 - accuracy: 0.7063 - val_loss: 0.6512 - val_accuracy: 0.6642\n",
      "Epoch 4/1000\n",
      "5274/5274 [==============================] - 5s 866us/sample - loss: 0.6046 - accuracy: 0.7061 - val_loss: 0.6439 - val_accuracy: 0.6642\n",
      "Epoch 5/1000\n",
      "5274/5274 [==============================] - 5s 869us/sample - loss: 0.5951 - accuracy: 0.7061 - val_loss: 0.6923 - val_accuracy: 0.6642\n",
      "Train on 5274 samples, validate on 137 samples\n",
      "Epoch 1/1000\n",
      "5274/5274 [==============================] - 6s 1ms/sample - loss: 0.6226 - accuracy: 0.7029 - val_loss: 0.6825 - val_accuracy: 0.6642\n",
      "Epoch 2/1000\n",
      "5274/5274 [==============================] - 5s 858us/sample - loss: 0.6141 - accuracy: 0.7061 - val_loss: 0.6723 - val_accuracy: 0.6642\n",
      "Epoch 3/1000\n",
      "5274/5274 [==============================] - 5s 864us/sample - loss: 0.6078 - accuracy: 0.7065 - val_loss: 0.6550 - val_accuracy: 0.6642\n",
      "Epoch 4/1000\n",
      "5274/5274 [==============================] - 5s 865us/sample - loss: 0.6025 - accuracy: 0.7055 - val_loss: 0.6382 - val_accuracy: 0.6642\n",
      "Epoch 5/1000\n",
      "5274/5274 [==============================] - 5s 862us/sample - loss: 0.6019 - accuracy: 0.7065 - val_loss: 0.6450 - val_accuracy: 0.6642\n",
      "Train on 5274 samples, validate on 137 samples\n",
      "Epoch 1/1000\n",
      "5274/5274 [==============================] - 6s 1ms/sample - loss: 382.0622 - accuracy: 0.6964 - val_loss: 1093.5144 - val_accuracy: 0.4234\n",
      "Epoch 2/1000\n",
      "5274/5274 [==============================] - 5s 905us/sample - loss: 26.8946 - accuracy: 0.7052 - val_loss: 0.6409 - val_accuracy: 0.6642\n",
      "Epoch 3/1000\n",
      "5274/5274 [==============================] - 5s 910us/sample - loss: 0.6070 - accuracy: 0.7065 - val_loss: 0.6382 - val_accuracy: 0.6642\n",
      "Epoch 4/1000\n",
      "5274/5274 [==============================] - 5s 898us/sample - loss: 0.6077 - accuracy: 0.7065 - val_loss: 0.6504 - val_accuracy: 0.6642\n",
      "Train on 5274 samples, validate on 137 samples\n",
      "Epoch 1/1000\n",
      "5274/5274 [==============================] - 6s 1ms/sample - loss: 7.5952 - accuracy: 0.6695 - val_loss: 3.0783 - val_accuracy: 0.3431\n",
      "Epoch 2/1000\n",
      "5274/5274 [==============================] - 5s 915us/sample - loss: 0.6829 - accuracy: 0.7035 - val_loss: 2.8336 - val_accuracy: 0.5182\n",
      "Epoch 3/1000\n",
      "5274/5274 [==============================] - 5s 919us/sample - loss: 0.6862 - accuracy: 0.7017 - val_loss: 0.6639 - val_accuracy: 0.6569\n",
      "Epoch 4/1000\n",
      "5274/5274 [==============================] - 5s 914us/sample - loss: 0.6466 - accuracy: 0.7019 - val_loss: 1.4295 - val_accuracy: 0.3577\n",
      "Train on 5274 samples, validate on 137 samples\n",
      "Epoch 1/1000\n",
      "5274/5274 [==============================] - 6s 1ms/sample - loss: 0.7268 - accuracy: 0.6856 - val_loss: 0.6533 - val_accuracy: 0.6642\n",
      "Epoch 2/1000\n",
      "5274/5274 [==============================] - 5s 912us/sample - loss: 0.6279 - accuracy: 0.7050 - val_loss: 0.6792 - val_accuracy: 0.6642\n"
     ]
    }
   ],
   "source": [
    "#Hyper parameter Tunning is applied on the CVC-normal model:\n",
    "from tensorflow.keras.callbacks import EarlyStopping\n",
    "from tensorflow.keras.optimizers import Adam, SGD, RMSprop\n",
    "\n",
    "result_metrics = []\n",
    "results_dic = []\n",
    "\n",
    "opt_lst = [Adam, SGD, RMSprop]\n",
    "lr_lst = [0.1, 0.01, 0.001]\n",
    "\n",
    "\n",
    "for opt in opt_lst:\n",
    "    for learning_rate in lr_lst:                \n",
    "        model_CVC_normal = Sequential()\n",
    "        model_CVC_normal.add(Conv2D(32, (3, 3), activation = 'relu', input_shape = (224, 224, 1))) #padding = 'same'     #or adding \"input_shape\" instead of defining a seperate \"InputLayer\" \n",
    "        model_CVC_normal.add(MaxPool2D(pool_size = (2, 2)))\n",
    "        model_CVC_normal.add(Conv2D(64, (3, 3), activation = 'relu'))\n",
    "        model_CVC_normal.add(MaxPool2D(pool_size = (2, 2)))\n",
    "        model_CVC_normal.add(Conv2D(64, (3, 3), activation = 'relu'))\n",
    "        model_CVC_normal.add(MaxPool2D(pool_size = (2, 2)))\n",
    "        model_CVC_normal.add(BatchNormalization())\n",
    "        model_CVC_normal.add(Flatten())\n",
    "        model_CVC_normal.add(Dense(units = 128, activation = 'relu'))\n",
    "        model_CVC_normal.add(Dense(units = 128, activation = 'relu'))\n",
    "        model_CVC_normal.add(Dropout(0.5))\n",
    "        model_CVC_normal.add(Dense(units = 1, activation = 'sigmoid'))\n",
    "        \n",
    "        optimizer = opt(lr = learning_rate)\n",
    "        model_CVC_normal.compile(loss = 'binary_crossentropy', optimizer = optimizer, metrics = ['accuracy'])\n",
    "        \n",
    "        early_stop = EarlyStopping(monitor = 'val_loss', patience = 1)\n",
    "\n",
    "        model_CVC_normal.fit(x = x_train_added_CVC, y = y_train_added_CVC_normal, epochs = 1000, batch_size = 32, validation_data = [x_test_CVC, y_test_CVC_normal], callbacks = [early_stop])\n",
    "\n",
    "        metrics = pd.DataFrame(model_CVC_normal.history.history)\n",
    "        result_metrics.append(metrics)\n",
    "        \n",
    "        dic = dict({'optimizer':opt, 'learninng rate':learning_rate, 'accuracy':metrics['accuracy'].iloc[-2], 'validation accuracy':metrics['val_accuracy'].iloc[-2], 'loss':metrics['loss'].iloc[-2], 'validation loss':metrics['val_loss'].iloc[-2], 'metrics':metrics})\n",
    "        results_dic.append(dic)"
   ]
  },
  {
   "cell_type": "code",
   "execution_count": null,
   "metadata": {
    "colab": {
     "base_uri": "https://localhost:8080/"
    },
    "id": "VcfVAcdvqMyy",
    "outputId": "6a20f324-3894-4080-d91b-39f3b1e04be2"
   },
   "outputs": [
    {
     "name": "stdout",
     "output_type": "stream",
     "text": [
      "The maximum training accuracy occurs in the model with optimizer (<class 'tensorflow.python.keras.optimizer_v2.adam.Adam'>), learning rate 0.1, and equals: 0.7064846158027649 \n",
      "also the test accuracy for that would be 0.6642335653305054\n",
      "The maximum test accuracy occurs in the model with optimizer (<class 'tensorflow.python.keras.optimizer_v2.adam.Adam'>), learning rate 0.1, and equals: 0.6642335653305054 \n",
      "also the train accuracy for that would be 0.7064846158027649\n"
     ]
    }
   ],
   "source": [
    "max_acc_train = 0\n",
    "itr_tarin = 0\n",
    "max_acc_valid = 0\n",
    "itr_valid = 0\n",
    "\n",
    "for i in range(0, len(results_dic)):    \n",
    "    #finding the max training accuracy:\n",
    "    if results_dic[i]['accuracy'] > max_acc_train:\n",
    "        max_acc_train = results_dic[i]['accuracy']\n",
    "        itr_tarin = i\n",
    "    #finding the max validation accuracy:\n",
    "    if results_dic[i]['validation accuracy'] > max_acc_valid:\n",
    "        max_acc_valid = results_dic[i]['validation accuracy'] \n",
    "        itr_valid = i\n",
    "\n",
    "print('The maximum training accuracy occurs in the model with optimizer ({0}), learning rate {1}, and equals: {2} ' .format(results_dic[itr_tarin]['optimizer'], results_dic[itr_tarin]['learninng rate'], max_acc_train))\n",
    "print('also the test accuracy for that would be {0}' .format(results_dic[itr_tarin]['validation accuracy']))\n",
    "\n",
    "print('The maximum test accuracy occurs in the model with optimizer ({0}), learning rate {1}, and equals: {2} ' .format(results_dic[itr_valid]['optimizer'], results_dic[itr_valid]['learninng rate'], max_acc_valid))\n",
    "print('also the train accuracy for that would be {0}' .format(results_dic[itr_valid]['accuracy']))"
   ]
  },
  {
   "cell_type": "markdown",
   "metadata": {
    "id": "UXZ72DFc27xf"
   },
   "source": [
    "##### Results:"
   ]
  },
  {
   "cell_type": "code",
   "execution_count": null,
   "metadata": {
    "id": "NYrhmMzs230P"
   },
   "outputs": [],
   "source": [
    "#So in CVC-Normal:\n",
    "#1. The max training accuracy occurs in model with \"Adam\" optimizer and learning_rate \"0.1\", and train_accuracy = 70.65% (also the test_accuracy = 66.42%)\n",
    "#2.The max test accuracy occurs in model with \"Adam\" optimizer and learning rate \"0.1\", and test_accuracy = 66.42% (also the train_accuracy = 70.65%)\n",
    "\n",
    "\n",
    "#All in all, both of the above have quite a similar performance.\n",
    "#Therefore, the best model has \"Adam\" optimizer and \"0.1\" learning rate.\n",
    "#(The above results are for the 5411-image dataset. But the results were slightly different for the 500-image dataset.)\n",
    "#(For the 500-image dataset, the best model performance was achieved with \"Adam\" optimizer and \"0.001\" learning rate.) "
   ]
  },
  {
   "cell_type": "markdown",
   "metadata": {
    "id": "4pd2j9xj3Xqo"
   },
   "source": [
    "### 2. K-Fold Cross Validation on the best model found for CVC-Normal in part 1:"
   ]
  },
  {
   "cell_type": "code",
   "execution_count": null,
   "metadata": {
    "id": "9aXlAC3_234b"
   },
   "outputs": [],
   "source": [
    "# using the best model found in the previous part:\n",
    "def create_model():\n",
    "    model_CVC_normal = Sequential()\n",
    "    model_CVC_normal.add(Conv2D(32, (3, 3), activation = 'relu', input_shape = (224, 224, 1))) #padding = 'same'     #or adding \"input_shape\" instead of defining a seperate \"InputLayer\" \n",
    "    model_CVC_normal.add(MaxPool2D(pool_size = (2, 2)))\n",
    "    model_CVC_normal.add(Conv2D(64, (3, 3), activation = 'relu'))\n",
    "    model_CVC_normal.add(MaxPool2D(pool_size = (2, 2)))\n",
    "    model_CVC_normal.add(Conv2D(64, (3, 3), activation = 'relu'))\n",
    "    model_CVC_normal.add(MaxPool2D(pool_size = (2, 2)))\n",
    "    model_CVC_normal.add(BatchNormalization())\n",
    "    model_CVC_normal.add(Flatten())\n",
    "    model_CVC_normal.add(Dense(units = 128, activation = 'relu'))\n",
    "    model_CVC_normal.add(Dense(units = 128, activation = 'relu'))\n",
    "    model_CVC_normal.add(Dropout(0.5))\n",
    "    model_CVC_normal.add(Dense(units = 1, activation = 'sigmoid'))\n",
    "        \n",
    "    optimizer = Adam(lr = 0.1)\n",
    "    model_CVC_normal.compile(loss = 'binary_crossentropy', optimizer = optimizer, metrics = ['accuracy'])\n",
    "        \n",
    "    return model_CVC_normal"
   ]
  },
  {
   "cell_type": "code",
   "execution_count": null,
   "metadata": {
    "id": "ayBJqxRR238d"
   },
   "outputs": [],
   "source": [
    "from tensorflow.keras.wrappers.scikit_learn import KerasClassifier\n",
    "neural_network = KerasClassifier(build_fn=create_model, \n",
    "                                 epochs=2, \n",
    "                                 batch_size=32, \n",
    "                                 verbose=0)"
   ]
  },
  {
   "cell_type": "code",
   "execution_count": null,
   "metadata": {
    "colab": {
     "base_uri": "https://localhost:8080/"
    },
    "id": "7RSyPHuD3iaf",
    "outputId": "f4f994b1-16c4-4e60-97a1-400671680728"
   },
   "outputs": [
    {
     "name": "stderr",
     "output_type": "stream",
     "text": [
      "/usr/local/lib/python3.7/dist-packages/tensorflow/python/keras/engine/training.py:2325: UserWarning: `Model.state_updates` will be removed in a future version. This property should not be used in TensorFlow 2.0, as `updates` are applied automatically.\n",
      "  warnings.warn('`Model.state_updates` will be removed in a future version. '\n"
     ]
    },
    {
     "name": "stdout",
     "output_type": "stream",
     "text": [
      "Accuracy: 70.65 %\n",
      "Standard Deviation: 2.06 %\n"
     ]
    }
   ],
   "source": [
    "from sklearn.model_selection import cross_val_score\n",
    "\n",
    "accuracies = cross_val_score(estimator = neural_network, X = x_train_added_CVC, y = y_train_added_CVC_normal, cv = 10)\n",
    "\n",
    "print(\"Accuracy: {:.2f} %\".format(accuracies.mean()*100))\n",
    "print(\"Standard Deviation: {:.2f} %\".format(accuracies.std()*100))"
   ]
  },
  {
   "cell_type": "markdown",
   "metadata": {
    "id": "i6T4RiJf40ld"
   },
   "source": [
    "##### Results:"
   ]
  },
  {
   "cell_type": "code",
   "execution_count": null,
   "metadata": {
    "id": "zwpjZX-L3ieh"
   },
   "outputs": [],
   "source": [
    "#Using K-Fold Cross Validation technique, the average accuacry over 10 folds is: 70.65%\n",
    "#And the standard deviation of the accuracies is: 2.06%\n",
    "#(Clearly, the results for the 5411-image dataset are better than those of the 500-image dataset!!)"
   ]
  },
  {
   "cell_type": "markdown",
   "metadata": {
    "id": "_vxikAxy5pcr"
   },
   "source": [
    "### 3. Grid Search for batch sizes on the best model found for CVC-Normal in part 1: \n",
    "##### Learn more about at: <a href=\"https://machinelearningmastery.com/grid-search-hyperparameters-deep-learning-models-python-keras/\" target=\"_blank\">Link</a>"
   ]
  },
  {
   "cell_type": "code",
   "execution_count": null,
   "metadata": {
    "id": "KPj3C2qj3iiO"
   },
   "outputs": [],
   "source": [
    "# using the best model found in the previous part:\n",
    "def create_model():\n",
    "    model_CVC_normal = Sequential()\n",
    "    model_CVC_normal.add(Conv2D(32, (3, 3), activation = 'relu', input_shape = (224, 224, 1))) #padding = 'same'     #or adding \"input_shape\" instead of defining a seperate \"InputLayer\" \n",
    "    model_CVC_normal.add(MaxPool2D(pool_size = (2, 2)))\n",
    "    model_CVC_normal.add(Conv2D(64, (3, 3), activation = 'relu'))\n",
    "    model_CVC_normal.add(MaxPool2D(pool_size = (2, 2)))\n",
    "    model_CVC_normal.add(Conv2D(64, (3, 3), activation = 'relu'))\n",
    "    model_CVC_normal.add(MaxPool2D(pool_size = (2, 2)))\n",
    "    model_CVC_normal.add(BatchNormalization())\n",
    "    model_CVC_normal.add(Flatten())\n",
    "    model_CVC_normal.add(Dense(units = 128, activation = 'relu'))\n",
    "    model_CVC_normal.add(Dense(units = 128, activation = 'relu'))\n",
    "    model_CVC_normal.add(Dropout(0.5))\n",
    "    model_CVC_normal.add(Dense(units = 1, activation = 'sigmoid'))\n",
    "        \n",
    "    optimizer = Adam(lr = 0.1)\n",
    "    model_CVC_normal.compile(loss = 'binary_crossentropy', optimizer = optimizer, metrics = ['accuracy'])\n",
    "        \n",
    "    return model_CVC_normal"
   ]
  },
  {
   "cell_type": "code",
   "execution_count": null,
   "metadata": {
    "id": "RhfFEYk93imK"
   },
   "outputs": [],
   "source": [
    "from tensorflow.keras.wrappers.scikit_learn import KerasClassifier\n",
    "neural_network = KerasClassifier(build_fn=create_model,\n",
    "                                 verbose=0)"
   ]
  },
  {
   "cell_type": "code",
   "execution_count": null,
   "metadata": {
    "id": "MgeSNpXy3i8p"
   },
   "outputs": [],
   "source": [
    "batch_size = [10, 32, 100]\n",
    "epochs = [2, 5, 10]"
   ]
  },
  {
   "cell_type": "code",
   "execution_count": null,
   "metadata": {
    "colab": {
     "base_uri": "https://localhost:8080/"
    },
    "id": "yVJpbQP224Ba",
    "outputId": "d08d2c3a-65fb-439b-a3cd-eaa21a93b71b"
   },
   "outputs": [
    {
     "name": "stderr",
     "output_type": "stream",
     "text": [
      "/usr/local/lib/python3.7/dist-packages/tensorflow/python/keras/engine/training.py:2325: UserWarning: `Model.state_updates` will be removed in a future version. This property should not be used in TensorFlow 2.0, as `updates` are applied automatically.\n",
      "  warnings.warn('`Model.state_updates` will be removed in a future version. '\n"
     ]
    },
    {
     "name": "stdout",
     "output_type": "stream",
     "text": [
      "Accuracy: 70.65 %\n",
      "Standard Deviation: 2.06 %\n"
     ]
    }
   ],
   "source": [
    "from sklearn.model_selection import cross_val_score\n",
    "\n",
    "accuracies = cross_val_score(estimator = neural_network, X = x_train_added_CVC, y = y_train_added_CVC_normal, cv = 10)\n",
    "\n",
    "print(\"Accuracy: {:.2f} %\".format(accuracies.mean()*100))\n",
    "print(\"Standard Deviation: {:.2f} %\".format(accuracies.std()*100))"
   ]
  },
  {
   "cell_type": "markdown",
   "metadata": {
    "id": "8l2dLZnE6AiC"
   },
   "source": [
    "##### Results:"
   ]
  },
  {
   "cell_type": "code",
   "execution_count": null,
   "metadata": {
    "id": "HvRtKy2u58Q5"
   },
   "outputs": [],
   "source": [
    "#Using the Grid Search technique, the best accuracy is: 70.65%\n",
    "#Which is achieved through: 2.06%\n",
    "#(Same results as the previos ones, so the number of epochs or batch size doesn't make a stark difference in the \"CVC-Normal\" performance.)"
   ]
  },
  {
   "cell_type": "code",
   "execution_count": null,
   "metadata": {
    "id": "zkLPEPcP9TG_"
   },
   "outputs": [],
   "source": []
  }
 ],
 "metadata": {
  "accelerator": "GPU",
  "colab": {
   "collapsed_sections": [],
   "name": "Catheter_CNN.ipynb",
   "provenance": [],
   "toc_visible": true
  },
  "kernelspec": {
   "display_name": "Python 3",
   "language": "python",
   "name": "python3"
  },
  "language_info": {
   "codemirror_mode": {
    "name": "ipython",
    "version": 3
   },
   "file_extension": ".py",
   "mimetype": "text/x-python",
   "name": "python",
   "nbconvert_exporter": "python",
   "pygments_lexer": "ipython3",
   "version": "3.7.7"
  }
 },
 "nbformat": 4,
 "nbformat_minor": 1
}
