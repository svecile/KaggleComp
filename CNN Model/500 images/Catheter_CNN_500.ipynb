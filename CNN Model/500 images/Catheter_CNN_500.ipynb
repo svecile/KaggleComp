{
  "nbformat": 4,
  "nbformat_minor": 0,
  "metadata": {
    "kernelspec": {
      "display_name": "Python 3",
      "language": "python",
      "name": "python3"
    },
    "language_info": {
      "codemirror_mode": {
        "name": "ipython",
        "version": 3
      },
      "file_extension": ".py",
      "mimetype": "text/x-python",
      "name": "python",
      "nbconvert_exporter": "python",
      "pygments_lexer": "ipython3",
      "version": "3.7.7"
    },
    "colab": {
      "name": "Catheter_CNN.ipynb",
      "provenance": [],
      "collapsed_sections": [],
      "toc_visible": true
    },
    "accelerator": "GPU"
  },
  "cells": [
    {
      "cell_type": "markdown",
      "metadata": {
        "id": "l_ZPt3wHYkys"
      },
      "source": [
        "## Importing the Libraries:"
      ]
    },
    {
      "cell_type": "code",
      "metadata": {
        "id": "MxFLHwuxYky1"
      },
      "source": [
        "import os\n",
        "from keras.models import Sequential\n",
        "from keras.layers import Conv2D, MaxPool2D, Flatten, Dense, InputLayer, BatchNormalization, Dropout\n",
        "import tensorflow as tf\n",
        "import pandas as pd\n",
        "import numpy as np\n",
        "import cv2\n",
        "from matplotlib import pyplot as plt\n",
        "from sklearn.preprocessing import LabelEncoder\n",
        "from sklearn.model_selection import train_test_split\n",
        "import random\n",
        "import pickle\n",
        "from tensorflow.python.framework.ops import disable_eager_execution\n",
        "disable_eager_execution()\n",
        "os.environ['TF_XLA_FLAGS'] = '--tf_xla_enable_xla_devices'\n",
        "from tqdm import tqdm\n",
        "from tensorflow.keras import mixed_precision"
      ],
      "execution_count": 1,
      "outputs": []
    },
    {
      "cell_type": "code",
      "metadata": {
        "colab": {
          "base_uri": "https://localhost:8080/",
          "height": 35
        },
        "id": "RY9vnA6TZG_L",
        "outputId": "aa0af4d9-3e79-41fb-a495-8a2fa8c1b183"
      },
      "source": [
        "import tensorflow as tf\n",
        "tf.test.gpu_device_name()"
      ],
      "execution_count": 2,
      "outputs": [
        {
          "output_type": "execute_result",
          "data": {
            "application/vnd.google.colaboratory.intrinsic+json": {
              "type": "string"
            },
            "text/plain": [
              "'/device:GPU:0'"
            ]
          },
          "metadata": {
            "tags": []
          },
          "execution_count": 2
        }
      ]
    },
    {
      "cell_type": "markdown",
      "metadata": {
        "id": "NCNAgLWYYky3"
      },
      "source": [
        "## Data Analysis:"
      ]
    },
    {
      "cell_type": "code",
      "metadata": {
        "colab": {
          "base_uri": "https://localhost:8080/"
        },
        "id": "-Iwny_4OY-cT",
        "outputId": "fd07d152-6fbb-40ea-9207-084bd7907f6d"
      },
      "source": [
        "from google.colab import drive\n",
        "drive.mount('/content/drive')"
      ],
      "execution_count": 3,
      "outputs": [
        {
          "output_type": "stream",
          "text": [
            "Mounted at /content/drive\n"
          ],
          "name": "stdout"
        }
      ]
    },
    {
      "cell_type": "code",
      "metadata": {
        "colab": {
          "base_uri": "https://localhost:8080/"
        },
        "id": "TvJs0AK5b-ll",
        "outputId": "a0152143-3a8c-45cf-9c2d-c9efc0bee1b8"
      },
      "source": [
        "!pwd"
      ],
      "execution_count": 4,
      "outputs": [
        {
          "output_type": "stream",
          "text": [
            "/content\n"
          ],
          "name": "stdout"
        }
      ]
    },
    {
      "cell_type": "code",
      "metadata": {
        "colab": {
          "base_uri": "https://localhost:8080/",
          "height": 487
        },
        "id": "kAKf7ij2ZguZ",
        "outputId": "496f7da7-c80d-4d0d-c9e7-b1d84a9ec1e3"
      },
      "source": [
        "with open('/content/drive/My Drive/train.csv', 'r') as f:\n",
        "    train_df = pd.read_csv(f)\n",
        "train_df\n",
        "#3255 unique patients, We want to make sure that each patient's images do not appear in multiple folds to avoid data leakage"
      ],
      "execution_count": 5,
      "outputs": [
        {
          "output_type": "execute_result",
          "data": {
            "text/html": [
              "<div>\n",
              "<style scoped>\n",
              "    .dataframe tbody tr th:only-of-type {\n",
              "        vertical-align: middle;\n",
              "    }\n",
              "\n",
              "    .dataframe tbody tr th {\n",
              "        vertical-align: top;\n",
              "    }\n",
              "\n",
              "    .dataframe thead th {\n",
              "        text-align: right;\n",
              "    }\n",
              "</style>\n",
              "<table border=\"1\" class=\"dataframe\">\n",
              "  <thead>\n",
              "    <tr style=\"text-align: right;\">\n",
              "      <th></th>\n",
              "      <th>StudyInstanceUID</th>\n",
              "      <th>ETT - Abnormal</th>\n",
              "      <th>ETT - Borderline</th>\n",
              "      <th>ETT - Normal</th>\n",
              "      <th>NGT - Abnormal</th>\n",
              "      <th>NGT - Borderline</th>\n",
              "      <th>NGT - Incompletely Imaged</th>\n",
              "      <th>NGT - Normal</th>\n",
              "      <th>CVC - Abnormal</th>\n",
              "      <th>CVC - Borderline</th>\n",
              "      <th>CVC - Normal</th>\n",
              "      <th>Swan Ganz Catheter Present</th>\n",
              "      <th>PatientID</th>\n",
              "    </tr>\n",
              "  </thead>\n",
              "  <tbody>\n",
              "    <tr>\n",
              "      <th>0</th>\n",
              "      <td>1.2.826.0.1.3680043.8.498.26697628953273228189...</td>\n",
              "      <td>0</td>\n",
              "      <td>0</td>\n",
              "      <td>0</td>\n",
              "      <td>0</td>\n",
              "      <td>0</td>\n",
              "      <td>0</td>\n",
              "      <td>1</td>\n",
              "      <td>0</td>\n",
              "      <td>0</td>\n",
              "      <td>0</td>\n",
              "      <td>0</td>\n",
              "      <td>ec89415d1</td>\n",
              "    </tr>\n",
              "    <tr>\n",
              "      <th>1</th>\n",
              "      <td>1.2.826.0.1.3680043.8.498.46302891597398758759...</td>\n",
              "      <td>0</td>\n",
              "      <td>0</td>\n",
              "      <td>1</td>\n",
              "      <td>0</td>\n",
              "      <td>0</td>\n",
              "      <td>1</td>\n",
              "      <td>0</td>\n",
              "      <td>0</td>\n",
              "      <td>0</td>\n",
              "      <td>1</td>\n",
              "      <td>0</td>\n",
              "      <td>bf4c6da3c</td>\n",
              "    </tr>\n",
              "    <tr>\n",
              "      <th>2</th>\n",
              "      <td>1.2.826.0.1.3680043.8.498.23819260719748494858...</td>\n",
              "      <td>0</td>\n",
              "      <td>0</td>\n",
              "      <td>0</td>\n",
              "      <td>0</td>\n",
              "      <td>0</td>\n",
              "      <td>0</td>\n",
              "      <td>0</td>\n",
              "      <td>0</td>\n",
              "      <td>1</td>\n",
              "      <td>0</td>\n",
              "      <td>0</td>\n",
              "      <td>3fc1c97e5</td>\n",
              "    </tr>\n",
              "    <tr>\n",
              "      <th>3</th>\n",
              "      <td>1.2.826.0.1.3680043.8.498.68286643202323212801...</td>\n",
              "      <td>0</td>\n",
              "      <td>0</td>\n",
              "      <td>0</td>\n",
              "      <td>0</td>\n",
              "      <td>0</td>\n",
              "      <td>0</td>\n",
              "      <td>0</td>\n",
              "      <td>1</td>\n",
              "      <td>0</td>\n",
              "      <td>0</td>\n",
              "      <td>0</td>\n",
              "      <td>c31019814</td>\n",
              "    </tr>\n",
              "    <tr>\n",
              "      <th>4</th>\n",
              "      <td>1.2.826.0.1.3680043.8.498.10050203009225938259...</td>\n",
              "      <td>0</td>\n",
              "      <td>0</td>\n",
              "      <td>0</td>\n",
              "      <td>0</td>\n",
              "      <td>0</td>\n",
              "      <td>0</td>\n",
              "      <td>0</td>\n",
              "      <td>0</td>\n",
              "      <td>0</td>\n",
              "      <td>1</td>\n",
              "      <td>0</td>\n",
              "      <td>207685cd1</td>\n",
              "    </tr>\n",
              "    <tr>\n",
              "      <th>...</th>\n",
              "      <td>...</td>\n",
              "      <td>...</td>\n",
              "      <td>...</td>\n",
              "      <td>...</td>\n",
              "      <td>...</td>\n",
              "      <td>...</td>\n",
              "      <td>...</td>\n",
              "      <td>...</td>\n",
              "      <td>...</td>\n",
              "      <td>...</td>\n",
              "      <td>...</td>\n",
              "      <td>...</td>\n",
              "      <td>...</td>\n",
              "    </tr>\n",
              "    <tr>\n",
              "      <th>30078</th>\n",
              "      <td>1.2.826.0.1.3680043.8.498.74257566841157531124...</td>\n",
              "      <td>0</td>\n",
              "      <td>0</td>\n",
              "      <td>1</td>\n",
              "      <td>0</td>\n",
              "      <td>0</td>\n",
              "      <td>0</td>\n",
              "      <td>0</td>\n",
              "      <td>0</td>\n",
              "      <td>1</td>\n",
              "      <td>1</td>\n",
              "      <td>0</td>\n",
              "      <td>5b5b9ac30</td>\n",
              "    </tr>\n",
              "    <tr>\n",
              "      <th>30079</th>\n",
              "      <td>1.2.826.0.1.3680043.8.498.46510939987173529969...</td>\n",
              "      <td>0</td>\n",
              "      <td>0</td>\n",
              "      <td>0</td>\n",
              "      <td>0</td>\n",
              "      <td>0</td>\n",
              "      <td>0</td>\n",
              "      <td>0</td>\n",
              "      <td>0</td>\n",
              "      <td>0</td>\n",
              "      <td>1</td>\n",
              "      <td>0</td>\n",
              "      <td>7192404d8</td>\n",
              "    </tr>\n",
              "    <tr>\n",
              "      <th>30080</th>\n",
              "      <td>1.2.826.0.1.3680043.8.498.43173270582850645437...</td>\n",
              "      <td>0</td>\n",
              "      <td>0</td>\n",
              "      <td>1</td>\n",
              "      <td>0</td>\n",
              "      <td>0</td>\n",
              "      <td>1</td>\n",
              "      <td>0</td>\n",
              "      <td>1</td>\n",
              "      <td>0</td>\n",
              "      <td>1</td>\n",
              "      <td>0</td>\n",
              "      <td>d4d1b066d</td>\n",
              "    </tr>\n",
              "    <tr>\n",
              "      <th>30081</th>\n",
              "      <td>1.2.826.0.1.3680043.8.498.95092491950130838685...</td>\n",
              "      <td>0</td>\n",
              "      <td>0</td>\n",
              "      <td>0</td>\n",
              "      <td>0</td>\n",
              "      <td>0</td>\n",
              "      <td>0</td>\n",
              "      <td>0</td>\n",
              "      <td>0</td>\n",
              "      <td>1</td>\n",
              "      <td>0</td>\n",
              "      <td>0</td>\n",
              "      <td>01a6602b8</td>\n",
              "    </tr>\n",
              "    <tr>\n",
              "      <th>30082</th>\n",
              "      <td>1.2.826.0.1.3680043.8.498.99518162226171269731...</td>\n",
              "      <td>0</td>\n",
              "      <td>0</td>\n",
              "      <td>1</td>\n",
              "      <td>0</td>\n",
              "      <td>0</td>\n",
              "      <td>0</td>\n",
              "      <td>0</td>\n",
              "      <td>0</td>\n",
              "      <td>0</td>\n",
              "      <td>1</td>\n",
              "      <td>0</td>\n",
              "      <td>e692d316c</td>\n",
              "    </tr>\n",
              "  </tbody>\n",
              "</table>\n",
              "<p>30083 rows × 13 columns</p>\n",
              "</div>"
            ],
            "text/plain": [
              "                                        StudyInstanceUID  ...  PatientID\n",
              "0      1.2.826.0.1.3680043.8.498.26697628953273228189...  ...  ec89415d1\n",
              "1      1.2.826.0.1.3680043.8.498.46302891597398758759...  ...  bf4c6da3c\n",
              "2      1.2.826.0.1.3680043.8.498.23819260719748494858...  ...  3fc1c97e5\n",
              "3      1.2.826.0.1.3680043.8.498.68286643202323212801...  ...  c31019814\n",
              "4      1.2.826.0.1.3680043.8.498.10050203009225938259...  ...  207685cd1\n",
              "...                                                  ...  ...        ...\n",
              "30078  1.2.826.0.1.3680043.8.498.74257566841157531124...  ...  5b5b9ac30\n",
              "30079  1.2.826.0.1.3680043.8.498.46510939987173529969...  ...  7192404d8\n",
              "30080  1.2.826.0.1.3680043.8.498.43173270582850645437...  ...  d4d1b066d\n",
              "30081  1.2.826.0.1.3680043.8.498.95092491950130838685...  ...  01a6602b8\n",
              "30082  1.2.826.0.1.3680043.8.498.99518162226171269731...  ...  e692d316c\n",
              "\n",
              "[30083 rows x 13 columns]"
            ]
          },
          "metadata": {
            "tags": []
          },
          "execution_count": 5
        }
      ]
    },
    {
      "cell_type": "code",
      "metadata": {
        "colab": {
          "base_uri": "https://localhost:8080/"
        },
        "id": "YntPwNCOYky5",
        "outputId": "f9b5ce3c-ea50-4ab1-d361-22c66ebe0114"
      },
      "source": [
        "train_df.nunique()"
      ],
      "execution_count": 6,
      "outputs": [
        {
          "output_type": "execute_result",
          "data": {
            "text/plain": [
              "StudyInstanceUID              30083\n",
              "ETT - Abnormal                    2\n",
              "ETT - Borderline                  2\n",
              "ETT - Normal                      2\n",
              "NGT - Abnormal                    2\n",
              "NGT - Borderline                  2\n",
              "NGT - Incompletely Imaged         2\n",
              "NGT - Normal                      2\n",
              "CVC - Abnormal                    2\n",
              "CVC - Borderline                  2\n",
              "CVC - Normal                      2\n",
              "Swan Ganz Catheter Present        2\n",
              "PatientID                      3255\n",
              "dtype: int64"
            ]
          },
          "metadata": {
            "tags": []
          },
          "execution_count": 6
        }
      ]
    },
    {
      "cell_type": "code",
      "metadata": {
        "colab": {
          "base_uri": "https://localhost:8080/"
        },
        "id": "kwa84WX0Yky8",
        "outputId": "734edc99-d329-4508-ab4c-3ef5b0ee916b"
      },
      "source": [
        "train_df.shape\n",
        "#13 - 2 = 11 labels which was also mentioned in the dataset description.\n",
        "#That being said, there are two columns \"StudyInstanceUID\" and \"PatientID\" which do not hold valuable information. So, they can be dropped."
      ],
      "execution_count": 7,
      "outputs": [
        {
          "output_type": "execute_result",
          "data": {
            "text/plain": [
              "(30083, 13)"
            ]
          },
          "metadata": {
            "tags": []
          },
          "execution_count": 7
        }
      ]
    },
    {
      "cell_type": "code",
      "metadata": {
        "pycharm": {
          "name": "#%%\n"
        },
        "colab": {
          "base_uri": "https://localhost:8080/"
        },
        "id": "rkrkNrl_Yky9",
        "outputId": "4fa5d847-85cc-4055-b589-f91f6450d541"
      },
      "source": [
        "#some patients have over 100 images and some have only 1\n",
        "train_df.PatientID.value_counts()"
      ],
      "execution_count": 8,
      "outputs": [
        {
          "output_type": "execute_result",
          "data": {
            "text/plain": [
              "05029c63a    172\n",
              "55073fece    167\n",
              "26da0d5ad    148\n",
              "8849382d0    130\n",
              "34242119f    110\n",
              "            ... \n",
              "823952d6c      1\n",
              "a27848a12      1\n",
              "f98a26a73      1\n",
              "58414b00a      1\n",
              "85add7a56      1\n",
              "Name: PatientID, Length: 3255, dtype: int64"
            ]
          },
          "metadata": {
            "tags": []
          },
          "execution_count": 8
        }
      ]
    },
    {
      "cell_type": "code",
      "metadata": {
        "pycharm": {
          "name": "#%%\n"
        },
        "scrolled": true,
        "colab": {
          "base_uri": "https://localhost:8080/",
          "height": 491
        },
        "id": "vg0q9PqvYky-",
        "outputId": "ae418da5-308d-4b25-8174-023c81a9eedd"
      },
      "source": [
        "#plot label distrobution\n",
        "categories = ['ETT - Abnormal', 'ETT - Borderline',\n",
        "       'ETT - Normal', 'NGT - Abnormal', 'NGT - Borderline',\n",
        "       'NGT - Incompletely Imaged', 'NGT - Normal', 'CVC - Abnormal',\n",
        "       'CVC - Borderline', 'CVC - Normal','Swan Ganz Catheter Present']\n",
        "categoryCounts = train_df[categories].sum(axis = 0).reset_index()\n",
        "categoryCounts.columns = ['Malpositions', 'Number of Observations']\n",
        "print(categoryCounts)\n",
        "plt.barh(categoryCounts['Malpositions'], categoryCounts['Number of Observations'])\n",
        "\n",
        "#So according to the graph, most of the people had Normal condition in all three criteria \"CVC\", \"NGT\", and \"ETT\"."
      ],
      "execution_count": 9,
      "outputs": [
        {
          "output_type": "stream",
          "text": [
            "                  Malpositions  Number of Observations\n",
            "0               ETT - Abnormal                      79\n",
            "1             ETT - Borderline                    1138\n",
            "2                 ETT - Normal                    7240\n",
            "3               NGT - Abnormal                     279\n",
            "4             NGT - Borderline                     529\n",
            "5    NGT - Incompletely Imaged                    2748\n",
            "6                 NGT - Normal                    4797\n",
            "7               CVC - Abnormal                    3195\n",
            "8             CVC - Borderline                    8460\n",
            "9                 CVC - Normal                   21324\n",
            "10  Swan Ganz Catheter Present                     830\n"
          ],
          "name": "stdout"
        },
        {
          "output_type": "execute_result",
          "data": {
            "text/plain": [
              "<BarContainer object of 11 artists>"
            ]
          },
          "metadata": {
            "tags": []
          },
          "execution_count": 9
        },
        {
          "output_type": "display_data",
          "data": {
            "image/png": "[encoded data removed]",
            "text/plain": [
              "<Figure size 432x288 with 1 Axes>"
            ]
          },
          "metadata": {
            "tags": [],
            "needs_background": "light"
          }
        }
      ]
    },
    {
      "cell_type": "markdown",
      "metadata": {
        "id": "B-exaCdOYky-"
      },
      "source": [
        "## Load the data:"
      ]
    },
    {
      "cell_type": "code",
      "metadata": {
        "colab": {
          "base_uri": "https://localhost:8080/"
        },
        "id": "qs7UhCd3cFLj",
        "outputId": "fed014e4-5910-43ce-c3b5-c74dc35f431f"
      },
      "source": [
        "!pwd"
      ],
      "execution_count": 10,
      "outputs": [
        {
          "output_type": "stream",
          "text": [
            "/content\n"
          ],
          "name": "stdout"
        }
      ]
    },
    {
      "cell_type": "code",
      "metadata": {
        "id": "al85aVSvaNIy"
      },
      "source": [
        "# !pwd\n",
        "os.chdir(\"./drive/My Drive/train/500_data\")"
      ],
      "execution_count": 11,
      "outputs": []
    },
    {
      "cell_type": "code",
      "metadata": {
        "pycharm": {
          "name": "#%%\n"
        },
        "id": "oLPY9OwWYky_"
      },
      "source": [
        "#load x and y data\n",
        "Xtrain = pickle.load(open(\"train.pickle\", \"rb\"))\n",
        "ytrain = pickle.load(open(\"target.pickle\", \"rb\"))\n",
        "pid = pickle.load(open(\"id.pickle\", \"rb\"))"
      ],
      "execution_count": 12,
      "outputs": []
    },
    {
      "cell_type": "code",
      "metadata": {
        "colab": {
          "base_uri": "https://localhost:8080/"
        },
        "id": "3SRuoISBYky_",
        "outputId": "d2f63b7b-5440-41de-a6fc-b988d8bf15b4"
      },
      "source": [
        "# Xtrain\n",
        "Xtrain.shape #verified!"
      ],
      "execution_count": 13,
      "outputs": [
        {
          "output_type": "execute_result",
          "data": {
            "text/plain": [
              "(500, 224, 224)"
            ]
          },
          "metadata": {
            "tags": []
          },
          "execution_count": 13
        }
      ]
    },
    {
      "cell_type": "code",
      "metadata": {
        "colab": {
          "base_uri": "https://localhost:8080/"
        },
        "id": "lz9iIKzKYky_",
        "outputId": "48ca5b53-ed7f-4f9d-9452-7701f65d66a1"
      },
      "source": [
        "# ytrain\n",
        "ytrain.shape"
      ],
      "execution_count": 14,
      "outputs": [
        {
          "output_type": "execute_result",
          "data": {
            "text/plain": [
              "(500, 11)"
            ]
          },
          "metadata": {
            "tags": []
          },
          "execution_count": 14
        }
      ]
    },
    {
      "cell_type": "code",
      "metadata": {
        "colab": {
          "base_uri": "https://localhost:8080/"
        },
        "id": "8HMAzNptYkzA",
        "outputId": "4e7870cd-cba3-4efe-e9ed-68bf6eead356"
      },
      "source": [
        "# pid #is an array of arrays\n",
        "pid.shape"
      ],
      "execution_count": 15,
      "outputs": [
        {
          "output_type": "execute_result",
          "data": {
            "text/plain": [
              "(85,)"
            ]
          },
          "metadata": {
            "tags": []
          },
          "execution_count": 15
        }
      ]
    },
    {
      "cell_type": "code",
      "metadata": {
        "id": "iiegk9ZCYkzB"
      },
      "source": [
        "# train_df.iloc[[14, 29330], :] #verified!"
      ],
      "execution_count": 16,
      "outputs": []
    },
    {
      "cell_type": "markdown",
      "metadata": {
        "id": "kiakf0fgYkzB"
      },
      "source": [
        "## Scaling the data"
      ]
    },
    {
      "cell_type": "code",
      "metadata": {
        "pycharm": {
          "name": "#%%\n"
        },
        "id": "QOtGzIGEYkzB"
      },
      "source": [
        "#scale to 0-1\n",
        "\n",
        "Xtrain_scaled = []\n",
        "for pic in Xtrain:\n",
        "    Xtrain_scaled.append(np.array(pic/255).astype(np.float32))\n",
        "# Xtrain_scaled"
      ],
      "execution_count": 17,
      "outputs": []
    },
    {
      "cell_type": "code",
      "metadata": {
        "colab": {
          "base_uri": "https://localhost:8080/"
        },
        "id": "23FjkGA5YkzC",
        "outputId": "55fc3a3f-1110-4999-891f-0a6c6227b63c"
      },
      "source": [
        "len(Xtrain_scaled) #verified!"
      ],
      "execution_count": 18,
      "outputs": [
        {
          "output_type": "execute_result",
          "data": {
            "text/plain": [
              "500"
            ]
          },
          "metadata": {
            "tags": []
          },
          "execution_count": 18
        }
      ]
    },
    {
      "cell_type": "markdown",
      "metadata": {
        "id": "a9A6dLpaYkzD"
      },
      "source": [
        "## Solving data leakage issue in features:"
      ]
    },
    {
      "cell_type": "code",
      "metadata": {
        "id": "uIi02Zy7YkzD"
      },
      "source": [
        "#since \"pid\" has repetitive elemetns, we should faltten it into variable \"lst\":\n",
        "# All the pid items in a single list:\n",
        "\n",
        "lst = []\n",
        "\n",
        "for i in range(0, len(pid)):\n",
        "    for j in range(0, len(pid[i])):\n",
        "        lst.append(pid[i][j])\n",
        "lst.sort()\n",
        "lst = np.unique(lst)\n",
        "# lst.shape"
      ],
      "execution_count": 19,
      "outputs": []
    },
    {
      "cell_type": "code",
      "metadata": {
        "colab": {
          "base_uri": "https://localhost:8080/"
        },
        "id": "zNHQwKE1YkzE",
        "outputId": "74938636-6cfa-4540-f0c2-63eee03bf39b"
      },
      "source": [
        "lst"
      ],
      "execution_count": 20,
      "outputs": [
        {
          "output_type": "execute_result",
          "data": {
            "text/plain": [
              "array([  0,   2,  11,  16,  17,  21,  24,  25,  26,  29,  31,  32,  39,\n",
              "        43,  49,  51,  53,  59,  61,  63,  65,  74,  75,  76,  79,  82,\n",
              "        83,  96,  98, 100, 103, 109, 112, 114, 115, 116, 117, 121, 125,\n",
              "       133, 137, 140, 145, 149, 151, 157, 158, 160, 161, 167, 168, 169,\n",
              "       174, 176, 180, 183, 188, 190, 196, 202, 204, 208, 209, 210, 213,\n",
              "       226, 227, 234, 235, 237, 242, 245, 253, 257, 258, 263, 268, 271,\n",
              "       272, 276, 279, 281, 282, 286, 293, 294, 298, 299, 300, 306, 311,\n",
              "       312, 319, 320, 321, 327, 330, 333, 336, 337, 343, 347, 348, 350,\n",
              "       355, 360, 361, 362, 365, 366, 370, 372, 373, 387, 391, 398, 399,\n",
              "       401, 408, 410, 414, 415, 416, 421, 422, 430, 433, 435, 437, 440,\n",
              "       441, 444, 447, 448, 453, 458, 459, 461, 471, 475, 477, 478, 481,\n",
              "       482, 488, 489, 492, 495, 499])"
            ]
          },
          "metadata": {
            "tags": []
          },
          "execution_count": 20
        }
      ]
    },
    {
      "cell_type": "code",
      "metadata": {
        "id": "feGC5TVnYkzE"
      },
      "source": [
        "#repeteted list:\n",
        "\n",
        "Xtrain_arr = np.array(Xtrain_scaled)\n",
        "repeted_lst = []\n",
        "\n",
        "for i in range(0, len(lst)):\n",
        "    repeted_lst.append(Xtrain_arr[lst[i]])\n",
        "\n",
        "repeted_lst = np.array(repeted_lst)\n",
        "# repeted_lst.shape"
      ],
      "execution_count": 21,
      "outputs": []
    },
    {
      "cell_type": "code",
      "metadata": {
        "id": "CoyxxIFRYkzF"
      },
      "source": [
        "#polished list:\n",
        "\n",
        "Xtrain_polished = []\n",
        "\n",
        "for i in range(0, len(Xtrain_arr)):\n",
        "    if i in lst:\n",
        "        pass\n",
        "    else:\n",
        "        Xtrain_polished.append(Xtrain_arr[i])\n",
        "\n",
        "Xtrain_polished = np.array(Xtrain_polished)\n",
        "# Xtrain_polished.shape"
      ],
      "execution_count": 22,
      "outputs": []
    },
    {
      "cell_type": "markdown",
      "metadata": {
        "id": "sH6QwR_2YkzF"
      },
      "source": [
        "## Scaling the images:"
      ]
    },
    {
      "cell_type": "code",
      "metadata": {
        "id": "Z6sV9bQkYkzF"
      },
      "source": [
        "#reshapeing the train images \"Xtrain_scaled\":\n",
        "\n",
        "repeted_lst_scaled = repeted_lst.reshape((-1, 224, 224, 1))\n",
        "Xtrain_polished_scaled = Xtrain_polished.reshape((-1, 224, 224, 1))\n",
        "\n",
        "# repeted_lst_scaled.max() #verified\n",
        "# Xtrain_polished_scaled.max() #verified"
      ],
      "execution_count": 23,
      "outputs": []
    },
    {
      "cell_type": "code",
      "metadata": {
        "colab": {
          "base_uri": "https://localhost:8080/"
        },
        "id": "dxi5MSwHYkzG",
        "outputId": "a2a468ff-b0c2-4a54-d9c9-d6c5f25815f1"
      },
      "source": [
        "print(repeted_lst_scaled.shape) #verified\n",
        "print(Xtrain_polished_scaled.shape) #verified"
      ],
      "execution_count": 24,
      "outputs": [
        {
          "output_type": "stream",
          "text": [
            "(149, 224, 224, 1)\n",
            "(351, 224, 224, 1)\n"
          ],
          "name": "stdout"
        }
      ]
    },
    {
      "cell_type": "markdown",
      "metadata": {
        "id": "vgU8CzUtYkzG"
      },
      "source": [
        "## Solving data leakage issue in labels:"
      ]
    },
    {
      "cell_type": "code",
      "metadata": {
        "id": "eYvRr-yUYkzG"
      },
      "source": [
        "#repeteted list:\n",
        "\n",
        "repeted_y = ytrain[lst, :]\n",
        "# repeted_y.shape\n",
        "\n",
        "#..............#\n",
        "#the four categories ETT, NGT, CVC, SG: \n",
        "repeted_ytrain_ETT = repeted_y[:, 0:3] #0, 1, 2\n",
        "repeted_ytrain_NGT = repeted_y[:, 3:7] #3, 4, 5, 6\n",
        "repeted_ytrain_CVC = repeted_y[:, 7:10]  #7, 8, 9\n",
        "repeted_ytrain_sg = repeted_y[:, 10:11]  #10"
      ],
      "execution_count": 25,
      "outputs": []
    },
    {
      "cell_type": "code",
      "metadata": {
        "id": "slDw5UV7YkzH"
      },
      "source": [
        "#polished list:\n",
        "\n",
        "polished_y = []\n",
        "\n",
        "for i in range(0, len(ytrain)):\n",
        "    if i in lst:\n",
        "        pass\n",
        "    else:\n",
        "        polished_y.append(ytrain[i])\n",
        "        \n",
        "polished_y = np.array(polished_y)\n",
        "# polished_y.shape\n",
        "\n",
        "#..............#\n",
        "#the four categories ETT, NGT, CVC, SG:\n",
        "polished_ytrain_ETT = polished_y[:, 0:3] #0, 1, 2\n",
        "polished_ytrain_NGT = polished_y[:, 3:7] #3, 4, 5, 6\n",
        "polished_ytrain_CVC = polished_y[:, 7:10]  #7, 8, 9\n",
        "polished_ytrain_sg = polished_y[:, 10:11]  #10"
      ],
      "execution_count": 26,
      "outputs": []
    },
    {
      "cell_type": "markdown",
      "metadata": {
        "id": "VFdFMT4nYkzH"
      },
      "source": [
        "## Train-test split ETT: (requires a class of 3 in the output layer)"
      ]
    },
    {
      "cell_type": "code",
      "metadata": {
        "id": "FTNS_nM0YkzH"
      },
      "source": [
        "#split the data:\n",
        "#Split using the scaled polished non-repetitive data \"Xtrain_polished_scaled\" + \"polished_y\" (-> \"polished_ytrain_ETT\", \"polished_ytrain_NGT\", \"polished_ytrain_CVC\", \"polished_ytrain_sg\")\n",
        "#Then laster, add the scaled repetitive data \"repeted_lst_scaled\" + \"repeted_y\" (-> \"repeted_ytrain_ETT\", \"repeted_ytrain_NGT\", \"repeted_ytrain_CVC\", \"repeted_ytrain_sg\") to the train set (in order to tackle the leackage) \n",
        "\n",
        "x_train_ETT, x_test_ETT, y_train_ETT, y_test_ETT = train_test_split(Xtrain_polished_scaled, polished_ytrain_ETT, test_size = 0.15, random_state = 0) #, shuffle = True"
      ],
      "execution_count": 27,
      "outputs": []
    },
    {
      "cell_type": "code",
      "metadata": {
        "colab": {
          "base_uri": "https://localhost:8080/"
        },
        "id": "m2DTv-UBYkzI",
        "outputId": "f8c785ba-7b49-440d-d04b-7107548879ac"
      },
      "source": [
        "print(x_train_ETT.shape)\n",
        "print(y_train_ETT.shape)\n",
        "print(x_test_ETT.shape)\n",
        "print(y_test_ETT.shape)"
      ],
      "execution_count": 28,
      "outputs": [
        {
          "output_type": "stream",
          "text": [
            "(298, 224, 224, 1)\n",
            "(298, 3)\n",
            "(53, 224, 224, 1)\n",
            "(53, 3)\n"
          ],
          "name": "stdout"
        }
      ]
    },
    {
      "cell_type": "code",
      "metadata": {
        "id": "Cy_VQkfmYkzI"
      },
      "source": [
        "#Adding the repeted data to x_train:\n",
        "x_train_added_ETT = np.array([])\n",
        "x_train_added_ETT = np.append(x_train_ETT, repeted_lst_scaled, axis = 0)\n",
        "\n",
        "\n",
        "#Adding the repeted data to y_train:\n",
        "y_train_added_ETT = np.array([])\n",
        "y_train_added_ETT = np.append(y_train_ETT, repeted_ytrain_ETT, axis = 0)"
      ],
      "execution_count": 29,
      "outputs": []
    },
    {
      "cell_type": "code",
      "metadata": {
        "colab": {
          "base_uri": "https://localhost:8080/"
        },
        "id": "VLi5GaYfYkzI",
        "outputId": "5ef429d2-0339-40a2-c398-32847f16a5c0"
      },
      "source": [
        "print(x_train_added_ETT.shape) #verified!\n",
        "print(y_train_added_ETT.shape) #verified!"
      ],
      "execution_count": 30,
      "outputs": [
        {
          "output_type": "stream",
          "text": [
            "(447, 224, 224, 1)\n",
            "(447, 3)\n"
          ],
          "name": "stdout"
        }
      ]
    },
    {
      "cell_type": "markdown",
      "metadata": {
        "id": "ljynkPP0YkzI"
      },
      "source": [
        "## Train-test split NGT: (requires a class of 4 in the output layer)"
      ]
    },
    {
      "cell_type": "code",
      "metadata": {
        "id": "8j7hv7OOYkzJ"
      },
      "source": [
        "#split the data:\n",
        "#Split using the scaled polished non-repetitive data \"Xtrain_polished_scaled\" + \"polished_y\" (-> \"polished_ytrain_ETT\", \"polished_ytrain_NGT\", \"polished_ytrain_CVC\", \"polished_ytrain_sg\")\n",
        "#Then laster, add the scaled repetitive data \"repeted_lst_scaled\" + \"repeted_y\" (-> \"repeted_ytrain_ETT\", \"repeted_ytrain_NGT\", \"repeted_ytrain_CVC\", \"repeted_ytrain_sg\") to the train set (in order to tackle the leackage) \n",
        "\n",
        "x_train_NGT, x_test_NGT, y_train_NGT, y_test_NGT = train_test_split(Xtrain_polished_scaled, polished_ytrain_NGT, test_size = 0.15, random_state = 0) #, shuffle = True"
      ],
      "execution_count": 31,
      "outputs": []
    },
    {
      "cell_type": "code",
      "metadata": {
        "colab": {
          "base_uri": "https://localhost:8080/"
        },
        "id": "bCqLUipWYkzK",
        "outputId": "e7c2a2e7-7901-4d34-cd4d-1ac3271a9e02"
      },
      "source": [
        "print(x_train_NGT.shape)\n",
        "print(y_train_NGT.shape)\n",
        "print(x_test_NGT.shape)\n",
        "print(y_test_NGT.shape)"
      ],
      "execution_count": 32,
      "outputs": [
        {
          "output_type": "stream",
          "text": [
            "(298, 224, 224, 1)\n",
            "(298, 4)\n",
            "(53, 224, 224, 1)\n",
            "(53, 4)\n"
          ],
          "name": "stdout"
        }
      ]
    },
    {
      "cell_type": "code",
      "metadata": {
        "id": "Bj-QvNqPYkzL"
      },
      "source": [
        "#Adding the repeted data to x_train:\n",
        "x_train_added_NGT = np.array([])\n",
        "x_train_added_NGT = np.append(x_train_NGT, repeted_lst_scaled, axis = 0)\n",
        "\n",
        "\n",
        "#Adding the repeted data to y_train:\n",
        "y_train_added_NGT = np.array([])\n",
        "y_train_added_NGT = np.append(y_train_NGT, repeted_ytrain_NGT, axis = 0)"
      ],
      "execution_count": 33,
      "outputs": []
    },
    {
      "cell_type": "code",
      "metadata": {
        "colab": {
          "base_uri": "https://localhost:8080/"
        },
        "id": "PmWtzubDYkzM",
        "outputId": "37bd0f3f-869a-4a6f-fe9b-2a19085b8f2c"
      },
      "source": [
        "print(x_train_added_NGT.shape) #verified!\n",
        "print(y_train_added_NGT.shape) #verified!"
      ],
      "execution_count": 34,
      "outputs": [
        {
          "output_type": "stream",
          "text": [
            "(447, 224, 224, 1)\n",
            "(447, 4)\n"
          ],
          "name": "stdout"
        }
      ]
    },
    {
      "cell_type": "markdown",
      "metadata": {
        "id": "NXAJChEkYkzN"
      },
      "source": [
        "## Train-test split CVC: (requires a class of 3 in the output layer)"
      ]
    },
    {
      "cell_type": "code",
      "metadata": {
        "id": "3bHC9Bm4YkzO"
      },
      "source": [
        "#split the data:\n",
        "#Split using the scaled polished non-repetitive data \"Xtrain_polished_scaled\" + \"polished_y\" (-> \"polished_ytrain_ETT\", \"polished_ytrain_NGT\", \"polished_ytrain_CVC\", \"polished_ytrain_sg\")\n",
        "#Then laster, add the scaled repetitive data \"repeted_lst_scaled\" + \"repeted_y\" (-> \"repeted_ytrain_ETT\", \"repeted_ytrain_NGT\", \"repeted_ytrain_CVC\", \"repeted_ytrain_sg\") to the train set (in order to tackle the leackage) \n",
        "\n",
        "x_train_CVC, x_test_CVC, y_train_CVC, y_test_CVC = train_test_split(Xtrain_polished_scaled, polished_ytrain_CVC, test_size = 0.15, random_state = 0) #, shuffle = True"
      ],
      "execution_count": 35,
      "outputs": []
    },
    {
      "cell_type": "code",
      "metadata": {
        "colab": {
          "base_uri": "https://localhost:8080/"
        },
        "id": "c2mmT9D-YkzO",
        "outputId": "a407ffec-c643-47af-a555-5a2ce7c3fdac"
      },
      "source": [
        "print(x_train_CVC.shape)\n",
        "print(y_train_CVC.shape)\n",
        "print(x_test_CVC.shape)\n",
        "print(y_test_CVC.shape)"
      ],
      "execution_count": 36,
      "outputs": [
        {
          "output_type": "stream",
          "text": [
            "(298, 224, 224, 1)\n",
            "(298, 3)\n",
            "(53, 224, 224, 1)\n",
            "(53, 3)\n"
          ],
          "name": "stdout"
        }
      ]
    },
    {
      "cell_type": "code",
      "metadata": {
        "id": "hLIaseTzYkzP"
      },
      "source": [
        "#Adding the repeted data to x_train:\n",
        "x_train_added_CVC = np.array([])\n",
        "x_train_added_CVC = np.append(x_train_CVC, repeted_lst_scaled, axis = 0)\n",
        "\n",
        "\n",
        "#Adding the repeted data to y_train:\n",
        "y_train_added_CVC = np.array([])\n",
        "y_train_added_CVC = np.append(y_train_CVC, repeted_ytrain_CVC, axis = 0)"
      ],
      "execution_count": 37,
      "outputs": []
    },
    {
      "cell_type": "code",
      "metadata": {
        "colab": {
          "base_uri": "https://localhost:8080/"
        },
        "id": "MhNrBLSLYkzQ",
        "outputId": "38143bf1-9f01-4ccc-a41f-baadd5cd10bc"
      },
      "source": [
        "print(x_train_added_CVC.shape) #verified!\n",
        "print(y_train_added_CVC.shape) #verified!"
      ],
      "execution_count": 38,
      "outputs": [
        {
          "output_type": "stream",
          "text": [
            "(447, 224, 224, 1)\n",
            "(447, 3)\n"
          ],
          "name": "stdout"
        }
      ]
    },
    {
      "cell_type": "markdown",
      "metadata": {
        "id": "fnH5APTwYkzR"
      },
      "source": [
        "## Train-test split SG: (requires a class of 1 in the output layer)"
      ]
    },
    {
      "cell_type": "code",
      "metadata": {
        "id": "WAIyx8jlYkzR"
      },
      "source": [
        "#split the data:\n",
        "#Split using the scaled polished non-repetitive data \"Xtrain_polished_scaled\" + \"polished_y\" (-> \"polished_ytrain_ETT\", \"polished_ytrain_NGT\", \"polished_ytrain_CVC\", \"polished_ytrain_sg\")\n",
        "#Then laster, add the scaled repetitive data \"repeted_lst_scaled\" + \"repeted_y\" (-> \"repeted_ytrain_ETT\", \"repeted_ytrain_NGT\", \"repeted_ytrain_CVC\", \"repeted_ytrain_sg\") to the train set (in order to tackle the leackage) \n",
        "\n",
        "x_train_SG, x_test_SG, y_train_SG, y_test_SG = train_test_split(Xtrain_polished_scaled, polished_ytrain_sg, test_size = 0.15, random_state = 0) #, shuffle = True"
      ],
      "execution_count": 39,
      "outputs": []
    },
    {
      "cell_type": "code",
      "metadata": {
        "colab": {
          "base_uri": "https://localhost:8080/"
        },
        "id": "iKBgkXlZYkzS",
        "outputId": "4016b781-0da9-4d18-e6f2-49ca44498f9d"
      },
      "source": [
        "print(x_train_SG.shape)\n",
        "print(y_train_SG.shape)\n",
        "print(x_test_SG.shape)\n",
        "print(y_test_SG.shape)"
      ],
      "execution_count": 40,
      "outputs": [
        {
          "output_type": "stream",
          "text": [
            "(298, 224, 224, 1)\n",
            "(298, 1)\n",
            "(53, 224, 224, 1)\n",
            "(53, 1)\n"
          ],
          "name": "stdout"
        }
      ]
    },
    {
      "cell_type": "code",
      "metadata": {
        "id": "lMi5bBSrYkzS"
      },
      "source": [
        "#Adding the repeted data to x_train:\n",
        "x_train_added_SG = np.array([])\n",
        "x_train_added_SG = np.append(x_train_SG, repeted_lst_scaled, axis = 0)\n",
        "\n",
        "\n",
        "#Adding the repeted data to y_train:\n",
        "y_train_added_SG = np.array([])\n",
        "y_train_added_SG = np.append(y_train_SG, repeted_ytrain_sg, axis = 0)"
      ],
      "execution_count": 41,
      "outputs": []
    },
    {
      "cell_type": "code",
      "metadata": {
        "colab": {
          "base_uri": "https://localhost:8080/"
        },
        "id": "nrQoGjTtYkzT",
        "outputId": "1ba13a88-46ac-41ed-a6c6-164d9cbf0be8"
      },
      "source": [
        "print(x_train_added_SG.shape) #verified!\n",
        "print(y_train_added_SG.shape) #verified!"
      ],
      "execution_count": 42,
      "outputs": [
        {
          "output_type": "stream",
          "text": [
            "(447, 224, 224, 1)\n",
            "(447, 1)\n"
          ],
          "name": "stdout"
        }
      ]
    },
    {
      "cell_type": "markdown",
      "metadata": {
        "id": "yRLp28yfYkzU"
      },
      "source": [
        "## Model ETT: CNN "
      ]
    },
    {
      "cell_type": "code",
      "metadata": {
        "pycharm": {
          "name": "#%%\n"
        },
        "colab": {
          "base_uri": "https://localhost:8080/"
        },
        "id": "d8BGkWghYkzU",
        "outputId": "9437f8c3-6f8b-4754-ab12-685510ec5ddf"
      },
      "source": [
        "# build a sequential model\n",
        "\n",
        "model_ETT = Sequential()\n",
        "# model.add(InputLayer(input_shape = (650, 650, 1), batch_size = 32))\n",
        "\n",
        "# 1st conv block\n",
        "model_ETT.add(Conv2D(32, (3, 3), activation = 'relu', input_shape = (224, 224, 1))) #padding = 'same'     #or adding \"input_shape\" instead of defining a seperate \"InputLayer\" \n",
        "model_ETT.add(MaxPool2D(pool_size = (2, 2)))\n",
        "# 2nd conv block\n",
        "model_ETT.add(Conv2D(64, (3, 3), activation = 'relu'))\n",
        "model_ETT.add(MaxPool2D(pool_size = (2, 2)))\n",
        "# 3rd conv block\n",
        "model_ETT.add(Conv2D(64, (3, 3), activation = 'relu'))\n",
        "model_ETT.add(MaxPool2D(pool_size = (2, 2)))\n",
        "model_ETT.add(BatchNormalization())\n",
        "# ANN block\n",
        "model_ETT.add(Flatten())\n",
        "model_ETT.add(Dense(units = 128, activation = 'relu'))\n",
        "model_ETT.add(Dense(units = 128, activation = 'relu'))\n",
        "model_ETT.add(Dropout(0.5))\n",
        "# output layer\n",
        "model_ETT.add(Dense(units = 3, activation = 'softmax'))\n",
        " \n",
        "# compile model\n",
        "model_ETT.compile(loss = 'categorical_crossentropy', optimizer = \"adam\", metrics = ['accuracy']) #categorical_crossentropy\n",
        "\n",
        "model_ETT.summary()\n",
        "\n",
        "#Early Stopping\n",
        "from tensorflow.keras.callbacks import EarlyStopping\n",
        "early_stop = EarlyStopping(monitor = 'val_loss', patience = 1)\n",
        "\n",
        "\n",
        "# model.fit(x = Xtrain_scaled, y = ytrain, epochs = 1000, batch_size = 32, validation_split = 0.2) #callbacks = [early_stop])\n",
        "model_ETT.fit(x = x_train_added_ETT, y = y_train_added_ETT, epochs = 1000, batch_size = 32, validation_data = [x_test_ETT, y_test_ETT], callbacks = [early_stop]) #callbacks = [early_stop])"
      ],
      "execution_count": null,
      "outputs": [
        {
          "output_type": "stream",
          "text": [
            "Model: \"sequential\"\n",
            "_________________________________________________________________\n",
            "Layer (type)                 Output Shape              Param #   \n",
            "=================================================================\n",
            "conv2d (Conv2D)              (None, 222, 222, 32)      320       \n",
            "_________________________________________________________________\n",
            "max_pooling2d (MaxPooling2D) (None, 111, 111, 32)      0         \n",
            "_________________________________________________________________\n",
            "conv2d_1 (Conv2D)            (None, 109, 109, 64)      18496     \n",
            "_________________________________________________________________\n",
            "max_pooling2d_1 (MaxPooling2 (None, 54, 54, 64)        0         \n",
            "_________________________________________________________________\n",
            "conv2d_2 (Conv2D)            (None, 52, 52, 64)        36928     \n",
            "_________________________________________________________________\n",
            "max_pooling2d_2 (MaxPooling2 (None, 26, 26, 64)        0         \n",
            "_________________________________________________________________\n",
            "batch_normalization (BatchNo (None, 26, 26, 64)        256       \n",
            "_________________________________________________________________\n",
            "flatten (Flatten)            (None, 43264)             0         \n",
            "_________________________________________________________________\n",
            "dense (Dense)                (None, 128)               5537920   \n",
            "_________________________________________________________________\n",
            "dense_1 (Dense)              (None, 128)               16512     \n",
            "_________________________________________________________________\n",
            "dropout (Dropout)            (None, 128)               0         \n",
            "_________________________________________________________________\n",
            "dense_2 (Dense)              (None, 3)                 387       \n",
            "=================================================================\n",
            "Total params: 5,610,819\n",
            "Trainable params: 5,610,691\n",
            "Non-trainable params: 128\n",
            "_________________________________________________________________\n",
            "Train on 5274 samples, validate on 137 samples\n",
            "Epoch 1/1000\n",
            "5274/5274 [==============================] - 35s 7ms/sample - loss: 3970.2994 - accuracy: 0.2838 - val_loss: 581.5438 - val_accuracy: 0.0949\n",
            "Epoch 2/1000\n",
            "  32/5274 [..............................] - ETA: 4s - loss: 5057.0703 - accuracy: 0.0938"
          ],
          "name": "stdout"
        },
        {
          "output_type": "stream",
          "text": [
            "/usr/local/lib/python3.7/dist-packages/tensorflow/python/keras/engine/training.py:2325: UserWarning: `Model.state_updates` will be removed in a future version. This property should not be used in TensorFlow 2.0, as `updates` are applied automatically.\n",
            "  warnings.warn('`Model.state_updates` will be removed in a future version. '\n"
          ],
          "name": "stderr"
        },
        {
          "output_type": "stream",
          "text": [
            "5274/5274 [==============================] - 5s 862us/sample - loss: 87025.3522 - accuracy: 0.2873 - val_loss: 4616.2044 - val_accuracy: 0.0949\n"
          ],
          "name": "stdout"
        },
        {
          "output_type": "execute_result",
          "data": {
            "text/plain": [
              "<tensorflow.python.keras.callbacks.History at 0x7f2d250ce390>"
            ]
          },
          "metadata": {
            "tags": []
          },
          "execution_count": 41
        }
      ]
    },
    {
      "cell_type": "code",
      "metadata": {
        "scrolled": true,
        "colab": {
          "base_uri": "https://localhost:8080/"
        },
        "id": "OdK3aVYMYkzU",
        "outputId": "a214af0f-356d-48c0-f5b8-f846b9a9a365"
      },
      "source": [
        "model_ETT.metrics_names"
      ],
      "execution_count": null,
      "outputs": [
        {
          "output_type": "execute_result",
          "data": {
            "text/plain": [
              "['loss', 'accuracy']"
            ]
          },
          "metadata": {
            "tags": []
          },
          "execution_count": 42
        }
      ]
    },
    {
      "cell_type": "code",
      "metadata": {
        "colab": {
          "base_uri": "https://localhost:8080/",
          "height": 110
        },
        "id": "4vw0XIYrYkzV",
        "outputId": "e2b7f332-1ad3-469e-aa8e-fc5711e7d112"
      },
      "source": [
        "metrics = pd.DataFrame(model_ETT.history.history)\n",
        "metrics"
      ],
      "execution_count": null,
      "outputs": [
        {
          "output_type": "execute_result",
          "data": {
            "text/html": [
              "<div>\n",
              "<style scoped>\n",
              "    .dataframe tbody tr th:only-of-type {\n",
              "        vertical-align: middle;\n",
              "    }\n",
              "\n",
              "    .dataframe tbody tr th {\n",
              "        vertical-align: top;\n",
              "    }\n",
              "\n",
              "    .dataframe thead th {\n",
              "        text-align: right;\n",
              "    }\n",
              "</style>\n",
              "<table border=\"1\" class=\"dataframe\">\n",
              "  <thead>\n",
              "    <tr style=\"text-align: right;\">\n",
              "      <th></th>\n",
              "      <th>loss</th>\n",
              "      <th>accuracy</th>\n",
              "      <th>val_loss</th>\n",
              "      <th>val_accuracy</th>\n",
              "    </tr>\n",
              "  </thead>\n",
              "  <tbody>\n",
              "    <tr>\n",
              "      <th>0</th>\n",
              "      <td>3970.299396</td>\n",
              "      <td>0.283845</td>\n",
              "      <td>581.543796</td>\n",
              "      <td>0.094891</td>\n",
              "    </tr>\n",
              "    <tr>\n",
              "      <th>1</th>\n",
              "      <td>87025.352235</td>\n",
              "      <td>0.287258</td>\n",
              "      <td>4616.204380</td>\n",
              "      <td>0.094891</td>\n",
              "    </tr>\n",
              "  </tbody>\n",
              "</table>\n",
              "</div>"
            ],
            "text/plain": [
              "           loss  accuracy     val_loss  val_accuracy\n",
              "0   3970.299396  0.283845   581.543796      0.094891\n",
              "1  87025.352235  0.287258  4616.204380      0.094891"
            ]
          },
          "metadata": {
            "tags": []
          },
          "execution_count": 43
        }
      ]
    },
    {
      "cell_type": "code",
      "metadata": {
        "colab": {
          "base_uri": "https://localhost:8080/",
          "height": 283
        },
        "id": "PPllshbFYkzV",
        "outputId": "684d10bf-484b-4230-de54-5f50f5f53eb6"
      },
      "source": [
        "metrics[['loss', 'val_loss']].plot()"
      ],
      "execution_count": null,
      "outputs": [
        {
          "output_type": "execute_result",
          "data": {
            "text/plain": [
              "<matplotlib.axes._subplots.AxesSubplot at 0x7f2d227c7e50>"
            ]
          },
          "metadata": {
            "tags": []
          },
          "execution_count": 44
        },
        {
          "output_type": "display_data",
          "data": {
            "image/png": "[encoded data removed]",
            "text/plain": [
              "<Figure size 432x288 with 1 Axes>"
            ]
          },
          "metadata": {
            "tags": [],
            "needs_background": "light"
          }
        }
      ]
    },
    {
      "cell_type": "code",
      "metadata": {
        "colab": {
          "base_uri": "https://localhost:8080/",
          "height": 283
        },
        "id": "ObO9JG5WYkzV",
        "outputId": "fac1bb1d-4494-46d5-83fb-1b4890f0e0e1"
      },
      "source": [
        "metrics[['accuracy', 'val_accuracy']].plot()"
      ],
      "execution_count": null,
      "outputs": [
        {
          "output_type": "execute_result",
          "data": {
            "text/plain": [
              "<matplotlib.axes._subplots.AxesSubplot at 0x7f2d22762110>"
            ]
          },
          "metadata": {
            "tags": []
          },
          "execution_count": 45
        },
        {
          "output_type": "display_data",
          "data": {
            "image/png": "[encoded data removed]",
            "text/plain": [
              "<Figure size 432x288 with 1 Axes>"
            ]
          },
          "metadata": {
            "tags": [],
            "needs_background": "light"
          }
        }
      ]
    },
    {
      "cell_type": "code",
      "metadata": {
        "colab": {
          "base_uri": "https://localhost:8080/"
        },
        "id": "L8j_vuuoYkzW",
        "outputId": "8646aa99-7ad0-4506-b471-6e15ce20815a"
      },
      "source": [
        "from sklearn.metrics import accuracy_score, confusion_matrix\n",
        "\n",
        "# predictions = model.predict_classes(x_test)\n",
        "# print(classification_report(y_true = y_test, y_pred = predictions))\n",
        "y_pred = model_ETT.predict(x_test_ETT)\n",
        "# confusion_matrix(y_test_ETT, y_pred)\n",
        "# accuracy_score(y_test_ETT, y_pred)"
      ],
      "execution_count": null,
      "outputs": [
        {
          "output_type": "stream",
          "text": [
            "/usr/local/lib/python3.7/dist-packages/tensorflow/python/keras/engine/training.py:2325: UserWarning: `Model.state_updates` will be removed in a future version. This property should not be used in TensorFlow 2.0, as `updates` are applied automatically.\n",
            "  warnings.warn('`Model.state_updates` will be removed in a future version. '\n"
          ],
          "name": "stderr"
        }
      ]
    },
    {
      "cell_type": "code",
      "metadata": {
        "colab": {
          "base_uri": "https://localhost:8080/"
        },
        "id": "RsEAo7YeYkzW",
        "outputId": "cfb31fa1-e71b-421d-a2d6-b914f1346e45"
      },
      "source": [
        "x_test_ETT.shape"
      ],
      "execution_count": null,
      "outputs": [
        {
          "output_type": "execute_result",
          "data": {
            "text/plain": [
              "(137, 224, 224, 1)"
            ]
          },
          "metadata": {
            "tags": []
          },
          "execution_count": 47
        }
      ]
    },
    {
      "cell_type": "code",
      "metadata": {
        "id": "7_9gQ_2EYkzW"
      },
      "source": [
        "img_ex = x_test_ETT[0].reshape(224, 224)"
      ],
      "execution_count": null,
      "outputs": []
    },
    {
      "cell_type": "code",
      "metadata": {
        "colab": {
          "base_uri": "https://localhost:8080/",
          "height": 287
        },
        "id": "HvEj3xIfYkzW",
        "outputId": "49c36b77-23c1-4a95-ab57-887b5de5558d"
      },
      "source": [
        "plt.imshow(img_ex, cmap=\"gray\")"
      ],
      "execution_count": null,
      "outputs": [
        {
          "output_type": "execute_result",
          "data": {
            "text/plain": [
              "<matplotlib.image.AxesImage at 0x7f2d226a0690>"
            ]
          },
          "metadata": {
            "tags": []
          },
          "execution_count": 49
        },
        {
          "output_type": "display_data",
          "data": {
            "image/png": "[encoded data removed]",
            "text/plain": [
              "<Figure size 432x288 with 1 Axes>"
            ]
          },
          "metadata": {
            "tags": [],
            "needs_background": "light"
          }
        }
      ]
    },
    {
      "cell_type": "code",
      "metadata": {
        "colab": {
          "base_uri": "https://localhost:8080/"
        },
        "id": "2CuOVtKuYkzX",
        "outputId": "e369cfa5-572f-4466-9f54-86bfd50fb79a"
      },
      "source": [
        "y_pred_ETT = model_ETT.predict(img_ex.reshape(1, 224, 224, 1))\n",
        "y_pred_ETT.astype(np.int32)"
      ],
      "execution_count": null,
      "outputs": [
        {
          "output_type": "execute_result",
          "data": {
            "text/plain": [
              "array([[0, 0, 1]], dtype=int32)"
            ]
          },
          "metadata": {
            "tags": []
          },
          "execution_count": 50
        }
      ]
    },
    {
      "cell_type": "code",
      "metadata": {
        "colab": {
          "base_uri": "https://localhost:8080/"
        },
        "id": "XjJl4F-sYkzX",
        "outputId": "86adbe77-2485-437c-86aa-ae0655271f57"
      },
      "source": [
        "y_pred_ETT.shape"
      ],
      "execution_count": null,
      "outputs": [
        {
          "output_type": "execute_result",
          "data": {
            "text/plain": [
              "(1, 3)"
            ]
          },
          "metadata": {
            "tags": []
          },
          "execution_count": 51
        }
      ]
    },
    {
      "cell_type": "markdown",
      "metadata": {
        "id": "4h1TyufBYkzY"
      },
      "source": [
        "## Model NGT: CNN "
      ]
    },
    {
      "cell_type": "code",
      "metadata": {
        "colab": {
          "base_uri": "https://localhost:8080/"
        },
        "id": "KmbCag64YkzY",
        "outputId": "390e1398-6606-4a41-ddae-a8bf869b533a"
      },
      "source": [
        "# build a sequential model\n",
        "\n",
        "model_NGT = Sequential()\n",
        "# model.add(InputLayer(input_shape = (650, 650, 1), batch_size = 32))\n",
        "\n",
        "# 1st conv block\n",
        "model_NGT.add(Conv2D(32, (3, 3), activation = 'relu', input_shape = (224, 224, 1))) #padding = 'same'     #or adding \"input_shape\" instead of defining a seperate \"InputLayer\" \n",
        "model_NGT.add(MaxPool2D(pool_size = (2, 2)))\n",
        "# 2nd conv block\n",
        "model_NGT.add(Conv2D(64, (3, 3), activation = 'relu'))\n",
        "model_NGT.add(MaxPool2D(pool_size = (2, 2)))\n",
        "# 3rd conv block\n",
        "model_NGT.add(Conv2D(64, (3, 3), activation = 'relu'))\n",
        "model_NGT.add(MaxPool2D(pool_size = (2, 2)))\n",
        "model_NGT.add(BatchNormalization())\n",
        "# ANN block\n",
        "model_NGT.add(Flatten())\n",
        "model_NGT.add(Dense(units = 128, activation = 'relu'))\n",
        "model_NGT.add(Dense(units = 128, activation = 'relu'))\n",
        "model_NGT.add(Dropout(0.5))\n",
        "# output layer\n",
        "model_NGT.add(Dense(units = 4, activation = 'softmax'))\n",
        " \n",
        "# compile model\n",
        "model_NGT.compile(loss = 'categorical_crossentropy', optimizer = \"adam\", metrics = ['accuracy']) #categorical_crossentropy\n",
        "\n",
        "model_NGT.summary()\n",
        "\n",
        "#Early Stopping\n",
        "from tensorflow.keras.callbacks import EarlyStopping\n",
        "early_stop = EarlyStopping(monitor = 'val_loss', patience = 1)\n",
        "\n",
        "\n",
        "# model.fit(x = Xtrain_scaled, y = ytrain, epochs = 1000, batch_size = 32, validation_split = 0.2) #callbacks = [early_stop])\n",
        "model_NGT.fit(x = x_train_added_NGT, y = y_train_added_NGT, epochs = 1000, batch_size = 32, validation_data = [x_test_NGT, y_test_NGT], callbacks = [early_stop]) #callbacks = [early_stop])"
      ],
      "execution_count": null,
      "outputs": [
        {
          "output_type": "stream",
          "text": [
            "Model: \"sequential_1\"\n",
            "_________________________________________________________________\n",
            "Layer (type)                 Output Shape              Param #   \n",
            "=================================================================\n",
            "conv2d_3 (Conv2D)            (None, 222, 222, 32)      320       \n",
            "_________________________________________________________________\n",
            "max_pooling2d_3 (MaxPooling2 (None, 111, 111, 32)      0         \n",
            "_________________________________________________________________\n",
            "conv2d_4 (Conv2D)            (None, 109, 109, 64)      18496     \n",
            "_________________________________________________________________\n",
            "max_pooling2d_4 (MaxPooling2 (None, 54, 54, 64)        0         \n",
            "_________________________________________________________________\n",
            "conv2d_5 (Conv2D)            (None, 52, 52, 64)        36928     \n",
            "_________________________________________________________________\n",
            "max_pooling2d_5 (MaxPooling2 (None, 26, 26, 64)        0         \n",
            "_________________________________________________________________\n",
            "batch_normalization_1 (Batch (None, 26, 26, 64)        256       \n",
            "_________________________________________________________________\n",
            "flatten_1 (Flatten)          (None, 43264)             0         \n",
            "_________________________________________________________________\n",
            "dense_3 (Dense)              (None, 128)               5537920   \n",
            "_________________________________________________________________\n",
            "dense_4 (Dense)              (None, 128)               16512     \n",
            "_________________________________________________________________\n",
            "dropout_1 (Dropout)          (None, 128)               0         \n",
            "_________________________________________________________________\n",
            "dense_5 (Dense)              (None, 4)                 516       \n",
            "=================================================================\n",
            "Total params: 5,610,948\n",
            "Trainable params: 5,610,820\n",
            "Non-trainable params: 128\n",
            "_________________________________________________________________\n",
            "Train on 5274 samples, validate on 137 samples\n",
            "Epoch 1/1000\n",
            "5274/5274 [==============================] - 8s 1ms/sample - loss: 3903.9856 - accuracy: 0.2146 - val_loss: 1070.1902 - val_accuracy: 0.0803\n"
          ],
          "name": "stdout"
        },
        {
          "output_type": "stream",
          "text": [
            "/usr/local/lib/python3.7/dist-packages/tensorflow/python/keras/engine/training.py:2325: UserWarning: `Model.state_updates` will be removed in a future version. This property should not be used in TensorFlow 2.0, as `updates` are applied automatically.\n",
            "  warnings.warn('`Model.state_updates` will be removed in a future version. '\n"
          ],
          "name": "stderr"
        },
        {
          "output_type": "stream",
          "text": [
            "Epoch 2/1000\n",
            "5274/5274 [==============================] - 8s 1ms/sample - loss: 73463.1492 - accuracy: 0.2114 - val_loss: 11488.2847 - val_accuracy: 0.0803\n"
          ],
          "name": "stdout"
        },
        {
          "output_type": "execute_result",
          "data": {
            "text/plain": [
              "<tensorflow.python.keras.callbacks.History at 0x7f50485a59d0>"
            ]
          },
          "metadata": {
            "tags": []
          },
          "execution_count": 53
        }
      ]
    },
    {
      "cell_type": "code",
      "metadata": {
        "colab": {
          "base_uri": "https://localhost:8080/"
        },
        "id": "wjgrIDagYkzZ",
        "outputId": "eab7c340-554c-4615-bef0-9eac10c42481"
      },
      "source": [
        "model_NGT.metrics_names"
      ],
      "execution_count": null,
      "outputs": [
        {
          "output_type": "execute_result",
          "data": {
            "text/plain": [
              "['loss', 'accuracy']"
            ]
          },
          "metadata": {
            "tags": []
          },
          "execution_count": 54
        }
      ]
    },
    {
      "cell_type": "code",
      "metadata": {
        "colab": {
          "base_uri": "https://localhost:8080/",
          "height": 110
        },
        "id": "1HFLOVuTYkzZ",
        "outputId": "17d844c4-9f19-4ee3-867a-ae9152fc5039"
      },
      "source": [
        "metrics = pd.DataFrame(model_NGT.history.history)\n",
        "metrics"
      ],
      "execution_count": null,
      "outputs": [
        {
          "output_type": "execute_result",
          "data": {
            "text/html": [
              "<div>\n",
              "<style scoped>\n",
              "    .dataframe tbody tr th:only-of-type {\n",
              "        vertical-align: middle;\n",
              "    }\n",
              "\n",
              "    .dataframe tbody tr th {\n",
              "        vertical-align: top;\n",
              "    }\n",
              "\n",
              "    .dataframe thead th {\n",
              "        text-align: right;\n",
              "    }\n",
              "</style>\n",
              "<table border=\"1\" class=\"dataframe\">\n",
              "  <thead>\n",
              "    <tr style=\"text-align: right;\">\n",
              "      <th></th>\n",
              "      <th>loss</th>\n",
              "      <th>accuracy</th>\n",
              "      <th>val_loss</th>\n",
              "      <th>val_accuracy</th>\n",
              "    </tr>\n",
              "  </thead>\n",
              "  <tbody>\n",
              "    <tr>\n",
              "      <th>0</th>\n",
              "      <td>3903.985608</td>\n",
              "      <td>0.214638</td>\n",
              "      <td>1070.190237</td>\n",
              "      <td>0.080292</td>\n",
              "    </tr>\n",
              "    <tr>\n",
              "      <th>1</th>\n",
              "      <td>73463.149249</td>\n",
              "      <td>0.211414</td>\n",
              "      <td>11488.284686</td>\n",
              "      <td>0.080292</td>\n",
              "    </tr>\n",
              "  </tbody>\n",
              "</table>\n",
              "</div>"
            ],
            "text/plain": [
              "           loss  accuracy      val_loss  val_accuracy\n",
              "0   3903.985608  0.214638   1070.190237      0.080292\n",
              "1  73463.149249  0.211414  11488.284686      0.080292"
            ]
          },
          "metadata": {
            "tags": []
          },
          "execution_count": 55
        }
      ]
    },
    {
      "cell_type": "code",
      "metadata": {
        "colab": {
          "base_uri": "https://localhost:8080/",
          "height": 283
        },
        "id": "w5iYUN_UYkzb",
        "outputId": "b3d287fb-c1a0-44ad-da4d-f282d686f24a"
      },
      "source": [
        "metrics[['loss', 'val_loss']].plot()"
      ],
      "execution_count": null,
      "outputs": [
        {
          "output_type": "execute_result",
          "data": {
            "text/plain": [
              "<matplotlib.axes._subplots.AxesSubplot at 0x7f50486180d0>"
            ]
          },
          "metadata": {
            "tags": []
          },
          "execution_count": 56
        },
        {
          "output_type": "display_data",
          "data": {
            "image/png": "[encoded data removed]",
            "text/plain": [
              "<Figure size 432x288 with 1 Axes>"
            ]
          },
          "metadata": {
            "tags": [],
            "needs_background": "light"
          }
        }
      ]
    },
    {
      "cell_type": "code",
      "metadata": {
        "colab": {
          "base_uri": "https://localhost:8080/",
          "height": 285
        },
        "id": "ra8_ESKBYkzc",
        "outputId": "5b6d1572-2d9f-4e53-bebd-7ed50cf13c8c"
      },
      "source": [
        "metrics[['accuracy', 'val_accuracy']].plot()"
      ],
      "execution_count": null,
      "outputs": [
        {
          "output_type": "execute_result",
          "data": {
            "text/plain": [
              "<matplotlib.axes._subplots.AxesSubplot at 0x7f506009a550>"
            ]
          },
          "metadata": {
            "tags": []
          },
          "execution_count": 57
        },
        {
          "output_type": "display_data",
          "data": {
            "image/png": "[encoded data removed]",
            "text/plain": [
              "<Figure size 432x288 with 1 Axes>"
            ]
          },
          "metadata": {
            "tags": [],
            "needs_background": "light"
          }
        }
      ]
    },
    {
      "cell_type": "code",
      "metadata": {
        "colab": {
          "base_uri": "https://localhost:8080/"
        },
        "id": "xOT-x-NlYkzd",
        "outputId": "add229ef-6c48-4e63-f969-8ecb5f55431d"
      },
      "source": [
        "from sklearn.metrics import accuracy_score, confusion_matrix\n",
        "\n",
        "# predictions = model.predict_classes(x_test)\n",
        "# print(classification_report(y_true = y_test, y_pred = predictions))\n",
        "y_pred = model_NGT.predict(x_test_NGT)\n",
        "# confusion_matrix(y_test, y_pred)\n",
        "# accuracy_score(y_test, y_pred)"
      ],
      "execution_count": null,
      "outputs": [
        {
          "output_type": "stream",
          "text": [
            "/usr/local/lib/python3.7/dist-packages/tensorflow/python/keras/engine/training.py:2325: UserWarning: `Model.state_updates` will be removed in a future version. This property should not be used in TensorFlow 2.0, as `updates` are applied automatically.\n",
            "  warnings.warn('`Model.state_updates` will be removed in a future version. '\n"
          ],
          "name": "stderr"
        }
      ]
    },
    {
      "cell_type": "code",
      "metadata": {
        "colab": {
          "base_uri": "https://localhost:8080/"
        },
        "id": "zgCoV8lxYkzd",
        "outputId": "4576c19c-5ce6-4ed7-d6b6-e490d23ff82d"
      },
      "source": [
        "x_test_NGT.shape"
      ],
      "execution_count": null,
      "outputs": [
        {
          "output_type": "execute_result",
          "data": {
            "text/plain": [
              "(137, 224, 224, 1)"
            ]
          },
          "metadata": {
            "tags": []
          },
          "execution_count": 59
        }
      ]
    },
    {
      "cell_type": "code",
      "metadata": {
        "id": "4yTklhOBYkze"
      },
      "source": [
        "img_ex = x_test_NGT[0].reshape(224, 224)"
      ],
      "execution_count": null,
      "outputs": []
    },
    {
      "cell_type": "code",
      "metadata": {
        "colab": {
          "base_uri": "https://localhost:8080/",
          "height": 287
        },
        "id": "aoxPt7YGYkze",
        "outputId": "83804f15-b330-44e1-ac83-18f5875820a6"
      },
      "source": [
        "plt.imshow(img_ex, cmap=\"gray\")"
      ],
      "execution_count": null,
      "outputs": [
        {
          "output_type": "execute_result",
          "data": {
            "text/plain": [
              "<matplotlib.image.AxesImage at 0x7f5048330750>"
            ]
          },
          "metadata": {
            "tags": []
          },
          "execution_count": 61
        },
        {
          "output_type": "display_data",
          "data": {
            "image/png": "[encoded data removed]",
            "text/plain": [
              "<Figure size 432x288 with 1 Axes>"
            ]
          },
          "metadata": {
            "tags": [],
            "needs_background": "light"
          }
        }
      ]
    },
    {
      "cell_type": "code",
      "metadata": {
        "colab": {
          "base_uri": "https://localhost:8080/"
        },
        "id": "OPBADyyrYkzf",
        "outputId": "2575562d-bcf6-4e7e-edf6-b08efc5f7bd8"
      },
      "source": [
        "y_pred_NGT = model_NGT.predict(img_ex.reshape(1, 224, 224, 1))\n",
        "y_pred_NGT.astype(np.int32)"
      ],
      "execution_count": null,
      "outputs": [
        {
          "output_type": "execute_result",
          "data": {
            "text/plain": [
              "array([[0, 0, 0, 1]], dtype=int32)"
            ]
          },
          "metadata": {
            "tags": []
          },
          "execution_count": 62
        }
      ]
    },
    {
      "cell_type": "code",
      "metadata": {
        "colab": {
          "base_uri": "https://localhost:8080/"
        },
        "id": "yZ1JvWIWYkzf",
        "outputId": "fbaca21a-e0c9-46bb-f65e-9db79f32932e"
      },
      "source": [
        "y_pred_NGT.shape"
      ],
      "execution_count": null,
      "outputs": [
        {
          "output_type": "execute_result",
          "data": {
            "text/plain": [
              "(1, 4)"
            ]
          },
          "metadata": {
            "tags": []
          },
          "execution_count": 63
        }
      ]
    },
    {
      "cell_type": "markdown",
      "metadata": {
        "id": "9k4SxfEZYkzf"
      },
      "source": [
        "## Model CVC: CNN "
      ]
    },
    {
      "cell_type": "code",
      "metadata": {
        "colab": {
          "base_uri": "https://localhost:8080/"
        },
        "id": "itHBMQjoYkzg",
        "outputId": "30c03206-42f4-4ee3-b015-23c073fded61"
      },
      "source": [
        "# build a sequential model\n",
        "\n",
        "model_CVC = Sequential()\n",
        "# model.add(InputLayer(input_shape = (650, 650, 1), batch_size = 32))\n",
        "\n",
        "# 1st conv block\n",
        "model_CVC.add(Conv2D(32, (3, 3), activation = 'relu', input_shape = (224, 224, 1))) #padding = 'same'     #or adding \"input_shape\" instead of defining a seperate \"InputLayer\" \n",
        "model_CVC.add(MaxPool2D(pool_size = (2, 2)))\n",
        "# 2nd conv block\n",
        "model_CVC.add(Conv2D(64, (3, 3), activation = 'relu'))\n",
        "model_CVC.add(MaxPool2D(pool_size = (2, 2)))\n",
        "# 3rd conv block\n",
        "model_CVC.add(Conv2D(64, (3, 3), activation = 'relu'))\n",
        "model_CVC.add(MaxPool2D(pool_size = (2, 2)))\n",
        "model_CVC.add(BatchNormalization())\n",
        "# ANN block\n",
        "model_CVC.add(Flatten())\n",
        "model_CVC.add(Dense(units = 128, activation = 'relu'))\n",
        "model_CVC.add(Dense(units = 128, activation = 'relu'))\n",
        "model_CVC.add(Dropout(0.5))\n",
        "# output layer\n",
        "model_CVC.add(Dense(units = 3, activation = 'softmax'))\n",
        " \n",
        "# compile model\n",
        "model_CVC.compile(loss = 'categorical_crossentropy', optimizer = \"adam\", metrics = ['accuracy']) #categorical_crossentropy\n",
        "\n",
        "model_CVC.summary()\n",
        "\n",
        "#Early Stopping\n",
        "from tensorflow.keras.callbacks import EarlyStopping\n",
        "early_stop = EarlyStopping(monitor = 'val_loss', patience = 1)\n",
        "\n",
        "\n",
        "# model.fit(x = Xtrain_scaled, y = ytrain, epochs = 1000, batch_size = 32, validation_split = 0.2) #callbacks = [early_stop])\n",
        "model_CVC.fit(x = x_train_added_CVC, y = y_train_added_CVC, epochs = 1000, batch_size = 32, validation_data = [x_test_CVC, y_test_CVC], callbacks = [early_stop]) #callbacks = [early_stop])"
      ],
      "execution_count": null,
      "outputs": [
        {
          "output_type": "stream",
          "text": [
            "Model: \"sequential_2\"\n",
            "_________________________________________________________________\n",
            "Layer (type)                 Output Shape              Param #   \n",
            "=================================================================\n",
            "conv2d_6 (Conv2D)            (None, 222, 222, 32)      320       \n",
            "_________________________________________________________________\n",
            "max_pooling2d_6 (MaxPooling2 (None, 111, 111, 32)      0         \n",
            "_________________________________________________________________\n",
            "conv2d_7 (Conv2D)            (None, 109, 109, 64)      18496     \n",
            "_________________________________________________________________\n",
            "max_pooling2d_7 (MaxPooling2 (None, 54, 54, 64)        0         \n",
            "_________________________________________________________________\n",
            "conv2d_8 (Conv2D)            (None, 52, 52, 64)        36928     \n",
            "_________________________________________________________________\n",
            "max_pooling2d_8 (MaxPooling2 (None, 26, 26, 64)        0         \n",
            "_________________________________________________________________\n",
            "batch_normalization_2 (Batch (None, 26, 26, 64)        256       \n",
            "_________________________________________________________________\n",
            "flatten_2 (Flatten)          (None, 43264)             0         \n",
            "_________________________________________________________________\n",
            "dense_6 (Dense)              (None, 128)               5537920   \n",
            "_________________________________________________________________\n",
            "dense_7 (Dense)              (None, 128)               16512     \n",
            "_________________________________________________________________\n",
            "dropout_2 (Dropout)          (None, 128)               0         \n",
            "_________________________________________________________________\n",
            "dense_8 (Dense)              (None, 3)                 387       \n",
            "=================================================================\n",
            "Total params: 5,610,819\n",
            "Trainable params: 5,610,691\n",
            "Non-trainable params: 128\n",
            "_________________________________________________________________\n",
            "Train on 5274 samples, validate on 137 samples\n",
            "Epoch 1/1000\n",
            "5248/5274 [============================>.] - ETA: 0s - loss: 19.5008 - accuracy: 0.5183"
          ],
          "name": "stdout"
        },
        {
          "output_type": "stream",
          "text": [
            "/usr/local/lib/python3.7/dist-packages/tensorflow/python/keras/engine/training.py:2325: UserWarning: `Model.state_updates` will be removed in a future version. This property should not be used in TensorFlow 2.0, as `updates` are applied automatically.\n",
            "  warnings.warn('`Model.state_updates` will be removed in a future version. '\n"
          ],
          "name": "stderr"
        },
        {
          "output_type": "stream",
          "text": [
            "5274/5274 [==============================] - 8s 1ms/sample - loss: 20.4918 - accuracy: 0.5184 - val_loss: 117.0284 - val_accuracy: 0.5693\n",
            "Epoch 2/1000\n",
            "5274/5274 [==============================] - 8s 1ms/sample - loss: 1206.7003 - accuracy: 0.4729 - val_loss: 1745.2897 - val_accuracy: 0.5693\n"
          ],
          "name": "stdout"
        },
        {
          "output_type": "execute_result",
          "data": {
            "text/plain": [
              "<tensorflow.python.keras.callbacks.History at 0x7f5048137b50>"
            ]
          },
          "metadata": {
            "tags": []
          },
          "execution_count": 64
        }
      ]
    },
    {
      "cell_type": "code",
      "metadata": {
        "colab": {
          "base_uri": "https://localhost:8080/"
        },
        "id": "HvkKFEmYYkzg",
        "outputId": "bde83f94-7f37-43fb-ea3c-1f26ddaa8c59"
      },
      "source": [
        "model_CVC.metrics_names"
      ],
      "execution_count": null,
      "outputs": [
        {
          "output_type": "execute_result",
          "data": {
            "text/plain": [
              "['loss', 'accuracy']"
            ]
          },
          "metadata": {
            "tags": []
          },
          "execution_count": 65
        }
      ]
    },
    {
      "cell_type": "code",
      "metadata": {
        "colab": {
          "base_uri": "https://localhost:8080/",
          "height": 110
        },
        "id": "iIWjDdZiYkzg",
        "outputId": "dbb451f9-fcd7-497a-ae68-e65513934cc8"
      },
      "source": [
        "metrics = pd.DataFrame(model_CVC.history.history)\n",
        "metrics"
      ],
      "execution_count": null,
      "outputs": [
        {
          "output_type": "execute_result",
          "data": {
            "text/html": [
              "<div>\n",
              "<style scoped>\n",
              "    .dataframe tbody tr th:only-of-type {\n",
              "        vertical-align: middle;\n",
              "    }\n",
              "\n",
              "    .dataframe tbody tr th {\n",
              "        vertical-align: top;\n",
              "    }\n",
              "\n",
              "    .dataframe thead th {\n",
              "        text-align: right;\n",
              "    }\n",
              "</style>\n",
              "<table border=\"1\" class=\"dataframe\">\n",
              "  <thead>\n",
              "    <tr style=\"text-align: right;\">\n",
              "      <th></th>\n",
              "      <th>loss</th>\n",
              "      <th>accuracy</th>\n",
              "      <th>val_loss</th>\n",
              "      <th>val_accuracy</th>\n",
              "    </tr>\n",
              "  </thead>\n",
              "  <tbody>\n",
              "    <tr>\n",
              "      <th>0</th>\n",
              "      <td>20.491757</td>\n",
              "      <td>0.518392</td>\n",
              "      <td>117.028420</td>\n",
              "      <td>0.569343</td>\n",
              "    </tr>\n",
              "    <tr>\n",
              "      <th>1</th>\n",
              "      <td>1206.700313</td>\n",
              "      <td>0.472886</td>\n",
              "      <td>1745.289688</td>\n",
              "      <td>0.569343</td>\n",
              "    </tr>\n",
              "  </tbody>\n",
              "</table>\n",
              "</div>"
            ],
            "text/plain": [
              "          loss  accuracy     val_loss  val_accuracy\n",
              "0    20.491757  0.518392   117.028420      0.569343\n",
              "1  1206.700313  0.472886  1745.289688      0.569343"
            ]
          },
          "metadata": {
            "tags": []
          },
          "execution_count": 66
        }
      ]
    },
    {
      "cell_type": "code",
      "metadata": {
        "colab": {
          "base_uri": "https://localhost:8080/",
          "height": 283
        },
        "id": "jIzGYF95Ykzg",
        "outputId": "7f9792a7-f4c4-4ad0-fa16-710e97875d5e"
      },
      "source": [
        "metrics[['loss', 'val_loss']].plot()"
      ],
      "execution_count": null,
      "outputs": [
        {
          "output_type": "execute_result",
          "data": {
            "text/plain": [
              "<matplotlib.axes._subplots.AxesSubplot at 0x7f5048292b10>"
            ]
          },
          "metadata": {
            "tags": []
          },
          "execution_count": 67
        },
        {
          "output_type": "display_data",
          "data": {
            "image/png": "[encoded data removed]",
            "text/plain": [
              "<Figure size 432x288 with 1 Axes>"
            ]
          },
          "metadata": {
            "tags": [],
            "needs_background": "light"
          }
        }
      ]
    },
    {
      "cell_type": "code",
      "metadata": {
        "colab": {
          "base_uri": "https://localhost:8080/",
          "height": 283
        },
        "id": "D7SeJfGjYkzh",
        "outputId": "d36ad220-04e1-44db-f105-fa3a7fc53182"
      },
      "source": [
        "metrics[['accuracy', 'val_accuracy']].plot()"
      ],
      "execution_count": null,
      "outputs": [
        {
          "output_type": "execute_result",
          "data": {
            "text/plain": [
              "<matplotlib.axes._subplots.AxesSubplot at 0x7f50162fa690>"
            ]
          },
          "metadata": {
            "tags": []
          },
          "execution_count": 68
        },
        {
          "output_type": "display_data",
          "data": {
            "image/png": "[encoded data removed]",
            "text/plain": [
              "<Figure size 432x288 with 1 Axes>"
            ]
          },
          "metadata": {
            "tags": [],
            "needs_background": "light"
          }
        }
      ]
    },
    {
      "cell_type": "code",
      "metadata": {
        "colab": {
          "base_uri": "https://localhost:8080/"
        },
        "id": "AwNbJvwlYkzh",
        "outputId": "b04b93ab-1449-4fd9-b007-44dd81b569d6"
      },
      "source": [
        "from sklearn.metrics import accuracy_score, confusion_matrix\n",
        "\n",
        "# predictions = model.predict_classes(x_test)\n",
        "# print(classification_report(y_true = y_test, y_pred = predictions))\n",
        "y_pred = model_CVC.predict(x_test_CVC)\n",
        "# confusion_matrix(y_test, y_pred)\n",
        "# accuracy_score(y_test, y_pred)"
      ],
      "execution_count": null,
      "outputs": [
        {
          "output_type": "stream",
          "text": [
            "/usr/local/lib/python3.7/dist-packages/tensorflow/python/keras/engine/training.py:2325: UserWarning: `Model.state_updates` will be removed in a future version. This property should not be used in TensorFlow 2.0, as `updates` are applied automatically.\n",
            "  warnings.warn('`Model.state_updates` will be removed in a future version. '\n"
          ],
          "name": "stderr"
        }
      ]
    },
    {
      "cell_type": "code",
      "metadata": {
        "colab": {
          "base_uri": "https://localhost:8080/"
        },
        "id": "ZFe11ae5Ykzh",
        "outputId": "730818d8-014e-4c4e-a275-0a37ad3f412e"
      },
      "source": [
        "x_test_CVC.shape"
      ],
      "execution_count": null,
      "outputs": [
        {
          "output_type": "execute_result",
          "data": {
            "text/plain": [
              "(137, 224, 224, 1)"
            ]
          },
          "metadata": {
            "tags": []
          },
          "execution_count": 70
        }
      ]
    },
    {
      "cell_type": "code",
      "metadata": {
        "id": "2CTJWe25Ykzh"
      },
      "source": [
        "img_ex = x_test_CVC[0].reshape(224, 224)"
      ],
      "execution_count": null,
      "outputs": []
    },
    {
      "cell_type": "code",
      "metadata": {
        "colab": {
          "base_uri": "https://localhost:8080/",
          "height": 287
        },
        "id": "6v-rdfcwYkzi",
        "outputId": "a47c76d1-6bc2-4eda-aff8-23adb211aa15"
      },
      "source": [
        "plt.imshow(img_ex, cmap=\"gray\")"
      ],
      "execution_count": null,
      "outputs": [
        {
          "output_type": "execute_result",
          "data": {
            "text/plain": [
              "<matplotlib.image.AxesImage at 0x7f5016293950>"
            ]
          },
          "metadata": {
            "tags": []
          },
          "execution_count": 72
        },
        {
          "output_type": "display_data",
          "data": {
            "image/png": "[encoded data removed]",
            "text/plain": [
              "<Figure size 432x288 with 1 Axes>"
            ]
          },
          "metadata": {
            "tags": [],
            "needs_background": "light"
          }
        }
      ]
    },
    {
      "cell_type": "code",
      "metadata": {
        "colab": {
          "base_uri": "https://localhost:8080/"
        },
        "id": "RxjGe55WYkzi",
        "outputId": "f4988b24-0f62-4c7c-ae58-73ffb20ceca1"
      },
      "source": [
        "y_pred_CVC = model_CVC.predict(img_ex.reshape(1, 224, 224, 1))\n",
        "y_pred_CVC.astype(np.int32)"
      ],
      "execution_count": null,
      "outputs": [
        {
          "output_type": "execute_result",
          "data": {
            "text/plain": [
              "array([[0, 0, 1]], dtype=int32)"
            ]
          },
          "metadata": {
            "tags": []
          },
          "execution_count": 73
        }
      ]
    },
    {
      "cell_type": "code",
      "metadata": {
        "colab": {
          "base_uri": "https://localhost:8080/"
        },
        "id": "5Au4JNpHYkzi",
        "outputId": "d30b124e-c5b4-466d-8e45-32bbca751a93"
      },
      "source": [
        "y_pred_CVC.shape"
      ],
      "execution_count": null,
      "outputs": [
        {
          "output_type": "execute_result",
          "data": {
            "text/plain": [
              "(1, 3)"
            ]
          },
          "metadata": {
            "tags": []
          },
          "execution_count": 74
        }
      ]
    },
    {
      "cell_type": "markdown",
      "metadata": {
        "id": "wkAL0Ia0Ykzj"
      },
      "source": [
        "## Model SG: CNN "
      ]
    },
    {
      "cell_type": "code",
      "metadata": {
        "colab": {
          "base_uri": "https://localhost:8080/"
        },
        "id": "OablJ5mjYkzj",
        "outputId": "a68f28cb-36cc-4c16-c415-4fbbcdd7f65d"
      },
      "source": [
        "# build a sequential model\n",
        "\n",
        "model_SG = Sequential()\n",
        "# model.add(InputLayer(input_shape = (650, 650, 1), batch_size = 32))\n",
        "\n",
        "# 1st conv block\n",
        "model_SG.add(Conv2D(32, (3, 3), activation = 'relu', input_shape = (224, 224, 1))) #padding = 'same'     #or adding \"input_shape\" instead of defining a seperate \"InputLayer\" \n",
        "model_SG.add(MaxPool2D(pool_size = (2, 2)))\n",
        "# 2nd conv block\n",
        "model_SG.add(Conv2D(64, (3, 3), activation = 'relu'))\n",
        "model_SG.add(MaxPool2D(pool_size = (2, 2)))\n",
        "# 3rd conv block\n",
        "model_SG.add(Conv2D(64, (3, 3), activation = 'relu'))\n",
        "model_SG.add(MaxPool2D(pool_size = (2, 2)))\n",
        "model_SG.add(BatchNormalization())\n",
        "# ANN block\n",
        "model_SG.add(Flatten())\n",
        "model_SG.add(Dense(units = 128, activation = 'relu'))\n",
        "model_SG.add(Dense(units = 128, activation = 'relu'))\n",
        "model_SG.add(Dropout(0.5))\n",
        "# output layer\n",
        "model_SG.add(Dense(units = 1, activation = 'sigmoid'))\n",
        " \n",
        "# compile model\n",
        "model_SG.compile(loss = 'binary_crossentropy', optimizer = \"adam\", metrics = ['accuracy']) #categorical_crossentropy\n",
        "\n",
        "model_SG.summary()\n",
        "\n",
        "#Early Stopping\n",
        "from tensorflow.keras.callbacks import EarlyStopping\n",
        "early_stop = EarlyStopping(monitor = 'val_loss', patience = 1)\n",
        "\n",
        "\n",
        "# model.fit(x = Xtrain_scaled, y = ytrain, epochs = 1000, batch_size = 32, validation_split = 0.2) #callbacks = [early_stop])\n",
        "model_SG.fit(x = x_train_added_SG, y = y_train_added_SG, epochs = 1000, batch_size = 32, validation_data = [x_test_SG, y_test_SG], callbacks = [early_stop]) #callbacks = [early_stop])"
      ],
      "execution_count": null,
      "outputs": [
        {
          "output_type": "stream",
          "text": [
            "Model: \"sequential_3\"\n",
            "_________________________________________________________________\n",
            "Layer (type)                 Output Shape              Param #   \n",
            "=================================================================\n",
            "conv2d_9 (Conv2D)            (None, 222, 222, 32)      320       \n",
            "_________________________________________________________________\n",
            "max_pooling2d_9 (MaxPooling2 (None, 111, 111, 32)      0         \n",
            "_________________________________________________________________\n",
            "conv2d_10 (Conv2D)           (None, 109, 109, 64)      18496     \n",
            "_________________________________________________________________\n",
            "max_pooling2d_10 (MaxPooling (None, 54, 54, 64)        0         \n",
            "_________________________________________________________________\n",
            "conv2d_11 (Conv2D)           (None, 52, 52, 64)        36928     \n",
            "_________________________________________________________________\n",
            "max_pooling2d_11 (MaxPooling (None, 26, 26, 64)        0         \n",
            "_________________________________________________________________\n",
            "batch_normalization_3 (Batch (None, 26, 26, 64)        256       \n",
            "_________________________________________________________________\n",
            "flatten_3 (Flatten)          (None, 43264)             0         \n",
            "_________________________________________________________________\n",
            "dense_9 (Dense)              (None, 128)               5537920   \n",
            "_________________________________________________________________\n",
            "dense_10 (Dense)             (None, 128)               16512     \n",
            "_________________________________________________________________\n",
            "dropout_3 (Dropout)          (None, 128)               0         \n",
            "_________________________________________________________________\n",
            "dense_11 (Dense)             (None, 1)                 129       \n",
            "=================================================================\n",
            "Total params: 5,610,561\n",
            "Trainable params: 5,610,433\n",
            "Non-trainable params: 128\n",
            "_________________________________________________________________\n",
            "Train on 5274 samples, validate on 137 samples\n",
            "Epoch 1/1000\n",
            "5274/5274 [==============================] - ETA: 0s - loss: 0.1819 - accuracy: 0.9680"
          ],
          "name": "stdout"
        },
        {
          "output_type": "stream",
          "text": [
            "/usr/local/lib/python3.7/dist-packages/tensorflow/python/keras/engine/training.py:2325: UserWarning: `Model.state_updates` will be removed in a future version. This property should not be used in TensorFlow 2.0, as `updates` are applied automatically.\n",
            "  warnings.warn('`Model.state_updates` will be removed in a future version. '\n"
          ],
          "name": "stderr"
        },
        {
          "output_type": "stream",
          "text": [
            "5274/5274 [==============================] - 8s 2ms/sample - loss: 0.1819 - accuracy: 0.9680 - val_loss: 0.1179 - val_accuracy: 0.9854\n",
            "Epoch 2/1000\n",
            "5274/5274 [==============================] - 7s 1ms/sample - loss: 0.1483 - accuracy: 0.9697 - val_loss: 0.0779 - val_accuracy: 0.9854\n",
            "Epoch 3/1000\n",
            "5274/5274 [==============================] - 7s 1ms/sample - loss: 0.1451 - accuracy: 0.9697 - val_loss: 0.1431 - val_accuracy: 0.9854\n"
          ],
          "name": "stdout"
        },
        {
          "output_type": "execute_result",
          "data": {
            "text/plain": [
              "<tensorflow.python.keras.callbacks.History at 0x7f50161f33d0>"
            ]
          },
          "metadata": {
            "tags": []
          },
          "execution_count": 75
        }
      ]
    },
    {
      "cell_type": "code",
      "metadata": {
        "colab": {
          "base_uri": "https://localhost:8080/"
        },
        "id": "wRRq7doeYkzk",
        "outputId": "717433b3-9661-4473-f62c-c9f7d05e5af3"
      },
      "source": [
        "model_SG.metrics_names"
      ],
      "execution_count": null,
      "outputs": [
        {
          "output_type": "execute_result",
          "data": {
            "text/plain": [
              "['loss', 'accuracy']"
            ]
          },
          "metadata": {
            "tags": []
          },
          "execution_count": 76
        }
      ]
    },
    {
      "cell_type": "code",
      "metadata": {
        "colab": {
          "base_uri": "https://localhost:8080/",
          "height": 141
        },
        "id": "OPuTEMaPYkzk",
        "outputId": "21209ab5-9640-40c7-a6f7-b4ad8abf7dd0"
      },
      "source": [
        "metrics = pd.DataFrame(model_SG.history.history)\n",
        "metrics"
      ],
      "execution_count": null,
      "outputs": [
        {
          "output_type": "execute_result",
          "data": {
            "text/html": [
              "<div>\n",
              "<style scoped>\n",
              "    .dataframe tbody tr th:only-of-type {\n",
              "        vertical-align: middle;\n",
              "    }\n",
              "\n",
              "    .dataframe tbody tr th {\n",
              "        vertical-align: top;\n",
              "    }\n",
              "\n",
              "    .dataframe thead th {\n",
              "        text-align: right;\n",
              "    }\n",
              "</style>\n",
              "<table border=\"1\" class=\"dataframe\">\n",
              "  <thead>\n",
              "    <tr style=\"text-align: right;\">\n",
              "      <th></th>\n",
              "      <th>loss</th>\n",
              "      <th>accuracy</th>\n",
              "      <th>val_loss</th>\n",
              "      <th>val_accuracy</th>\n",
              "    </tr>\n",
              "  </thead>\n",
              "  <tbody>\n",
              "    <tr>\n",
              "      <th>0</th>\n",
              "      <td>0.181864</td>\n",
              "      <td>0.967956</td>\n",
              "      <td>0.117947</td>\n",
              "      <td>0.985401</td>\n",
              "    </tr>\n",
              "    <tr>\n",
              "      <th>1</th>\n",
              "      <td>0.148303</td>\n",
              "      <td>0.969662</td>\n",
              "      <td>0.077859</td>\n",
              "      <td>0.985401</td>\n",
              "    </tr>\n",
              "    <tr>\n",
              "      <th>2</th>\n",
              "      <td>0.145081</td>\n",
              "      <td>0.969662</td>\n",
              "      <td>0.143082</td>\n",
              "      <td>0.985401</td>\n",
              "    </tr>\n",
              "  </tbody>\n",
              "</table>\n",
              "</div>"
            ],
            "text/plain": [
              "       loss  accuracy  val_loss  val_accuracy\n",
              "0  0.181864  0.967956  0.117947      0.985401\n",
              "1  0.148303  0.969662  0.077859      0.985401\n",
              "2  0.145081  0.969662  0.143082      0.985401"
            ]
          },
          "metadata": {
            "tags": []
          },
          "execution_count": 77
        }
      ]
    },
    {
      "cell_type": "code",
      "metadata": {
        "colab": {
          "base_uri": "https://localhost:8080/",
          "height": 283
        },
        "id": "mnT2DD4KYkzk",
        "outputId": "c6ba7c9e-9713-43a4-a7dd-29ae15a89a4e"
      },
      "source": [
        "metrics[['loss', 'val_loss']].plot()"
      ],
      "execution_count": null,
      "outputs": [
        {
          "output_type": "execute_result",
          "data": {
            "text/plain": [
              "<matplotlib.axes._subplots.AxesSubplot at 0x7f500c7e63d0>"
            ]
          },
          "metadata": {
            "tags": []
          },
          "execution_count": 78
        },
        {
          "output_type": "display_data",
          "data": {
            "image/png": "[encoded data removed]",
            "text/plain": [
              "<Figure size 432x288 with 1 Axes>"
            ]
          },
          "metadata": {
            "tags": [],
            "needs_background": "light"
          }
        }
      ]
    },
    {
      "cell_type": "code",
      "metadata": {
        "colab": {
          "base_uri": "https://localhost:8080/",
          "height": 283
        },
        "id": "qt3qtrNOYkzl",
        "outputId": "16cafb1f-13d7-4e26-e653-a15089567b24"
      },
      "source": [
        "metrics[['accuracy', 'val_accuracy']].plot()"
      ],
      "execution_count": null,
      "outputs": [
        {
          "output_type": "execute_result",
          "data": {
            "text/plain": [
              "<matplotlib.axes._subplots.AxesSubplot at 0x7f500c75a590>"
            ]
          },
          "metadata": {
            "tags": []
          },
          "execution_count": 79
        },
        {
          "output_type": "display_data",
          "data": {
            "image/png": "[encoded data removed]",
            "text/plain": [
              "<Figure size 432x288 with 1 Axes>"
            ]
          },
          "metadata": {
            "tags": [],
            "needs_background": "light"
          }
        }
      ]
    },
    {
      "cell_type": "code",
      "metadata": {
        "colab": {
          "base_uri": "https://localhost:8080/"
        },
        "id": "xy52x4tpYkzl",
        "outputId": "6c057c08-81b9-40f7-a261-62e72ed0698d"
      },
      "source": [
        "from sklearn.metrics import accuracy_score, confusion_matrix\n",
        "\n",
        "# predictions = model.predict_classes(x_test)\n",
        "# print(classification_report(y_true = y_test, y_pred = predictions))\n",
        "y_pred = model_SG.predict(x_test_SG)\n",
        "# confusion_matrix(y_test, y_pred)\n",
        "# accuracy_score(y_test, y_pred)"
      ],
      "execution_count": null,
      "outputs": [
        {
          "output_type": "stream",
          "text": [
            "/usr/local/lib/python3.7/dist-packages/tensorflow/python/keras/engine/training.py:2325: UserWarning: `Model.state_updates` will be removed in a future version. This property should not be used in TensorFlow 2.0, as `updates` are applied automatically.\n",
            "  warnings.warn('`Model.state_updates` will be removed in a future version. '\n"
          ],
          "name": "stderr"
        }
      ]
    },
    {
      "cell_type": "code",
      "metadata": {
        "colab": {
          "base_uri": "https://localhost:8080/"
        },
        "id": "dFHNUcD0Ykzl",
        "outputId": "fa56754e-43c0-4090-c5ea-413b9e7d8b74"
      },
      "source": [
        "x_test_SG.shape"
      ],
      "execution_count": null,
      "outputs": [
        {
          "output_type": "execute_result",
          "data": {
            "text/plain": [
              "(137, 224, 224, 1)"
            ]
          },
          "metadata": {
            "tags": []
          },
          "execution_count": 81
        }
      ]
    },
    {
      "cell_type": "code",
      "metadata": {
        "id": "v-q03Rh_Ykzl"
      },
      "source": [
        "img_ex = x_test_SG[0].reshape(224, 224)"
      ],
      "execution_count": null,
      "outputs": []
    },
    {
      "cell_type": "code",
      "metadata": {
        "colab": {
          "base_uri": "https://localhost:8080/",
          "height": 287
        },
        "id": "BFw502r6Ykzm",
        "outputId": "ac863f1a-2402-4d41-acca-9c9d0a1c4c2f"
      },
      "source": [
        "plt.imshow(img_ex, cmap=\"gray\")"
      ],
      "execution_count": null,
      "outputs": [
        {
          "output_type": "execute_result",
          "data": {
            "text/plain": [
              "<matplotlib.image.AxesImage at 0x7f500c691710>"
            ]
          },
          "metadata": {
            "tags": []
          },
          "execution_count": 83
        },
        {
          "output_type": "display_data",
          "data": {
            "image/png": "[encoded data removed]",
            "text/plain": [
              "<Figure size 432x288 with 1 Axes>"
            ]
          },
          "metadata": {
            "tags": [],
            "needs_background": "light"
          }
        }
      ]
    },
    {
      "cell_type": "code",
      "metadata": {
        "colab": {
          "base_uri": "https://localhost:8080/"
        },
        "id": "MK_r9t_WYkzm",
        "outputId": "ee3e0734-e624-4d9d-9e39-ae0ff8945f7d"
      },
      "source": [
        "y_pred_SG = model_SG.predict(img_ex.reshape(1, 224, 224, 1))\n",
        "y_pred_SG.astype(np.int32)"
      ],
      "execution_count": null,
      "outputs": [
        {
          "output_type": "execute_result",
          "data": {
            "text/plain": [
              "array([[0]], dtype=int32)"
            ]
          },
          "metadata": {
            "tags": []
          },
          "execution_count": 84
        }
      ]
    },
    {
      "cell_type": "code",
      "metadata": {
        "colab": {
          "base_uri": "https://localhost:8080/"
        },
        "id": "wkCjeRSWYkzm",
        "outputId": "354377f6-93a2-4215-fb78-079bc2f6783d"
      },
      "source": [
        "y_pred_SG.shape"
      ],
      "execution_count": null,
      "outputs": [
        {
          "output_type": "execute_result",
          "data": {
            "text/plain": [
              "(1, 1)"
            ]
          },
          "metadata": {
            "tags": []
          },
          "execution_count": 85
        }
      ]
    },
    {
      "cell_type": "markdown",
      "metadata": {
        "id": "xjtXSwjlYkzm"
      },
      "source": [
        "## Results:"
      ]
    },
    {
      "cell_type": "code",
      "metadata": {
        "id": "1eymvjbaYkzn"
      },
      "source": [
        "#Among all the diffrenet four catgories ETT, NGT, CVC, and SG the SG had the higheset accuracy.\n",
        "#The reason could be that it is a binary classification; hence, demands less computations from the CNN model side.\n",
        "#Another reason could be that the SG metric is quite clear and doesn't actually have particular hidden relationships to be discovered. "
      ],
      "execution_count": null,
      "outputs": []
    },
    {
      "cell_type": "markdown",
      "metadata": {
        "id": "QPPbJ6FywRGN"
      },
      "source": [
        "## Train Model CVC-Abnormal:"
      ]
    },
    {
      "cell_type": "code",
      "metadata": {
        "colab": {
          "base_uri": "https://localhost:8080/",
          "height": 305
        },
        "id": "bBWA5Y_1wQT6",
        "outputId": "bb9550cf-555d-453d-82a7-50e8cc53a4bd"
      },
      "source": [
        "#So, CVC-Abnormal is highly imbalanced! -> Therefore, the \"CVC-Abnormal\" model will overfit quickly! \n",
        "\n",
        "pd.DataFrame(y_train_added_CVC[:, 0]).value_counts().plot(kind = 'bar') #imbalanced"
      ],
      "execution_count": 43,
      "outputs": [
        {
          "output_type": "execute_result",
          "data": {
            "text/plain": [
              "<matplotlib.axes._subplots.AxesSubplot at 0x7f4170ad9f10>"
            ]
          },
          "metadata": {
            "tags": []
          },
          "execution_count": 43
        },
        {
          "output_type": "display_data",
          "data": {
            "image/png": "[encoded data removed]",
            "text/plain": [
              "<Figure size 432x288 with 1 Axes>"
            ]
          },
          "metadata": {
            "tags": [],
            "needs_background": "light"
          }
        }
      ]
    },
    {
      "cell_type": "code",
      "metadata": {
        "colab": {
          "base_uri": "https://localhost:8080/"
        },
        "id": "eU2EMKbycr2-",
        "outputId": "fccde9ec-3d92-4949-c51a-e81864fab0c2"
      },
      "source": [
        "!pwd"
      ],
      "execution_count": 44,
      "outputs": [
        {
          "output_type": "stream",
          "text": [
            "/content/drive/My Drive/train/500_data\n"
          ],
          "name": "stdout"
        }
      ]
    },
    {
      "cell_type": "markdown",
      "metadata": {
        "id": "E5s5OK6WoNJ-"
      },
      "source": [
        "##### The data:"
      ]
    },
    {
      "cell_type": "code",
      "metadata": {
        "colab": {
          "base_uri": "https://localhost:8080/"
        },
        "id": "HvMGXsf-oEKn",
        "outputId": "cf4e53d7-01be-40dc-8e70-c4866eecdb3d"
      },
      "source": [
        "#so far we had:\n",
        "\n",
        "print(x_train_added_CVC.shape) #verified!\n",
        "print(y_train_added_CVC.shape) #verified!\n",
        "print(x_test_CVC.shape)\n",
        "print(y_test_CVC.shape)"
      ],
      "execution_count": 45,
      "outputs": [
        {
          "output_type": "stream",
          "text": [
            "(447, 224, 224, 1)\n",
            "(447, 3)\n",
            "(53, 224, 224, 1)\n",
            "(53, 3)\n"
          ],
          "name": "stdout"
        }
      ]
    },
    {
      "cell_type": "code",
      "metadata": {
        "id": "J0YGMMSOoRB6"
      },
      "source": [
        "#We only need to change \"y\"s:\n",
        "\n",
        "y_train_added_CVC_abnormal = y_train_added_CVC[:, 0]\n",
        "y_test_CVC_abnormal = y_test_CVC[:, 0]"
      ],
      "execution_count": 46,
      "outputs": []
    },
    {
      "cell_type": "markdown",
      "metadata": {
        "id": "glqC02h0oVUN"
      },
      "source": [
        "#### Model:"
      ]
    },
    {
      "cell_type": "code",
      "metadata": {
        "colab": {
          "base_uri": "https://localhost:8080/"
        },
        "id": "X-ElhJtCoTnF",
        "outputId": "4bd666e5-a5bc-42ff-e517-0aeb5a9621ee"
      },
      "source": [
        "# build a sequential model\n",
        "\n",
        "model_CVC_abnormal = Sequential()\n",
        "# model.add(InputLayer(input_shape = (650, 650, 1), batch_size = 32))\n",
        "\n",
        "# 1st conv block\n",
        "model_CVC_abnormal.add(Conv2D(32, (3, 3), activation = 'relu', input_shape = (224, 224, 1))) #padding = 'same'     #or adding \"input_shape\" instead of defining a seperate \"InputLayer\" \n",
        "model_CVC_abnormal.add(MaxPool2D(pool_size = (2, 2)))\n",
        "# 2nd conv block\n",
        "model_CVC_abnormal.add(Conv2D(64, (3, 3), activation = 'relu'))\n",
        "model_CVC_abnormal.add(MaxPool2D(pool_size = (2, 2)))\n",
        "# 3rd conv block\n",
        "model_CVC_abnormal.add(Conv2D(64, (3, 3), activation = 'relu'))\n",
        "model_CVC_abnormal.add(MaxPool2D(pool_size = (2, 2)))\n",
        "model_CVC_abnormal.add(BatchNormalization())\n",
        "# ANN block\n",
        "model_CVC_abnormal.add(Flatten())\n",
        "model_CVC_abnormal.add(Dense(units = 128, activation = 'relu'))\n",
        "model_CVC_abnormal.add(Dense(units = 128, activation = 'relu'))\n",
        "model_CVC_abnormal.add(Dropout(0.5))\n",
        "# output layer\n",
        "model_CVC_abnormal.add(Dense(units = 1, activation = 'sigmoid'))\n",
        " \n",
        "# compile model\n",
        "model_CVC_abnormal.compile(loss = 'binary_crossentropy', optimizer = \"adam\", metrics = ['accuracy']) #categorical_crossentropy\n",
        "\n",
        "model_CVC_abnormal.summary()\n",
        "\n",
        "#Early Stopping\n",
        "from tensorflow.keras.callbacks import EarlyStopping\n",
        "early_stop = EarlyStopping(monitor = 'val_loss', patience = 1)\n",
        "\n",
        "\n",
        "# model.fit(x = Xtrain_scaled, y = ytrain, epochs = 1000, batch_size = 32, validation_split = 0.2) #callbacks = [early_stop])\n",
        "model_CVC_abnormal.fit(x = x_train_added_CVC, y = y_train_added_CVC_abnormal, epochs = 1000, batch_size = 32, validation_data = [x_test_CVC, y_test_CVC_abnormal], callbacks = [early_stop]) #callbacks = [early_stop])"
      ],
      "execution_count": 47,
      "outputs": [
        {
          "output_type": "stream",
          "text": [
            "Model: \"sequential\"\n",
            "_________________________________________________________________\n",
            "Layer (type)                 Output Shape              Param #   \n",
            "=================================================================\n",
            "conv2d (Conv2D)              (None, 222, 222, 32)      320       \n",
            "_________________________________________________________________\n",
            "max_pooling2d (MaxPooling2D) (None, 111, 111, 32)      0         \n",
            "_________________________________________________________________\n",
            "conv2d_1 (Conv2D)            (None, 109, 109, 64)      18496     \n",
            "_________________________________________________________________\n",
            "max_pooling2d_1 (MaxPooling2 (None, 54, 54, 64)        0         \n",
            "_________________________________________________________________\n",
            "conv2d_2 (Conv2D)            (None, 52, 52, 64)        36928     \n",
            "_________________________________________________________________\n",
            "max_pooling2d_2 (MaxPooling2 (None, 26, 26, 64)        0         \n",
            "_________________________________________________________________\n",
            "batch_normalization (BatchNo (None, 26, 26, 64)        256       \n",
            "_________________________________________________________________\n",
            "flatten (Flatten)            (None, 43264)             0         \n",
            "_________________________________________________________________\n",
            "dense (Dense)                (None, 128)               5537920   \n",
            "_________________________________________________________________\n",
            "dense_1 (Dense)              (None, 128)               16512     \n",
            "_________________________________________________________________\n",
            "dropout (Dropout)            (None, 128)               0         \n",
            "_________________________________________________________________\n",
            "dense_2 (Dense)              (None, 1)                 129       \n",
            "=================================================================\n",
            "Total params: 5,610,561\n",
            "Trainable params: 5,610,433\n",
            "Non-trainable params: 128\n",
            "_________________________________________________________________\n",
            "Train on 447 samples, validate on 53 samples\n",
            "Epoch 1/1000\n",
            "447/447 [==============================] - ETA: 0s - loss: 0.5107 - accuracy: 0.7808"
          ],
          "name": "stdout"
        },
        {
          "output_type": "stream",
          "text": [
            "/usr/local/lib/python3.7/dist-packages/tensorflow/python/keras/engine/training.py:2325: UserWarning: `Model.state_updates` will be removed in a future version. This property should not be used in TensorFlow 2.0, as `updates` are applied automatically.\n",
            "  warnings.warn('`Model.state_updates` will be removed in a future version. '\n"
          ],
          "name": "stderr"
        },
        {
          "output_type": "stream",
          "text": [
            "447/447 [==============================] - 34s 77ms/sample - loss: 0.5107 - accuracy: 0.7808 - val_loss: 0.4854 - val_accuracy: 0.9057\n",
            "Epoch 2/1000\n",
            "447/447 [==============================] - 1s 1ms/sample - loss: 0.4119 - accuracy: 0.8837 - val_loss: 0.6550 - val_accuracy: 0.9057\n"
          ],
          "name": "stdout"
        },
        {
          "output_type": "execute_result",
          "data": {
            "text/plain": [
              "<tensorflow.python.keras.callbacks.History at 0x7f41707548d0>"
            ]
          },
          "metadata": {
            "tags": []
          },
          "execution_count": 47
        }
      ]
    },
    {
      "cell_type": "code",
      "metadata": {
        "colab": {
          "base_uri": "https://localhost:8080/"
        },
        "id": "gx7MBZzsogb3",
        "outputId": "7fe67b86-a2f0-4098-da91-5d80559cd509"
      },
      "source": [
        "model_CVC_abnormal.metrics_names"
      ],
      "execution_count": 48,
      "outputs": [
        {
          "output_type": "execute_result",
          "data": {
            "text/plain": [
              "['loss', 'accuracy']"
            ]
          },
          "metadata": {
            "tags": []
          },
          "execution_count": 48
        }
      ]
    },
    {
      "cell_type": "code",
      "metadata": {
        "colab": {
          "base_uri": "https://localhost:8080/",
          "height": 110
        },
        "id": "0796qduUokRt",
        "outputId": "f55178b0-1750-4231-a7b2-a292a35f8ac1"
      },
      "source": [
        "metrics = pd.DataFrame(model_CVC_abnormal.history.history)\n",
        "metrics"
      ],
      "execution_count": 49,
      "outputs": [
        {
          "output_type": "execute_result",
          "data": {
            "text/html": [
              "<div>\n",
              "<style scoped>\n",
              "    .dataframe tbody tr th:only-of-type {\n",
              "        vertical-align: middle;\n",
              "    }\n",
              "\n",
              "    .dataframe tbody tr th {\n",
              "        vertical-align: top;\n",
              "    }\n",
              "\n",
              "    .dataframe thead th {\n",
              "        text-align: right;\n",
              "    }\n",
              "</style>\n",
              "<table border=\"1\" class=\"dataframe\">\n",
              "  <thead>\n",
              "    <tr style=\"text-align: right;\">\n",
              "      <th></th>\n",
              "      <th>loss</th>\n",
              "      <th>accuracy</th>\n",
              "      <th>val_loss</th>\n",
              "      <th>val_accuracy</th>\n",
              "    </tr>\n",
              "  </thead>\n",
              "  <tbody>\n",
              "    <tr>\n",
              "      <th>0</th>\n",
              "      <td>0.510722</td>\n",
              "      <td>0.780761</td>\n",
              "      <td>0.485381</td>\n",
              "      <td>0.90566</td>\n",
              "    </tr>\n",
              "    <tr>\n",
              "      <th>1</th>\n",
              "      <td>0.411883</td>\n",
              "      <td>0.883669</td>\n",
              "      <td>0.654961</td>\n",
              "      <td>0.90566</td>\n",
              "    </tr>\n",
              "  </tbody>\n",
              "</table>\n",
              "</div>"
            ],
            "text/plain": [
              "       loss  accuracy  val_loss  val_accuracy\n",
              "0  0.510722  0.780761  0.485381       0.90566\n",
              "1  0.411883  0.883669  0.654961       0.90566"
            ]
          },
          "metadata": {
            "tags": []
          },
          "execution_count": 49
        }
      ]
    },
    {
      "cell_type": "code",
      "metadata": {
        "colab": {
          "base_uri": "https://localhost:8080/",
          "height": 283
        },
        "id": "ZgfRzptSokWD",
        "outputId": "ce200f86-99f9-40cc-f73b-b177fcdf31ce"
      },
      "source": [
        "metrics[['loss', 'val_loss']].plot()"
      ],
      "execution_count": 50,
      "outputs": [
        {
          "output_type": "execute_result",
          "data": {
            "text/plain": [
              "<matplotlib.axes._subplots.AxesSubplot at 0x7f4170a82e10>"
            ]
          },
          "metadata": {
            "tags": []
          },
          "execution_count": 50
        },
        {
          "output_type": "display_data",
          "data": {
            "image/png": "[encoded data removed]",
            "text/plain": [
              "<Figure size 432x288 with 1 Axes>"
            ]
          },
          "metadata": {
            "tags": [],
            "needs_background": "light"
          }
        }
      ]
    },
    {
      "cell_type": "code",
      "metadata": {
        "colab": {
          "base_uri": "https://localhost:8080/",
          "height": 283
        },
        "id": "AVtq7I1hoka5",
        "outputId": "006c195d-9ef7-47c6-9b4d-ed9b29ad62d1"
      },
      "source": [
        "metrics[['accuracy', 'val_accuracy']].plot()"
      ],
      "execution_count": 51,
      "outputs": [
        {
          "output_type": "execute_result",
          "data": {
            "text/plain": [
              "<matplotlib.axes._subplots.AxesSubplot at 0x7f417067e690>"
            ]
          },
          "metadata": {
            "tags": []
          },
          "execution_count": 51
        },
        {
          "output_type": "display_data",
          "data": {
            "image/png": "[encoded data removed]",
            "text/plain": [
              "<Figure size 432x288 with 1 Axes>"
            ]
          },
          "metadata": {
            "tags": [],
            "needs_background": "light"
          }
        }
      ]
    },
    {
      "cell_type": "code",
      "metadata": {
        "colab": {
          "base_uri": "https://localhost:8080/"
        },
        "id": "QSnDTrH1okfT",
        "outputId": "679294c1-2c80-49e0-819a-65beee93b468"
      },
      "source": [
        "from sklearn.metrics import accuracy_score, confusion_matrix\n",
        "\n",
        "# predictions = model.predict_classes(x_test)\n",
        "# print(classification_report(y_true = y_test, y_pred = predictions))\n",
        "y_pred = model_CVC_abnormal.predict(x_test_CVC)\n",
        "# confusion_matrix(y_test, y_pred)\n",
        "# accuracy_score(y_test, y_pred)"
      ],
      "execution_count": 52,
      "outputs": [
        {
          "output_type": "stream",
          "text": [
            "/usr/local/lib/python3.7/dist-packages/tensorflow/python/keras/engine/training.py:2325: UserWarning: `Model.state_updates` will be removed in a future version. This property should not be used in TensorFlow 2.0, as `updates` are applied automatically.\n",
            "  warnings.warn('`Model.state_updates` will be removed in a future version. '\n"
          ],
          "name": "stderr"
        }
      ]
    },
    {
      "cell_type": "code",
      "metadata": {
        "colab": {
          "base_uri": "https://localhost:8080/"
        },
        "id": "3fdkh8kKoklO",
        "outputId": "877a37b0-de4e-4f47-db33-ca6ba6e124ad"
      },
      "source": [
        "x_test_CVC.shape"
      ],
      "execution_count": 53,
      "outputs": [
        {
          "output_type": "execute_result",
          "data": {
            "text/plain": [
              "(53, 224, 224, 1)"
            ]
          },
          "metadata": {
            "tags": []
          },
          "execution_count": 53
        }
      ]
    },
    {
      "cell_type": "code",
      "metadata": {
        "colab": {
          "base_uri": "https://localhost:8080/"
        },
        "id": "N5BkE4ZYokpf",
        "outputId": "c2282677-5e20-4868-a397-351bc571eb48"
      },
      "source": [
        "img_ex = x_test_CVC[0].reshape(224, 224) #img_ex -> x_test_CVC[0] -> y_test_CVC_abnormal[0]\n",
        "y_pred_CVC = model_CVC_abnormal.predict(img_ex.reshape(1, 224, 224, 1))\n",
        "y_pred_CVC.astype(np.int32)"
      ],
      "execution_count": 54,
      "outputs": [
        {
          "output_type": "execute_result",
          "data": {
            "text/plain": [
              "array([[0]], dtype=int32)"
            ]
          },
          "metadata": {
            "tags": []
          },
          "execution_count": 54
        }
      ]
    },
    {
      "cell_type": "code",
      "metadata": {
        "colab": {
          "base_uri": "https://localhost:8080/"
        },
        "id": "FMKr-9vqozuO",
        "outputId": "ff6eb3b6-7acd-4137-e05d-d32c9f42e82d"
      },
      "source": [
        "y_test_CVC_abnormal[0] #Same results!"
      ],
      "execution_count": 55,
      "outputs": [
        {
          "output_type": "execute_result",
          "data": {
            "text/plain": [
              "0"
            ]
          },
          "metadata": {
            "tags": []
          },
          "execution_count": 55
        }
      ]
    },
    {
      "cell_type": "code",
      "metadata": {
        "colab": {
          "base_uri": "https://localhost:8080/",
          "height": 287
        },
        "id": "Uj4UidZ9ozyg",
        "outputId": "923ba376-c083-4a15-ffb4-9a85bf3c4879"
      },
      "source": [
        "plt.imshow(img_ex, cmap=\"gray\")"
      ],
      "execution_count": 56,
      "outputs": [
        {
          "output_type": "execute_result",
          "data": {
            "text/plain": [
              "<matplotlib.image.AxesImage at 0x7f41705c20d0>"
            ]
          },
          "metadata": {
            "tags": []
          },
          "execution_count": 56
        },
        {
          "output_type": "display_data",
          "data": {
            "image/png": "[encoded data removed]",
            "text/plain": [
              "<Figure size 432x288 with 1 Axes>"
            ]
          },
          "metadata": {
            "tags": [],
            "needs_background": "light"
          }
        }
      ]
    },
    {
      "cell_type": "markdown",
      "metadata": {
        "id": "RZ_Vn4eppUan"
      },
      "source": [
        "## Train Model CVC-Borderline:"
      ]
    },
    {
      "cell_type": "code",
      "metadata": {
        "colab": {
          "base_uri": "https://localhost:8080/",
          "height": 305
        },
        "id": "6t5rTjP31esQ",
        "outputId": "0b57eb91-f612-4e4d-a010-c03f656b2dcb"
      },
      "source": [
        "#So, CVC-Borderline is highly imbalanced! -> Therefore, the \"CVC-Borderline\" model will overfit quickly! \n",
        "\n",
        "pd.DataFrame(y_train_added_CVC[:, 1]).value_counts().plot(kind = 'bar') #imbalanced"
      ],
      "execution_count": 57,
      "outputs": [
        {
          "output_type": "execute_result",
          "data": {
            "text/plain": [
              "<matplotlib.axes._subplots.AxesSubplot at 0x7f4170578550>"
            ]
          },
          "metadata": {
            "tags": []
          },
          "execution_count": 57
        },
        {
          "output_type": "display_data",
          "data": {
            "image/png": "[encoded data removed]",
            "text/plain": [
              "<Figure size 432x288 with 1 Axes>"
            ]
          },
          "metadata": {
            "tags": [],
            "needs_background": "light"
          }
        }
      ]
    },
    {
      "cell_type": "markdown",
      "metadata": {
        "id": "ZbxBqJcJpYmB"
      },
      "source": [
        "##### The data:"
      ]
    },
    {
      "cell_type": "code",
      "metadata": {
        "colab": {
          "base_uri": "https://localhost:8080/"
        },
        "id": "1kQDijppoz3Q",
        "outputId": "363ea74a-85f0-43ff-efed-11a3aa29614f"
      },
      "source": [
        "#so far we had:\n",
        "\n",
        "print(x_train_added_CVC.shape) #verified!\n",
        "print(y_train_added_CVC.shape) #verified!\n",
        "print(x_test_CVC.shape)\n",
        "print(y_test_CVC.shape)"
      ],
      "execution_count": 58,
      "outputs": [
        {
          "output_type": "stream",
          "text": [
            "(447, 224, 224, 1)\n",
            "(447, 3)\n",
            "(53, 224, 224, 1)\n",
            "(53, 3)\n"
          ],
          "name": "stdout"
        }
      ]
    },
    {
      "cell_type": "code",
      "metadata": {
        "id": "0EwrgMWuo0EM"
      },
      "source": [
        "#We only need to change \"y\"s:\n",
        "\n",
        "y_train_added_CVC_borderline = y_train_added_CVC[:, 1]\n",
        "y_test_CVC_borderline = y_test_CVC[:, 1]"
      ],
      "execution_count": 59,
      "outputs": []
    },
    {
      "cell_type": "markdown",
      "metadata": {
        "id": "a0nUS5xIpgLm"
      },
      "source": [
        "##### Model:"
      ]
    },
    {
      "cell_type": "code",
      "metadata": {
        "colab": {
          "base_uri": "https://localhost:8080/"
        },
        "id": "I7bumF70o0X2",
        "outputId": "e0263d40-fb43-4134-bb1f-a3143f475fd7"
      },
      "source": [
        "# build a sequential model\n",
        "\n",
        "model_CVC_borderline = Sequential()\n",
        "# model.add(InputLayer(input_shape = (650, 650, 1), batch_size = 32))\n",
        "\n",
        "# 1st conv block\n",
        "model_CVC_borderline.add(Conv2D(32, (3, 3), activation = 'relu', input_shape = (224, 224, 1))) #padding = 'same'     #or adding \"input_shape\" instead of defining a seperate \"InputLayer\" \n",
        "model_CVC_borderline.add(MaxPool2D(pool_size = (2, 2)))\n",
        "# 2nd conv block\n",
        "model_CVC_borderline.add(Conv2D(64, (3, 3), activation = 'relu'))\n",
        "model_CVC_borderline.add(MaxPool2D(pool_size = (2, 2)))\n",
        "# 3rd conv block\n",
        "model_CVC_borderline.add(Conv2D(64, (3, 3), activation = 'relu'))\n",
        "model_CVC_borderline.add(MaxPool2D(pool_size = (2, 2)))\n",
        "model_CVC_borderline.add(BatchNormalization())\n",
        "# ANN block\n",
        "model_CVC_borderline.add(Flatten())\n",
        "model_CVC_borderline.add(Dense(units = 128, activation = 'relu'))\n",
        "model_CVC_borderline.add(Dense(units = 128, activation = 'relu'))\n",
        "model_CVC_borderline.add(Dropout(0.5))\n",
        "# output layer\n",
        "model_CVC_borderline.add(Dense(units = 1, activation = 'sigmoid'))\n",
        " \n",
        "# compile model\n",
        "model_CVC_borderline.compile(loss = 'binary_crossentropy', optimizer = \"adam\", metrics = ['accuracy']) #categorical_crossentropy\n",
        "\n",
        "model_CVC_borderline.summary()\n",
        "\n",
        "#Early Stopping\n",
        "from tensorflow.keras.callbacks import EarlyStopping\n",
        "early_stop = EarlyStopping(monitor = 'val_loss', patience = 1)\n",
        "\n",
        "\n",
        "# model.fit(x = Xtrain_scaled, y = ytrain, epochs = 1000, batch_size = 32, validation_split = 0.2) #callbacks = [early_stop])\n",
        "model_CVC_borderline.fit(x = x_train_added_CVC, y = y_train_added_CVC_borderline, epochs = 1000, batch_size = 32, validation_data = [x_test_CVC, y_test_CVC_borderline], callbacks = [early_stop]) #callbacks = [early_stop])"
      ],
      "execution_count": 60,
      "outputs": [
        {
          "output_type": "stream",
          "text": [
            "Model: \"sequential_1\"\n",
            "_________________________________________________________________\n",
            "Layer (type)                 Output Shape              Param #   \n",
            "=================================================================\n",
            "conv2d_3 (Conv2D)            (None, 222, 222, 32)      320       \n",
            "_________________________________________________________________\n",
            "max_pooling2d_3 (MaxPooling2 (None, 111, 111, 32)      0         \n",
            "_________________________________________________________________\n",
            "conv2d_4 (Conv2D)            (None, 109, 109, 64)      18496     \n",
            "_________________________________________________________________\n",
            "max_pooling2d_4 (MaxPooling2 (None, 54, 54, 64)        0         \n",
            "_________________________________________________________________\n",
            "conv2d_5 (Conv2D)            (None, 52, 52, 64)        36928     \n",
            "_________________________________________________________________\n",
            "max_pooling2d_5 (MaxPooling2 (None, 26, 26, 64)        0         \n",
            "_________________________________________________________________\n",
            "batch_normalization_1 (Batch (None, 26, 26, 64)        256       \n",
            "_________________________________________________________________\n",
            "flatten_1 (Flatten)          (None, 43264)             0         \n",
            "_________________________________________________________________\n",
            "dense_3 (Dense)              (None, 128)               5537920   \n",
            "_________________________________________________________________\n",
            "dense_4 (Dense)              (None, 128)               16512     \n",
            "_________________________________________________________________\n",
            "dropout_1 (Dropout)          (None, 128)               0         \n",
            "_________________________________________________________________\n",
            "dense_5 (Dense)              (None, 1)                 129       \n",
            "=================================================================\n",
            "Total params: 5,610,561\n",
            "Trainable params: 5,610,433\n",
            "Non-trainable params: 128\n",
            "_________________________________________________________________\n",
            "Train on 447 samples, validate on 53 samples\n",
            "Epoch 1/1000\n",
            "447/447 [==============================] - 1s 2ms/sample - loss: 0.8047 - accuracy: 0.6040 - val_loss: 0.7162 - val_accuracy: 0.1509\n",
            "Epoch 2/1000\n",
            " 32/447 [=>............................] - ETA: 0s - loss: 0.6072 - accuracy: 0.6562"
          ],
          "name": "stdout"
        },
        {
          "output_type": "stream",
          "text": [
            "/usr/local/lib/python3.7/dist-packages/tensorflow/python/keras/engine/training.py:2325: UserWarning: `Model.state_updates` will be removed in a future version. This property should not be used in TensorFlow 2.0, as `updates` are applied automatically.\n",
            "  warnings.warn('`Model.state_updates` will be removed in a future version. '\n"
          ],
          "name": "stderr"
        },
        {
          "output_type": "stream",
          "text": [
            "447/447 [==============================] - 1s 1ms/sample - loss: 0.6131 - accuracy: 0.6756 - val_loss: 0.6131 - val_accuracy: 0.8491\n",
            "Epoch 3/1000\n",
            "447/447 [==============================] - 1s 1ms/sample - loss: 0.5853 - accuracy: 0.6779 - val_loss: 0.6098 - val_accuracy: 0.8491\n",
            "Epoch 4/1000\n",
            "447/447 [==============================] - 1s 1ms/sample - loss: 0.5845 - accuracy: 0.6846 - val_loss: 0.5625 - val_accuracy: 0.8491\n",
            "Epoch 5/1000\n",
            "447/447 [==============================] - 1s 1ms/sample - loss: 0.5087 - accuracy: 0.7360 - val_loss: 0.5123 - val_accuracy: 0.8491\n",
            "Epoch 6/1000\n",
            "447/447 [==============================] - 1s 1ms/sample - loss: 0.4792 - accuracy: 0.7696 - val_loss: 0.6197 - val_accuracy: 0.8491\n"
          ],
          "name": "stdout"
        },
        {
          "output_type": "execute_result",
          "data": {
            "text/plain": [
              "<tensorflow.python.keras.callbacks.History at 0x7f417034bc90>"
            ]
          },
          "metadata": {
            "tags": []
          },
          "execution_count": 60
        }
      ]
    },
    {
      "cell_type": "code",
      "metadata": {
        "colab": {
          "base_uri": "https://localhost:8080/"
        },
        "id": "SawBX74Qoktb",
        "outputId": "102c2548-c7db-4210-c769-da2f8331dadf"
      },
      "source": [
        "model_CVC_borderline.metrics_names"
      ],
      "execution_count": 61,
      "outputs": [
        {
          "output_type": "execute_result",
          "data": {
            "text/plain": [
              "['loss', 'accuracy']"
            ]
          },
          "metadata": {
            "tags": []
          },
          "execution_count": 61
        }
      ]
    },
    {
      "cell_type": "code",
      "metadata": {
        "colab": {
          "base_uri": "https://localhost:8080/",
          "height": 233
        },
        "id": "NuZGxJ-5okxV",
        "outputId": "582856d2-8266-4601-a8cb-ef172c5ceb93"
      },
      "source": [
        "metrics = pd.DataFrame(model_CVC_borderline.history.history)\n",
        "metrics"
      ],
      "execution_count": 62,
      "outputs": [
        {
          "output_type": "execute_result",
          "data": {
            "text/html": [
              "<div>\n",
              "<style scoped>\n",
              "    .dataframe tbody tr th:only-of-type {\n",
              "        vertical-align: middle;\n",
              "    }\n",
              "\n",
              "    .dataframe tbody tr th {\n",
              "        vertical-align: top;\n",
              "    }\n",
              "\n",
              "    .dataframe thead th {\n",
              "        text-align: right;\n",
              "    }\n",
              "</style>\n",
              "<table border=\"1\" class=\"dataframe\">\n",
              "  <thead>\n",
              "    <tr style=\"text-align: right;\">\n",
              "      <th></th>\n",
              "      <th>loss</th>\n",
              "      <th>accuracy</th>\n",
              "      <th>val_loss</th>\n",
              "      <th>val_accuracy</th>\n",
              "    </tr>\n",
              "  </thead>\n",
              "  <tbody>\n",
              "    <tr>\n",
              "      <th>0</th>\n",
              "      <td>0.804708</td>\n",
              "      <td>0.604027</td>\n",
              "      <td>0.716188</td>\n",
              "      <td>0.150943</td>\n",
              "    </tr>\n",
              "    <tr>\n",
              "      <th>1</th>\n",
              "      <td>0.613069</td>\n",
              "      <td>0.675615</td>\n",
              "      <td>0.613135</td>\n",
              "      <td>0.849057</td>\n",
              "    </tr>\n",
              "    <tr>\n",
              "      <th>2</th>\n",
              "      <td>0.585316</td>\n",
              "      <td>0.677852</td>\n",
              "      <td>0.609788</td>\n",
              "      <td>0.849057</td>\n",
              "    </tr>\n",
              "    <tr>\n",
              "      <th>3</th>\n",
              "      <td>0.584508</td>\n",
              "      <td>0.684564</td>\n",
              "      <td>0.562466</td>\n",
              "      <td>0.849057</td>\n",
              "    </tr>\n",
              "    <tr>\n",
              "      <th>4</th>\n",
              "      <td>0.508652</td>\n",
              "      <td>0.736018</td>\n",
              "      <td>0.512336</td>\n",
              "      <td>0.849057</td>\n",
              "    </tr>\n",
              "    <tr>\n",
              "      <th>5</th>\n",
              "      <td>0.479170</td>\n",
              "      <td>0.769575</td>\n",
              "      <td>0.619672</td>\n",
              "      <td>0.849057</td>\n",
              "    </tr>\n",
              "  </tbody>\n",
              "</table>\n",
              "</div>"
            ],
            "text/plain": [
              "       loss  accuracy  val_loss  val_accuracy\n",
              "0  0.804708  0.604027  0.716188      0.150943\n",
              "1  0.613069  0.675615  0.613135      0.849057\n",
              "2  0.585316  0.677852  0.609788      0.849057\n",
              "3  0.584508  0.684564  0.562466      0.849057\n",
              "4  0.508652  0.736018  0.512336      0.849057\n",
              "5  0.479170  0.769575  0.619672      0.849057"
            ]
          },
          "metadata": {
            "tags": []
          },
          "execution_count": 62
        }
      ]
    },
    {
      "cell_type": "code",
      "metadata": {
        "colab": {
          "base_uri": "https://localhost:8080/",
          "height": 283
        },
        "id": "OS_0erJ-ppCU",
        "outputId": "d59459b9-59c7-4008-d2f4-3f0e3dfac731"
      },
      "source": [
        "metrics[['loss', 'val_loss']].plot()"
      ],
      "execution_count": 63,
      "outputs": [
        {
          "output_type": "execute_result",
          "data": {
            "text/plain": [
              "<matplotlib.axes._subplots.AxesSubplot at 0x7f41704f4850>"
            ]
          },
          "metadata": {
            "tags": []
          },
          "execution_count": 63
        },
        {
          "output_type": "display_data",
          "data": {
            "image/png": "[encoded data removed]",
            "text/plain": [
              "<Figure size 432x288 with 1 Axes>"
            ]
          },
          "metadata": {
            "tags": [],
            "needs_background": "light"
          }
        }
      ]
    },
    {
      "cell_type": "code",
      "metadata": {
        "colab": {
          "base_uri": "https://localhost:8080/",
          "height": 283
        },
        "id": "Yq6uyTqyppG_",
        "outputId": "aeb210e3-f6d3-4b7b-9a64-2d21635fa8f4"
      },
      "source": [
        "metrics[['accuracy', 'val_accuracy']].plot()"
      ],
      "execution_count": 64,
      "outputs": [
        {
          "output_type": "execute_result",
          "data": {
            "text/plain": [
              "<matplotlib.axes._subplots.AxesSubplot at 0x7f417065af50>"
            ]
          },
          "metadata": {
            "tags": []
          },
          "execution_count": 64
        },
        {
          "output_type": "display_data",
          "data": {
            "image/png": "[encoded data removed]",
            "text/plain": [
              "<Figure size 432x288 with 1 Axes>"
            ]
          },
          "metadata": {
            "tags": [],
            "needs_background": "light"
          }
        }
      ]
    },
    {
      "cell_type": "code",
      "metadata": {
        "colab": {
          "base_uri": "https://localhost:8080/"
        },
        "id": "d3TvcC0MppLd",
        "outputId": "e15002fc-f39d-4f9e-849e-402a2eb6389d"
      },
      "source": [
        "from sklearn.metrics import accuracy_score, confusion_matrix\n",
        "\n",
        "# predictions = model.predict_classes(x_test)\n",
        "# print(classification_report(y_true = y_test, y_pred = predictions))\n",
        "y_pred = model_CVC_borderline.predict(x_test_CVC)\n",
        "# confusion_matrix(y_test, y_pred)\n",
        "# accuracy_score(y_test, y_pred)"
      ],
      "execution_count": 65,
      "outputs": [
        {
          "output_type": "stream",
          "text": [
            "/usr/local/lib/python3.7/dist-packages/tensorflow/python/keras/engine/training.py:2325: UserWarning: `Model.state_updates` will be removed in a future version. This property should not be used in TensorFlow 2.0, as `updates` are applied automatically.\n",
            "  warnings.warn('`Model.state_updates` will be removed in a future version. '\n"
          ],
          "name": "stderr"
        }
      ]
    },
    {
      "cell_type": "code",
      "metadata": {
        "colab": {
          "base_uri": "https://localhost:8080/"
        },
        "id": "9R7sRWOGppSx",
        "outputId": "997d5fe9-746c-46ea-b8a4-a7d6598a3a9f"
      },
      "source": [
        "x_test_CVC.shape"
      ],
      "execution_count": 66,
      "outputs": [
        {
          "output_type": "execute_result",
          "data": {
            "text/plain": [
              "(53, 224, 224, 1)"
            ]
          },
          "metadata": {
            "tags": []
          },
          "execution_count": 66
        }
      ]
    },
    {
      "cell_type": "code",
      "metadata": {
        "colab": {
          "base_uri": "https://localhost:8080/"
        },
        "id": "Le6i3D2Gp1xG",
        "outputId": "6157de70-9a92-4029-f079-6e1756d215c1"
      },
      "source": [
        "img_ex = x_test_CVC[0].reshape(224, 224) #img_ex -> x_test_CVC[0] -> y_test_CVC_borderline[0]\n",
        "y_pred_CVC = model_CVC_borderline.predict(img_ex.reshape(1, 224, 224, 1))\n",
        "y_pred_CVC.astype(np.int32)"
      ],
      "execution_count": 67,
      "outputs": [
        {
          "output_type": "execute_result",
          "data": {
            "text/plain": [
              "array([[0]], dtype=int32)"
            ]
          },
          "metadata": {
            "tags": []
          },
          "execution_count": 67
        }
      ]
    },
    {
      "cell_type": "code",
      "metadata": {
        "colab": {
          "base_uri": "https://localhost:8080/",
          "height": 287
        },
        "id": "_ofWOhUhp10v",
        "outputId": "f13435bc-ab91-4793-81a1-66cf45414231"
      },
      "source": [
        "plt.imshow(img_ex, cmap=\"gray\")"
      ],
      "execution_count": 68,
      "outputs": [
        {
          "output_type": "execute_result",
          "data": {
            "text/plain": [
              "<matplotlib.image.AxesImage at 0x7f417026fa90>"
            ]
          },
          "metadata": {
            "tags": []
          },
          "execution_count": 68
        },
        {
          "output_type": "display_data",
          "data": {
            "image/png": "[encoded data removed]",
            "text/plain": [
              "<Figure size 432x288 with 1 Axes>"
            ]
          },
          "metadata": {
            "tags": [],
            "needs_background": "light"
          }
        }
      ]
    },
    {
      "cell_type": "code",
      "metadata": {
        "colab": {
          "base_uri": "https://localhost:8080/"
        },
        "id": "wYS90k5Jp139",
        "outputId": "e8201064-ce05-4fae-b57b-0acfab537e3e"
      },
      "source": [
        "y_test_CVC_abnormal[0] #Same results!"
      ],
      "execution_count": 69,
      "outputs": [
        {
          "output_type": "execute_result",
          "data": {
            "text/plain": [
              "0"
            ]
          },
          "metadata": {
            "tags": []
          },
          "execution_count": 69
        }
      ]
    },
    {
      "cell_type": "markdown",
      "metadata": {
        "id": "Ec8dQeO_p9DG"
      },
      "source": [
        "## Train Model CVC-Normal:"
      ]
    },
    {
      "cell_type": "code",
      "metadata": {
        "colab": {
          "base_uri": "https://localhost:8080/",
          "height": 305
        },
        "id": "Y6yBqNh71t8t",
        "outputId": "e2197cde-da36-48b6-8438-7583c793ddb2"
      },
      "source": [
        "#So, CVC-Normal is highly imbalanced! -> Therefore, the \"CVC-Normal\" model will overfit quickly! \n",
        "#But compared to the CVC-Abnormal and CVC-Borderline, this is a bit better since it is less imbalanced.\n",
        "\n",
        "pd.DataFrame(y_train_added_CVC[:, 2]).value_counts().plot(kind = 'bar') #imbalanced"
      ],
      "execution_count": 70,
      "outputs": [
        {
          "output_type": "execute_result",
          "data": {
            "text/plain": [
              "<matplotlib.axes._subplots.AxesSubplot at 0x7f41704cf450>"
            ]
          },
          "metadata": {
            "tags": []
          },
          "execution_count": 70
        },
        {
          "output_type": "display_data",
          "data": {
            "image/png": "[encoded data removed]",
            "text/plain": [
              "<Figure size 432x288 with 1 Axes>"
            ]
          },
          "metadata": {
            "tags": [],
            "needs_background": "light"
          }
        }
      ]
    },
    {
      "cell_type": "code",
      "metadata": {
        "colab": {
          "base_uri": "https://localhost:8080/"
        },
        "id": "Xxrasg8ip170",
        "outputId": "2792dc36-0dd0-43b3-8082-5e7b4eca5e24"
      },
      "source": [
        "#so far we had:\n",
        "\n",
        "print(x_train_added_CVC.shape) #verified!\n",
        "print(y_train_added_CVC.shape) #verified!\n",
        "print(x_test_CVC.shape)\n",
        "print(y_test_CVC.shape)"
      ],
      "execution_count": 71,
      "outputs": [
        {
          "output_type": "stream",
          "text": [
            "(447, 224, 224, 1)\n",
            "(447, 3)\n",
            "(53, 224, 224, 1)\n",
            "(53, 3)\n"
          ],
          "name": "stdout"
        }
      ]
    },
    {
      "cell_type": "code",
      "metadata": {
        "id": "7bPA5IqRqETb"
      },
      "source": [
        "#We only need to change \"y\"s:\n",
        "\n",
        "y_train_added_CVC_normal = y_train_added_CVC[:, 2]\n",
        "y_test_CVC_normal = y_test_CVC[:, 2]"
      ],
      "execution_count": 72,
      "outputs": []
    },
    {
      "cell_type": "markdown",
      "metadata": {
        "id": "HqZArTzf6rv_"
      },
      "source": [
        "##### Model:"
      ]
    },
    {
      "cell_type": "code",
      "metadata": {
        "colab": {
          "base_uri": "https://localhost:8080/"
        },
        "id": "PWG2oO-6qGKn",
        "outputId": "b3252d4c-3dbd-4657-d0c9-38fbe91c6ce8"
      },
      "source": [
        "# build a sequential model\n",
        "\n",
        "model_CVC_normal = Sequential()\n",
        "# model.add(InputLayer(input_shape = (650, 650, 1), batch_size = 32))\n",
        "\n",
        "# 1st conv block\n",
        "model_CVC_normal.add(Conv2D(32, (3, 3), activation = 'relu', input_shape = (224, 224, 1))) #padding = 'same'     #or adding \"input_shape\" instead of defining a seperate \"InputLayer\" \n",
        "model_CVC_normal.add(MaxPool2D(pool_size = (2, 2)))\n",
        "# 2nd conv block\n",
        "model_CVC_normal.add(Conv2D(64, (3, 3), activation = 'relu'))\n",
        "model_CVC_normal.add(MaxPool2D(pool_size = (2, 2)))\n",
        "# 3rd conv block\n",
        "model_CVC_normal.add(Conv2D(64, (3, 3), activation = 'relu'))\n",
        "model_CVC_normal.add(MaxPool2D(pool_size = (2, 2)))\n",
        "model_CVC_normal.add(BatchNormalization())\n",
        "# ANN block\n",
        "model_CVC_normal.add(Flatten())\n",
        "model_CVC_normal.add(Dense(units = 128, activation = 'relu'))\n",
        "model_CVC_normal.add(Dense(units = 128, activation = 'relu'))\n",
        "model_CVC_normal.add(Dropout(0.5))\n",
        "# output layer\n",
        "model_CVC_normal.add(Dense(units = 1, activation = 'sigmoid'))\n",
        " \n",
        "# compile model\n",
        "model_CVC_normal.compile(loss = 'binary_crossentropy', optimizer = \"adam\", metrics = ['accuracy']) #categorical_crossentropy\n",
        "\n",
        "model_CVC_normal.summary()\n",
        "\n",
        "#Early Stopping\n",
        "from tensorflow.keras.callbacks import EarlyStopping\n",
        "early_stop = EarlyStopping(monitor = 'val_loss', patience = 1)\n",
        "\n",
        "\n",
        "# model.fit(x = Xtrain_scaled, y = ytrain, epochs = 1000, batch_size = 32, validation_split = 0.2) #callbacks = [early_stop])\n",
        "model_CVC_normal.fit(x = x_train_added_CVC, y = y_train_added_CVC_normal, epochs = 1000, batch_size = 32, validation_data = [x_test_CVC, y_test_CVC_normal], callbacks = [early_stop]) #callbacks = [early_stop])"
      ],
      "execution_count": 73,
      "outputs": [
        {
          "output_type": "stream",
          "text": [
            "Model: \"sequential_2\"\n",
            "_________________________________________________________________\n",
            "Layer (type)                 Output Shape              Param #   \n",
            "=================================================================\n",
            "conv2d_6 (Conv2D)            (None, 222, 222, 32)      320       \n",
            "_________________________________________________________________\n",
            "max_pooling2d_6 (MaxPooling2 (None, 111, 111, 32)      0         \n",
            "_________________________________________________________________\n",
            "conv2d_7 (Conv2D)            (None, 109, 109, 64)      18496     \n",
            "_________________________________________________________________\n",
            "max_pooling2d_7 (MaxPooling2 (None, 54, 54, 64)        0         \n",
            "_________________________________________________________________\n",
            "conv2d_8 (Conv2D)            (None, 52, 52, 64)        36928     \n",
            "_________________________________________________________________\n",
            "max_pooling2d_8 (MaxPooling2 (None, 26, 26, 64)        0         \n",
            "_________________________________________________________________\n",
            "batch_normalization_2 (Batch (None, 26, 26, 64)        256       \n",
            "_________________________________________________________________\n",
            "flatten_2 (Flatten)          (None, 43264)             0         \n",
            "_________________________________________________________________\n",
            "dense_6 (Dense)              (None, 128)               5537920   \n",
            "_________________________________________________________________\n",
            "dense_7 (Dense)              (None, 128)               16512     \n",
            "_________________________________________________________________\n",
            "dropout_2 (Dropout)          (None, 128)               0         \n",
            "_________________________________________________________________\n",
            "dense_8 (Dense)              (None, 1)                 129       \n",
            "=================================================================\n",
            "Total params: 5,610,561\n",
            "Trainable params: 5,610,433\n",
            "Non-trainable params: 128\n",
            "_________________________________________________________________\n",
            "Train on 447 samples, validate on 53 samples\n",
            "Epoch 1/1000\n",
            "447/447 [==============================] - 1s 2ms/sample - loss: 0.8744 - accuracy: 0.5928 - val_loss: 0.6546 - val_accuracy: 0.8113\n",
            "Epoch 2/1000\n",
            " 32/447 [=>............................] - ETA: 0s - loss: 0.7186 - accuracy: 0.6562"
          ],
          "name": "stdout"
        },
        {
          "output_type": "stream",
          "text": [
            "/usr/local/lib/python3.7/dist-packages/tensorflow/python/keras/engine/training.py:2325: UserWarning: `Model.state_updates` will be removed in a future version. This property should not be used in TensorFlow 2.0, as `updates` are applied automatically.\n",
            "  warnings.warn('`Model.state_updates` will be removed in a future version. '\n"
          ],
          "name": "stderr"
        },
        {
          "output_type": "stream",
          "text": [
            "447/447 [==============================] - 1s 1ms/sample - loss: 0.6440 - accuracy: 0.6711 - val_loss: 0.6423 - val_accuracy: 0.8113\n",
            "Epoch 3/1000\n",
            "447/447 [==============================] - 1s 1ms/sample - loss: 0.6156 - accuracy: 0.6823 - val_loss: 0.6285 - val_accuracy: 0.8113\n",
            "Epoch 4/1000\n",
            "447/447 [==============================] - 1s 1ms/sample - loss: 0.5812 - accuracy: 0.6868 - val_loss: 0.6397 - val_accuracy: 0.8113\n"
          ],
          "name": "stdout"
        },
        {
          "output_type": "execute_result",
          "data": {
            "text/plain": [
              "<tensorflow.python.keras.callbacks.History at 0x7f415c702ed0>"
            ]
          },
          "metadata": {
            "tags": []
          },
          "execution_count": 73
        }
      ]
    },
    {
      "cell_type": "code",
      "metadata": {
        "colab": {
          "base_uri": "https://localhost:8080/"
        },
        "id": "8IAhsA6aqJY2",
        "outputId": "110ff029-b68d-43b1-ca4c-a9c2ecf1dab8"
      },
      "source": [
        "model_CVC_normal.metrics_names"
      ],
      "execution_count": 74,
      "outputs": [
        {
          "output_type": "execute_result",
          "data": {
            "text/plain": [
              "['loss', 'accuracy']"
            ]
          },
          "metadata": {
            "tags": []
          },
          "execution_count": 74
        }
      ]
    },
    {
      "cell_type": "code",
      "metadata": {
        "colab": {
          "base_uri": "https://localhost:8080/",
          "height": 171
        },
        "id": "PTFWiUTFqMik",
        "outputId": "adfabb6e-551c-4c47-f360-c2f705fb2b8d"
      },
      "source": [
        "metrics = pd.DataFrame(model_CVC_normal.history.history)\n",
        "metrics"
      ],
      "execution_count": 75,
      "outputs": [
        {
          "output_type": "execute_result",
          "data": {
            "text/html": [
              "<div>\n",
              "<style scoped>\n",
              "    .dataframe tbody tr th:only-of-type {\n",
              "        vertical-align: middle;\n",
              "    }\n",
              "\n",
              "    .dataframe tbody tr th {\n",
              "        vertical-align: top;\n",
              "    }\n",
              "\n",
              "    .dataframe thead th {\n",
              "        text-align: right;\n",
              "    }\n",
              "</style>\n",
              "<table border=\"1\" class=\"dataframe\">\n",
              "  <thead>\n",
              "    <tr style=\"text-align: right;\">\n",
              "      <th></th>\n",
              "      <th>loss</th>\n",
              "      <th>accuracy</th>\n",
              "      <th>val_loss</th>\n",
              "      <th>val_accuracy</th>\n",
              "    </tr>\n",
              "  </thead>\n",
              "  <tbody>\n",
              "    <tr>\n",
              "      <th>0</th>\n",
              "      <td>0.874405</td>\n",
              "      <td>0.592841</td>\n",
              "      <td>0.654564</td>\n",
              "      <td>0.811321</td>\n",
              "    </tr>\n",
              "    <tr>\n",
              "      <th>1</th>\n",
              "      <td>0.644012</td>\n",
              "      <td>0.671141</td>\n",
              "      <td>0.642331</td>\n",
              "      <td>0.811321</td>\n",
              "    </tr>\n",
              "    <tr>\n",
              "      <th>2</th>\n",
              "      <td>0.615626</td>\n",
              "      <td>0.682327</td>\n",
              "      <td>0.628494</td>\n",
              "      <td>0.811321</td>\n",
              "    </tr>\n",
              "    <tr>\n",
              "      <th>3</th>\n",
              "      <td>0.581222</td>\n",
              "      <td>0.686801</td>\n",
              "      <td>0.639700</td>\n",
              "      <td>0.811321</td>\n",
              "    </tr>\n",
              "  </tbody>\n",
              "</table>\n",
              "</div>"
            ],
            "text/plain": [
              "       loss  accuracy  val_loss  val_accuracy\n",
              "0  0.874405  0.592841  0.654564      0.811321\n",
              "1  0.644012  0.671141  0.642331      0.811321\n",
              "2  0.615626  0.682327  0.628494      0.811321\n",
              "3  0.581222  0.686801  0.639700      0.811321"
            ]
          },
          "metadata": {
            "tags": []
          },
          "execution_count": 75
        }
      ]
    },
    {
      "cell_type": "code",
      "metadata": {
        "colab": {
          "base_uri": "https://localhost:8080/",
          "height": 283
        },
        "id": "A0K4OnOTqMnI",
        "outputId": "077c6fb2-ce88-46b4-f249-729ce5961ec6"
      },
      "source": [
        "metrics[['loss', 'val_loss']].plot()"
      ],
      "execution_count": 76,
      "outputs": [
        {
          "output_type": "execute_result",
          "data": {
            "text/plain": [
              "<matplotlib.axes._subplots.AxesSubplot at 0x7f415c6d1390>"
            ]
          },
          "metadata": {
            "tags": []
          },
          "execution_count": 76
        },
        {
          "output_type": "display_data",
          "data": {
            "image/png": "[encoded data removed]",
            "text/plain": [
              "<Figure size 432x288 with 1 Axes>"
            ]
          },
          "metadata": {
            "tags": [],
            "needs_background": "light"
          }
        }
      ]
    },
    {
      "cell_type": "code",
      "metadata": {
        "colab": {
          "base_uri": "https://localhost:8080/",
          "height": 283
        },
        "id": "GpKcxdZsqMq4",
        "outputId": "29d5cdb7-4d7a-4467-8733-69495607dcd2"
      },
      "source": [
        "metrics[['accuracy', 'val_accuracy']].plot()"
      ],
      "execution_count": 77,
      "outputs": [
        {
          "output_type": "execute_result",
          "data": {
            "text/plain": [
              "<matplotlib.axes._subplots.AxesSubplot at 0x7f415c6a7b50>"
            ]
          },
          "metadata": {
            "tags": []
          },
          "execution_count": 77
        },
        {
          "output_type": "display_data",
          "data": {
            "image/png": "[encoded data removed]",
            "text/plain": [
              "<Figure size 432x288 with 1 Axes>"
            ]
          },
          "metadata": {
            "tags": [],
            "needs_background": "light"
          }
        }
      ]
    },
    {
      "cell_type": "code",
      "metadata": {
        "colab": {
          "base_uri": "https://localhost:8080/"
        },
        "id": "-lItRyaXqMvk",
        "outputId": "25669231-c5f6-4226-ff82-63c0ab73d464"
      },
      "source": [
        "from sklearn.metrics import accuracy_score, confusion_matrix\n",
        "\n",
        "# predictions = model.predict_classes(x_test)\n",
        "# print(classification_report(y_true = y_test, y_pred = predictions))\n",
        "y_pred = model_CVC_normal.predict(x_test_CVC)\n",
        "# confusion_matrix(y_test, y_pred)\n",
        "# accuracy_score(y_test, y_pred)"
      ],
      "execution_count": 78,
      "outputs": [
        {
          "output_type": "stream",
          "text": [
            "/usr/local/lib/python3.7/dist-packages/tensorflow/python/keras/engine/training.py:2325: UserWarning: `Model.state_updates` will be removed in a future version. This property should not be used in TensorFlow 2.0, as `updates` are applied automatically.\n",
            "  warnings.warn('`Model.state_updates` will be removed in a future version. '\n"
          ],
          "name": "stderr"
        }
      ]
    },
    {
      "cell_type": "code",
      "metadata": {
        "colab": {
          "base_uri": "https://localhost:8080/"
        },
        "id": "geQMjgtoqWdD",
        "outputId": "c46780f2-3488-4870-cbfd-6176625a2379"
      },
      "source": [
        "img_ex = x_test_CVC[0].reshape(224, 224) #img_ex -> x_test_CVC[0] -> y_test_CVC_normal[0]\n",
        "y_pred_CVC = model_CVC_borderline.predict(img_ex.reshape(1, 224, 224, 1))\n",
        "y_pred_CVC.astype(np.int32)"
      ],
      "execution_count": 79,
      "outputs": [
        {
          "output_type": "execute_result",
          "data": {
            "text/plain": [
              "array([[0]], dtype=int32)"
            ]
          },
          "metadata": {
            "tags": []
          },
          "execution_count": 79
        }
      ]
    },
    {
      "cell_type": "code",
      "metadata": {
        "colab": {
          "base_uri": "https://localhost:8080/",
          "height": 287
        },
        "id": "TFXMPO2IqWgP",
        "outputId": "3451c642-838b-44c2-92c0-c4a51222cdf4"
      },
      "source": [
        "plt.imshow(img_ex, cmap=\"gray\")"
      ],
      "execution_count": 80,
      "outputs": [
        {
          "output_type": "execute_result",
          "data": {
            "text/plain": [
              "<matplotlib.image.AxesImage at 0x7f415c5df250>"
            ]
          },
          "metadata": {
            "tags": []
          },
          "execution_count": 80
        },
        {
          "output_type": "display_data",
          "data": {
            "image/png": "[encoded data removed]",
            "text/plain": [
              "<Figure size 432x288 with 1 Axes>"
            ]
          },
          "metadata": {
            "tags": [],
            "needs_background": "light"
          }
        }
      ]
    },
    {
      "cell_type": "code",
      "metadata": {
        "colab": {
          "base_uri": "https://localhost:8080/"
        },
        "id": "X7TQq6d2qWk8",
        "outputId": "23d162a7-9aea-4ed1-9622-5942e2865292"
      },
      "source": [
        "y_test_CVC_abnormal[0] #Same results!"
      ],
      "execution_count": 81,
      "outputs": [
        {
          "output_type": "execute_result",
          "data": {
            "text/plain": [
              "0"
            ]
          },
          "metadata": {
            "tags": []
          },
          "execution_count": 81
        }
      ]
    },
    {
      "cell_type": "markdown",
      "metadata": {
        "id": "q9yymvMjqhLi"
      },
      "source": [
        "## Results of the Three CVC Models:"
      ]
    },
    {
      "cell_type": "code",
      "metadata": {
        "id": "8NQLz5rcqWok"
      },
      "source": [
        "#The model performance has significantly increased after using binary classification for each CVC label."
      ],
      "execution_count": 82,
      "outputs": []
    },
    {
      "cell_type": "markdown",
      "metadata": {
        "id": "qmkVVj1wqrjQ"
      },
      "source": [
        "## Hyper-parameter Tunning:"
      ]
    },
    {
      "cell_type": "markdown",
      "metadata": {
        "id": "UvPVRaxXqybP"
      },
      "source": [
        "### 1. Typical Hyper Parameter Tunning:\n",
        "##### Learn more about at: <a href=\"https://towardsdatascience.com/simple-guide-to-hyperparameter-tuning-in-neural-networks-3fe03dad8594\" target=\"_blank\">Link</a>"
      ]
    },
    {
      "cell_type": "code",
      "metadata": {
        "colab": {
          "base_uri": "https://localhost:8080/"
        },
        "id": "WRto4M48qWtK",
        "outputId": "558a00c6-0ecb-4c56-86e6-bd8ad881d486"
      },
      "source": [
        "#Hyper parameter Tunning is applied on the CVC-normal model:\n",
        "from tensorflow.keras.callbacks import EarlyStopping\n",
        "from tensorflow.keras.optimizers import Adam, SGD, RMSprop\n",
        "\n",
        "result_metrics = []\n",
        "results_dic = []\n",
        "\n",
        "opt_lst = [Adam, SGD, RMSprop]\n",
        "lr_lst = [0.1, 0.01, 0.001]\n",
        "\n",
        "\n",
        "for opt in opt_lst:\n",
        "    for learning_rate in lr_lst:                \n",
        "        model_CVC_normal = Sequential()\n",
        "        model_CVC_normal.add(Conv2D(32, (3, 3), activation = 'relu', input_shape = (224, 224, 1))) #padding = 'same'     #or adding \"input_shape\" instead of defining a seperate \"InputLayer\" \n",
        "        model_CVC_normal.add(MaxPool2D(pool_size = (2, 2)))\n",
        "        model_CVC_normal.add(Conv2D(64, (3, 3), activation = 'relu'))\n",
        "        model_CVC_normal.add(MaxPool2D(pool_size = (2, 2)))\n",
        "        model_CVC_normal.add(Conv2D(64, (3, 3), activation = 'relu'))\n",
        "        model_CVC_normal.add(MaxPool2D(pool_size = (2, 2)))\n",
        "        model_CVC_normal.add(BatchNormalization())\n",
        "        model_CVC_normal.add(Flatten())\n",
        "        model_CVC_normal.add(Dense(units = 128, activation = 'relu'))\n",
        "        model_CVC_normal.add(Dense(units = 128, activation = 'relu'))\n",
        "        model_CVC_normal.add(Dropout(0.5))\n",
        "        model_CVC_normal.add(Dense(units = 1, activation = 'sigmoid'))\n",
        "        \n",
        "        optimizer = opt(lr = learning_rate)\n",
        "        model_CVC_normal.compile(loss = 'binary_crossentropy', optimizer = optimizer, metrics = ['accuracy'])\n",
        "        \n",
        "        early_stop = EarlyStopping(monitor = 'val_loss', patience = 1)\n",
        "\n",
        "        model_CVC_normal.fit(x = x_train_added_CVC, y = y_train_added_CVC_normal, epochs = 1000, batch_size = 32, validation_data = [x_test_CVC, y_test_CVC_normal], callbacks = [early_stop])\n",
        "\n",
        "        metrics = pd.DataFrame(model_CVC_normal.history.history)\n",
        "        result_metrics.append(metrics)\n",
        "        \n",
        "        dic = dict({'optimizer':opt, 'learninng rate':learning_rate, 'accuracy':metrics['accuracy'].iloc[-2], 'validation accuracy':metrics['val_accuracy'].iloc[-2], 'loss':metrics['loss'].iloc[-2], 'validation loss':metrics['val_loss'].iloc[-2], 'metrics':metrics})\n",
        "        results_dic.append(dic)"
      ],
      "execution_count": 83,
      "outputs": [
        {
          "output_type": "stream",
          "text": [
            "Train on 447 samples, validate on 53 samples\n",
            "Epoch 1/1000\n",
            "447/447 [==============================] - 1s 2ms/sample - loss: 318.1508 - accuracy: 0.5660 - val_loss: 10462.3687 - val_accuracy: 0.8113\n",
            "Epoch 2/1000\n"
          ],
          "name": "stdout"
        },
        {
          "output_type": "stream",
          "text": [
            "/usr/local/lib/python3.7/dist-packages/tensorflow/python/keras/engine/training.py:2325: UserWarning: `Model.state_updates` will be removed in a future version. This property should not be used in TensorFlow 2.0, as `updates` are applied automatically.\n",
            "  warnings.warn('`Model.state_updates` will be removed in a future version. '\n"
          ],
          "name": "stderr"
        },
        {
          "output_type": "stream",
          "text": [
            "447/447 [==============================] - 1s 1ms/sample - loss: 0.6398 - accuracy: 0.6868 - val_loss: 766.0399 - val_accuracy: 0.8113\n",
            "Epoch 3/1000\n",
            "447/447 [==============================] - 1s 1ms/sample - loss: 0.6238 - accuracy: 0.6868 - val_loss: 339.3476 - val_accuracy: 0.8113\n",
            "Epoch 4/1000\n",
            "447/447 [==============================] - 1s 1ms/sample - loss: 0.6221 - accuracy: 0.6868 - val_loss: 84.0208 - val_accuracy: 0.8113\n",
            "Epoch 5/1000\n",
            "447/447 [==============================] - 1s 1ms/sample - loss: 0.6241 - accuracy: 0.6868 - val_loss: 9.6571 - val_accuracy: 0.8113\n",
            "Epoch 6/1000\n",
            "447/447 [==============================] - 1s 1ms/sample - loss: 0.6246 - accuracy: 0.6868 - val_loss: 0.5086 - val_accuracy: 0.8113\n",
            "Epoch 7/1000\n",
            "447/447 [==============================] - 1s 1ms/sample - loss: 0.6207 - accuracy: 0.6868 - val_loss: 0.5287 - val_accuracy: 0.8113\n",
            "Train on 447 samples, validate on 53 samples\n",
            "Epoch 1/1000\n",
            "447/447 [==============================] - 1s 2ms/sample - loss: 5.7933 - accuracy: 0.5794 - val_loss: 5.2855 - val_accuracy: 0.8113\n",
            "Epoch 2/1000\n",
            "447/447 [==============================] - 1s 1ms/sample - loss: 1.5458 - accuracy: 0.5772 - val_loss: 18.8784 - val_accuracy: 0.4906\n",
            "Train on 447 samples, validate on 53 samples\n",
            "Epoch 1/1000\n",
            "447/447 [==============================] - 1s 2ms/sample - loss: 0.7219 - accuracy: 0.6174 - val_loss: 0.6472 - val_accuracy: 0.8113\n",
            "Epoch 2/1000\n",
            "447/447 [==============================] - 1s 1ms/sample - loss: 0.6291 - accuracy: 0.6980 - val_loss: 0.6189 - val_accuracy: 0.8113\n",
            "Epoch 3/1000\n",
            "447/447 [==============================] - 1s 1ms/sample - loss: 0.5979 - accuracy: 0.7136 - val_loss: 0.6224 - val_accuracy: 0.8113\n",
            "Train on 447 samples, validate on 53 samples\n",
            "Epoch 1/1000\n",
            "447/447 [==============================] - 1s 2ms/sample - loss: 3.7470 - accuracy: 0.5436 - val_loss: 3.2509 - val_accuracy: 0.8113\n",
            "Epoch 2/1000\n",
            "447/447 [==============================] - 1s 1ms/sample - loss: 0.7226 - accuracy: 0.6846 - val_loss: 0.4627 - val_accuracy: 0.8113\n",
            "Epoch 3/1000\n",
            "447/447 [==============================] - 1s 1ms/sample - loss: 0.6755 - accuracy: 0.6711 - val_loss: 0.6686 - val_accuracy: 0.8113\n",
            "Train on 447 samples, validate on 53 samples\n",
            "Epoch 1/1000\n",
            "447/447 [==============================] - 1s 2ms/sample - loss: 0.6856 - accuracy: 0.6510 - val_loss: 0.6853 - val_accuracy: 0.8113\n",
            "Epoch 2/1000\n",
            "447/447 [==============================] - 1s 1ms/sample - loss: 0.6324 - accuracy: 0.6756 - val_loss: 0.6725 - val_accuracy: 0.8113\n",
            "Epoch 3/1000\n",
            "447/447 [==============================] - 1s 1ms/sample - loss: 0.6144 - accuracy: 0.6913 - val_loss: 0.6738 - val_accuracy: 0.8113\n",
            "Train on 447 samples, validate on 53 samples\n",
            "Epoch 1/1000\n",
            "447/447 [==============================] - 1s 2ms/sample - loss: 0.6686 - accuracy: 0.6421 - val_loss: 0.6866 - val_accuracy: 0.7925\n",
            "Epoch 2/1000\n",
            "447/447 [==============================] - 1s 1ms/sample - loss: 0.6381 - accuracy: 0.6600 - val_loss: 0.6860 - val_accuracy: 0.7925\n",
            "Epoch 3/1000\n",
            "447/447 [==============================] - 1s 1ms/sample - loss: 0.6213 - accuracy: 0.6890 - val_loss: 0.6815 - val_accuracy: 0.8113\n",
            "Epoch 4/1000\n",
            "447/447 [==============================] - 1s 1ms/sample - loss: 0.6179 - accuracy: 0.6913 - val_loss: 0.6834 - val_accuracy: 0.8113\n",
            "Train on 447 samples, validate on 53 samples\n",
            "Epoch 1/1000\n",
            "447/447 [==============================] - 1s 3ms/sample - loss: 11527.1069 - accuracy: 0.5705 - val_loss: 4605.0165 - val_accuracy: 0.8113\n",
            "Epoch 2/1000\n",
            "447/447 [==============================] - 1s 2ms/sample - loss: 1.3661 - accuracy: 0.6846 - val_loss: 3004.2448 - val_accuracy: 0.8113\n",
            "Epoch 3/1000\n",
            "447/447 [==============================] - 1s 2ms/sample - loss: 2.4531 - accuracy: 0.6823 - val_loss: 1403.8928 - val_accuracy: 0.8113\n",
            "Epoch 4/1000\n",
            "447/447 [==============================] - 1s 2ms/sample - loss: 0.6229 - accuracy: 0.6868 - val_loss: 681.7785 - val_accuracy: 0.8113\n",
            "Epoch 5/1000\n",
            "447/447 [==============================] - 1s 2ms/sample - loss: 0.6352 - accuracy: 0.6868 - val_loss: 348.6687 - val_accuracy: 0.8113\n",
            "Epoch 6/1000\n",
            "447/447 [==============================] - 1s 2ms/sample - loss: 0.6518 - accuracy: 0.6846 - val_loss: 80.2971 - val_accuracy: 0.8113\n",
            "Epoch 7/1000\n",
            "447/447 [==============================] - 1s 1ms/sample - loss: 0.6234 - accuracy: 0.6868 - val_loss: 15.8965 - val_accuracy: 0.8113\n",
            "Epoch 8/1000\n",
            "447/447 [==============================] - 1s 1ms/sample - loss: 0.6243 - accuracy: 0.6868 - val_loss: 3.8260 - val_accuracy: 0.8113\n",
            "Epoch 9/1000\n",
            "447/447 [==============================] - 1s 1ms/sample - loss: 0.6244 - accuracy: 0.6868 - val_loss: 0.5331 - val_accuracy: 0.8113\n",
            "Epoch 10/1000\n",
            "447/447 [==============================] - 1s 1ms/sample - loss: 0.6229 - accuracy: 0.6868 - val_loss: 0.4954 - val_accuracy: 0.8113\n",
            "Epoch 11/1000\n",
            "447/447 [==============================] - 1s 1ms/sample - loss: 0.6241 - accuracy: 0.6868 - val_loss: 0.5217 - val_accuracy: 0.8113\n",
            "Train on 447 samples, validate on 53 samples\n",
            "Epoch 1/1000\n",
            "447/447 [==============================] - 1s 3ms/sample - loss: 43.3643 - accuracy: 0.5794 - val_loss: 27.5007 - val_accuracy: 0.8113\n",
            "Epoch 2/1000\n",
            "447/447 [==============================] - 1s 1ms/sample - loss: 0.9806 - accuracy: 0.6242 - val_loss: 12.8841 - val_accuracy: 0.8113\n",
            "Epoch 3/1000\n",
            "447/447 [==============================] - 1s 1ms/sample - loss: 0.9384 - accuracy: 0.6756 - val_loss: 11.1424 - val_accuracy: 0.2264\n",
            "Epoch 4/1000\n",
            "447/447 [==============================] - 1s 1ms/sample - loss: 0.7953 - accuracy: 0.6823 - val_loss: 1.0879 - val_accuracy: 0.7736\n",
            "Epoch 5/1000\n",
            "447/447 [==============================] - 1s 1ms/sample - loss: 0.6824 - accuracy: 0.6846 - val_loss: 0.8352 - val_accuracy: 0.7736\n",
            "Epoch 6/1000\n",
            "447/447 [==============================] - 1s 2ms/sample - loss: 0.6587 - accuracy: 0.6846 - val_loss: 1.9503 - val_accuracy: 0.6981\n",
            "Train on 447 samples, validate on 53 samples\n",
            "Epoch 1/1000\n",
            "447/447 [==============================] - 1s 3ms/sample - loss: 1.6032 - accuracy: 0.5951 - val_loss: 0.6072 - val_accuracy: 0.8113\n",
            "Epoch 2/1000\n",
            "447/447 [==============================] - 1s 2ms/sample - loss: 0.7063 - accuracy: 0.6443 - val_loss: 0.6089 - val_accuracy: 0.8113\n"
          ],
          "name": "stdout"
        }
      ]
    },
    {
      "cell_type": "code",
      "metadata": {
        "colab": {
          "base_uri": "https://localhost:8080/"
        },
        "id": "VcfVAcdvqMyy",
        "outputId": "56236936-fa52-4409-be52-80263c93ad48"
      },
      "source": [
        "max_acc_train = 0\n",
        "itr_tarin = 0\n",
        "max_acc_valid = 0\n",
        "itr_valid = 0\n",
        "\n",
        "for i in range(0, len(results_dic)):    \n",
        "    #finding the max training accuracy:\n",
        "    if results_dic[i]['accuracy'] > max_acc_train:\n",
        "        max_acc_train = results_dic[i]['accuracy']\n",
        "        itr_tarin = i\n",
        "    #finding the max validation accuracy:\n",
        "    if results_dic[i]['validation accuracy'] > max_acc_valid:\n",
        "        max_acc_valid = results_dic[i]['validation accuracy'] \n",
        "        itr_valid = i\n",
        "\n",
        "print('The maximum training accuracy occurs in the model with optimizer ({0}), learning rate {1}, and equals: {2} ' .format(results_dic[itr_tarin]['optimizer'], results_dic[itr_tarin]['learninng rate'], max_acc_train))\n",
        "print('also the test accuracy for that would be {0}' .format(results_dic[itr_tarin]['validation accuracy']))\n",
        "\n",
        "print('The maximum test accuracy occurs in the model with optimizer ({0}), learning rate {1}, and equals: {2} ' .format(results_dic[itr_valid]['optimizer'], results_dic[itr_valid]['learninng rate'], max_acc_valid))\n",
        "print('also the train accuracy for that would be {0}' .format(results_dic[itr_valid]['accuracy']))"
      ],
      "execution_count": 84,
      "outputs": [
        {
          "output_type": "stream",
          "text": [
            "The maximum training accuracy occurs in the model with optimizer (<class 'tensorflow.python.keras.optimizer_v2.adam.Adam'>), learning rate 0.001, and equals: 0.6979866027832031 \n",
            "also the test accuracy for that would be 0.8113207817077637\n",
            "The maximum test accuracy occurs in the model with optimizer (<class 'tensorflow.python.keras.optimizer_v2.adam.Adam'>), learning rate 0.1, and equals: 0.8113207817077637 \n",
            "also the train accuracy for that would be 0.6868008971214294\n"
          ],
          "name": "stdout"
        }
      ]
    },
    {
      "cell_type": "markdown",
      "metadata": {
        "id": "UXZ72DFc27xf"
      },
      "source": [
        "##### Results:"
      ]
    },
    {
      "cell_type": "code",
      "metadata": {
        "id": "NYrhmMzs230P"
      },
      "source": [
        "#So in CVC-Normal:\n",
        "#1. The max training accuracy occurs in model with \"Adam\" optimizer and learning_rate \"0.001\", and train_accuracy = 69.79% (also the test_accuracy = 81.13%)\n",
        "#2.The max test accuracy occurs in model with \"Adam\" optimizer and learning rate \"0.1\", and test_accuracy = 81.13% (also the train_accuracy = 68.68%)\n",
        "\n",
        "\n",
        "#All in all, both of these model have a similar test accuracy. But the first one has higher train accuracy.\n",
        "#Therefore, the first model with \"Adam\" optimizer and \"0.001\" learning rate."
      ],
      "execution_count": 86,
      "outputs": []
    },
    {
      "cell_type": "markdown",
      "metadata": {
        "id": "4pd2j9xj3Xqo"
      },
      "source": [
        "### 2. K-Fold Cross Validation on the best model found for CVC-Normal in part 1:"
      ]
    },
    {
      "cell_type": "code",
      "metadata": {
        "id": "9aXlAC3_234b"
      },
      "source": [
        "# using the best model found in the previous part:\n",
        "def create_model():\n",
        "    model_CVC_normal = Sequential()\n",
        "    model_CVC_normal.add(Conv2D(32, (3, 3), activation = 'relu', input_shape = (224, 224, 1))) #padding = 'same'     #or adding \"input_shape\" instead of defining a seperate \"InputLayer\" \n",
        "    model_CVC_normal.add(MaxPool2D(pool_size = (2, 2)))\n",
        "    model_CVC_normal.add(Conv2D(64, (3, 3), activation = 'relu'))\n",
        "    model_CVC_normal.add(MaxPool2D(pool_size = (2, 2)))\n",
        "    model_CVC_normal.add(Conv2D(64, (3, 3), activation = 'relu'))\n",
        "    model_CVC_normal.add(MaxPool2D(pool_size = (2, 2)))\n",
        "    model_CVC_normal.add(BatchNormalization())\n",
        "    model_CVC_normal.add(Flatten())\n",
        "    model_CVC_normal.add(Dense(units = 128, activation = 'relu'))\n",
        "    model_CVC_normal.add(Dense(units = 128, activation = 'relu'))\n",
        "    model_CVC_normal.add(Dropout(0.5))\n",
        "    model_CVC_normal.add(Dense(units = 1, activation = 'sigmoid'))\n",
        "        \n",
        "    optimizer = Adam(lr = 0.001)\n",
        "    model_CVC_normal.compile(loss = 'binary_crossentropy', optimizer = optimizer, metrics = ['accuracy'])\n",
        "        \n",
        "    return model_CVC_normal"
      ],
      "execution_count": 87,
      "outputs": []
    },
    {
      "cell_type": "code",
      "metadata": {
        "id": "ayBJqxRR238d"
      },
      "source": [
        "from tensorflow.keras.wrappers.scikit_learn import KerasClassifier\n",
        "neural_network = KerasClassifier(build_fn=create_model, \n",
        "                                 epochs=2, \n",
        "                                 batch_size=32, \n",
        "                                 verbose=0)"
      ],
      "execution_count": 88,
      "outputs": []
    },
    {
      "cell_type": "code",
      "metadata": {
        "colab": {
          "base_uri": "https://localhost:8080/"
        },
        "id": "7RSyPHuD3iaf",
        "outputId": "852cce8b-10e8-465d-fa62-92cecde11f85"
      },
      "source": [
        "from sklearn.model_selection import cross_val_score\n",
        "\n",
        "accuracies = cross_val_score(estimator = neural_network, X = x_train_added_CVC, y = y_train_added_CVC_normal, cv = 10)\n",
        "\n",
        "print(\"Accuracy: {:.2f} %\".format(accuracies.mean()*100))\n",
        "print(\"Standard Deviation: {:.2f} %\".format(accuracies.std()*100))"
      ],
      "execution_count": 89,
      "outputs": [
        {
          "output_type": "stream",
          "text": [
            "/usr/local/lib/python3.7/dist-packages/tensorflow/python/keras/engine/training.py:2325: UserWarning: `Model.state_updates` will be removed in a future version. This property should not be used in TensorFlow 2.0, as `updates` are applied automatically.\n",
            "  warnings.warn('`Model.state_updates` will be removed in a future version. '\n"
          ],
          "name": "stderr"
        },
        {
          "output_type": "stream",
          "text": [
            "Accuracy: 65.73 %\n",
            "Standard Deviation: 11.41 %\n"
          ],
          "name": "stdout"
        }
      ]
    },
    {
      "cell_type": "markdown",
      "metadata": {
        "id": "i6T4RiJf40ld"
      },
      "source": [
        "##### Results:"
      ]
    },
    {
      "cell_type": "code",
      "metadata": {
        "id": "zwpjZX-L3ieh"
      },
      "source": [
        "#Using K-Fold Cross Validation technique, the average accuacry over 10 folds is: 65.73%\n",
        "#And the standard deviation of the accuracies is: 11.41%\n",
        "#(Clearly, the results for the 5411-image dataset are better than those of the 500-image dataset!!)"
      ],
      "execution_count": 90,
      "outputs": []
    },
    {
      "cell_type": "markdown",
      "metadata": {
        "id": "_vxikAxy5pcr"
      },
      "source": [
        "### 3. Grid Search for batch sizes on the best model found for CVC-Normal in part 1: \n",
        "##### Learn more about at: <a href=\"https://machinelearningmastery.com/grid-search-hyperparameters-deep-learning-models-python-keras/\" target=\"_blank\">Link</a>"
      ]
    },
    {
      "cell_type": "code",
      "metadata": {
        "id": "KPj3C2qj3iiO"
      },
      "source": [
        "# using the best model found in the previous part:\n",
        "def create_model():\n",
        "    model_CVC_normal = Sequential()\n",
        "    model_CVC_normal.add(Conv2D(32, (3, 3), activation = 'relu', input_shape = (224, 224, 1))) #padding = 'same'     #or adding \"input_shape\" instead of defining a seperate \"InputLayer\" \n",
        "    model_CVC_normal.add(MaxPool2D(pool_size = (2, 2)))\n",
        "    model_CVC_normal.add(Conv2D(64, (3, 3), activation = 'relu'))\n",
        "    model_CVC_normal.add(MaxPool2D(pool_size = (2, 2)))\n",
        "    model_CVC_normal.add(Conv2D(64, (3, 3), activation = 'relu'))\n",
        "    model_CVC_normal.add(MaxPool2D(pool_size = (2, 2)))\n",
        "    model_CVC_normal.add(BatchNormalization())\n",
        "    model_CVC_normal.add(Flatten())\n",
        "    model_CVC_normal.add(Dense(units = 128, activation = 'relu'))\n",
        "    model_CVC_normal.add(Dense(units = 128, activation = 'relu'))\n",
        "    model_CVC_normal.add(Dropout(0.5))\n",
        "    model_CVC_normal.add(Dense(units = 1, activation = 'sigmoid'))\n",
        "        \n",
        "    optimizer = Adam(lr = 0.001)\n",
        "    model_CVC_normal.compile(loss = 'binary_crossentropy', optimizer = optimizer, metrics = ['accuracy'])\n",
        "        \n",
        "    return model_CVC_normal"
      ],
      "execution_count": 91,
      "outputs": []
    },
    {
      "cell_type": "code",
      "metadata": {
        "id": "RhfFEYk93imK"
      },
      "source": [
        "from tensorflow.keras.wrappers.scikit_learn import KerasClassifier\n",
        "neural_network = KerasClassifier(build_fn=create_model,\n",
        "                                 verbose=0)"
      ],
      "execution_count": 92,
      "outputs": []
    },
    {
      "cell_type": "code",
      "metadata": {
        "id": "MgeSNpXy3i8p"
      },
      "source": [
        "batch_size = [10, 32, 100]\n",
        "epochs = [2, 5, 10]"
      ],
      "execution_count": 93,
      "outputs": []
    },
    {
      "cell_type": "code",
      "metadata": {
        "colab": {
          "base_uri": "https://localhost:8080/"
        },
        "id": "yVJpbQP224Ba",
        "outputId": "9efd4a67-387e-4fc6-a64d-13cc624acd57"
      },
      "source": [
        "from sklearn.model_selection import cross_val_score\n",
        "\n",
        "accuracies = cross_val_score(estimator = neural_network, X = x_train_added_CVC, y = y_train_added_CVC_normal, cv = 10)\n",
        "\n",
        "print(\"Accuracy: {:.2f} %\".format(accuracies.mean()*100))\n",
        "print(\"Standard Deviation: {:.2f} %\".format(accuracies.std()*100))"
      ],
      "execution_count": 94,
      "outputs": [
        {
          "output_type": "stream",
          "text": [
            "/usr/local/lib/python3.7/dist-packages/tensorflow/python/keras/engine/training.py:2325: UserWarning: `Model.state_updates` will be removed in a future version. This property should not be used in TensorFlow 2.0, as `updates` are applied automatically.\n",
            "  warnings.warn('`Model.state_updates` will be removed in a future version. '\n"
          ],
          "name": "stderr"
        },
        {
          "output_type": "stream",
          "text": [
            "Accuracy: 59.30 %\n",
            "Standard Deviation: 16.46 %\n"
          ],
          "name": "stdout"
        }
      ]
    },
    {
      "cell_type": "markdown",
      "metadata": {
        "id": "8l2dLZnE6AiC"
      },
      "source": [
        "##### Results:"
      ]
    },
    {
      "cell_type": "code",
      "metadata": {
        "id": "HvRtKy2u58Q5"
      },
      "source": [
        "#Using the Grid Search technique, the best accuracy is: 59.30%\n",
        "#Which is achieved through: 16.46%\n",
        "#The accuracy has changed, so the batch_size and also the epochs is imortant."
      ],
      "execution_count": 95,
      "outputs": []
    },
    {
      "cell_type": "code",
      "metadata": {
        "id": "zkLPEPcP9TG_"
      },
      "source": [
        ""
      ],
      "execution_count": null,
      "outputs": []
    }
  ]
}